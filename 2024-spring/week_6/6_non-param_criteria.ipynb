{
 "cells": [
  {
   "cell_type": "markdown",
   "metadata": {
    "toc": true
   },
   "source": [
    "<h1>Table of Contents<span class=\"tocSkip\"></span></h1>\n",
    "<div class=\"toc\"><ul class=\"toc-item\"><li><span><a href=\"#Непараметрические-критерии\" data-toc-modified-id=\"Непараметрические-критерии-1\">Непараметрические критерии</a></span><ul class=\"toc-item\"><li><span><a href=\"#Одновыборочные-критерии\" data-toc-modified-id=\"Одновыборочные-критерии-1.1\">Одновыборочные критерии</a></span><ul class=\"toc-item\"><li><span><a href=\"#Критерий-знаков\" data-toc-modified-id=\"Критерий-знаков-1.1.1\">Критерий знаков</a></span></li><li><span><a href=\"#Критерий-Уилкоксона-(ранговый)\" data-toc-modified-id=\"Критерий-Уилкоксона-(ранговый)-1.1.2\">Критерий Уилкоксона (ранговый)</a></span></li></ul></li><li><span><a href=\"#Двухвыборочные-(связные-выборки)\" data-toc-modified-id=\"Двухвыборочные-(связные-выборки)-1.2\">Двухвыборочные (связные выборки)</a></span><ul class=\"toc-item\"><li><span><a href=\"#Критерий-знаков\" data-toc-modified-id=\"Критерий-знаков-1.2.1\">Критерий знаков</a></span></li><li><span><a href=\"#Критерий-Уилкоксона--(ранговый)\" data-toc-modified-id=\"Критерий-Уилкоксона--(ранговый)-1.2.2\">Критерий Уилкоксона  (ранговый)</a></span></li></ul></li><li><span><a href=\"#Двухвыборочные-(несвязанные-выборки)\" data-toc-modified-id=\"Двухвыборочные-(несвязанные-выборки)-1.3\">Двухвыборочные (несвязанные выборки)</a></span><ul class=\"toc-item\"><li><span><a href=\"#Критерий-Манна-Уитни--(ранговый)\" data-toc-modified-id=\"Критерий-Манна-Уитни--(ранговый)-1.3.1\">Критерий Манна-Уитни  (ранговый)</a></span></li><li><span><a href=\"#Откуда-берется-табличное-распределение\" data-toc-modified-id=\"Откуда-берется-табличное-распределение-1.3.2\">Откуда берется табличное распределение</a></span></li></ul></li></ul></li><li><span><a href=\"#Критерии-согласия-и-однородности\" data-toc-modified-id=\"Критерии-согласия-и-однородности-2\">Критерии согласия и однородности</a></span><ul class=\"toc-item\"><li><span><a href=\"#Критерий-Колмогорова\" data-toc-modified-id=\"Критерий-Колмогорова-2.1\">Критерий Колмогорова</a></span><ul class=\"toc-item\"><li><span><a href=\"#Искусственные-примеры\" data-toc-modified-id=\"Искусственные-примеры-2.1.1\">Искусственные примеры</a></span></li></ul></li><li><span><a href=\"#Андерсон-Дарлинг-и-нормальность-распределения-акций\" data-toc-modified-id=\"Андерсон-Дарлинг-и-нормальность-распределения-акций-2.2\">Андерсон-Дарлинг и нормальность распределения акций</a></span></li><li><span><a href=\"#Однородность-выборок\" data-toc-modified-id=\"Однородность-выборок-2.3\">Однородность выборок</a></span></li><li><span><a href=\"#Критерий-Пирсона\" data-toc-modified-id=\"Критерий-Пирсона-2.4\">Критерий Пирсона</a></span><ul class=\"toc-item\"><li><span><a href=\"#Число-пи,-дискретное-распределение\" data-toc-modified-id=\"Число-пи,-дискретное-распределение-2.4.1\">Число пи, дискретное распределение</a></span></li><li><span><a href=\"#Экспоненциальное-распределение-(непрерывное)\" data-toc-modified-id=\"Экспоненциальное-распределение-(непрерывное)-2.4.2\">Экспоненциальное распределение (непрерывное)</a></span></li><li><span><a href=\"#Снова-однородность\" data-toc-modified-id=\"Снова-однородность-2.4.3\">Снова однородность</a></span></li></ul></li></ul></li></ul></div>"
   ]
  },
  {
   "cell_type": "markdown",
   "metadata": {
    "id": "S_EhkxBUJu5k"
   },
   "source": [
    "\n",
    "\n",
    "# Непараметрические критерии\n",
    "\n",
    "В этой тетрадке речь пойдёт про непараметрические критерии."
   ]
  },
  {
   "cell_type": "code",
   "execution_count": 1,
   "metadata": {
    "id": "oaZYGp2HJu5m"
   },
   "outputs": [],
   "source": [
    "import numpy as np\n",
    "import pandas as pd\n",
    "from scipy import stats\n",
    "import seaborn as sns\n",
    "import matplotlib.pyplot as plt\n",
    "\n",
    "plt.style.use('ggplot')\n",
    "%matplotlib inline"
   ]
  },
  {
   "cell_type": "markdown",
   "metadata": {
    "id": "8tHmNiTUJu5o"
   },
   "source": [
    "Будем исследовать данные про счастье :) "
   ]
  },
  {
   "cell_type": "code",
   "execution_count": 2,
   "metadata": {
    "id": "MpoKghuZJu5p",
    "outputId": "051a304b-456f-472b-9ab2-c6e369b5c134"
   },
   "outputs": [
    {
     "data": {
      "text/html": [
       "<div>\n",
       "<style scoped>\n",
       "    .dataframe tbody tr th:only-of-type {\n",
       "        vertical-align: middle;\n",
       "    }\n",
       "\n",
       "    .dataframe tbody tr th {\n",
       "        vertical-align: top;\n",
       "    }\n",
       "\n",
       "    .dataframe thead th {\n",
       "        text-align: right;\n",
       "    }\n",
       "</style>\n",
       "<table border=\"1\" class=\"dataframe\">\n",
       "  <thead>\n",
       "    <tr style=\"text-align: right;\">\n",
       "      <th></th>\n",
       "      <th>Country</th>\n",
       "      <th>Region</th>\n",
       "      <th>Happiness Rank</th>\n",
       "      <th>Happiness Score</th>\n",
       "      <th>Standard Error</th>\n",
       "      <th>Economy (GDP per Capita)</th>\n",
       "      <th>Family</th>\n",
       "      <th>Health (Life Expectancy)</th>\n",
       "      <th>Freedom</th>\n",
       "      <th>Trust (Government Corruption)</th>\n",
       "      <th>Generosity</th>\n",
       "      <th>Dystopia Residual</th>\n",
       "    </tr>\n",
       "  </thead>\n",
       "  <tbody>\n",
       "    <tr>\n",
       "      <th>0</th>\n",
       "      <td>Switzerland</td>\n",
       "      <td>Western Europe</td>\n",
       "      <td>1</td>\n",
       "      <td>7.587</td>\n",
       "      <td>0.03411</td>\n",
       "      <td>1.39651</td>\n",
       "      <td>1.34951</td>\n",
       "      <td>0.94143</td>\n",
       "      <td>0.66557</td>\n",
       "      <td>0.41978</td>\n",
       "      <td>0.29678</td>\n",
       "      <td>2.51738</td>\n",
       "    </tr>\n",
       "    <tr>\n",
       "      <th>1</th>\n",
       "      <td>Iceland</td>\n",
       "      <td>Western Europe</td>\n",
       "      <td>2</td>\n",
       "      <td>7.561</td>\n",
       "      <td>0.04884</td>\n",
       "      <td>1.30232</td>\n",
       "      <td>1.40223</td>\n",
       "      <td>0.94784</td>\n",
       "      <td>0.62877</td>\n",
       "      <td>0.14145</td>\n",
       "      <td>0.43630</td>\n",
       "      <td>2.70201</td>\n",
       "    </tr>\n",
       "    <tr>\n",
       "      <th>2</th>\n",
       "      <td>Denmark</td>\n",
       "      <td>Western Europe</td>\n",
       "      <td>3</td>\n",
       "      <td>7.527</td>\n",
       "      <td>0.03328</td>\n",
       "      <td>1.32548</td>\n",
       "      <td>1.36058</td>\n",
       "      <td>0.87464</td>\n",
       "      <td>0.64938</td>\n",
       "      <td>0.48357</td>\n",
       "      <td>0.34139</td>\n",
       "      <td>2.49204</td>\n",
       "    </tr>\n",
       "    <tr>\n",
       "      <th>3</th>\n",
       "      <td>Norway</td>\n",
       "      <td>Western Europe</td>\n",
       "      <td>4</td>\n",
       "      <td>7.522</td>\n",
       "      <td>0.03880</td>\n",
       "      <td>1.45900</td>\n",
       "      <td>1.33095</td>\n",
       "      <td>0.88521</td>\n",
       "      <td>0.66973</td>\n",
       "      <td>0.36503</td>\n",
       "      <td>0.34699</td>\n",
       "      <td>2.46531</td>\n",
       "    </tr>\n",
       "    <tr>\n",
       "      <th>4</th>\n",
       "      <td>Canada</td>\n",
       "      <td>North America</td>\n",
       "      <td>5</td>\n",
       "      <td>7.427</td>\n",
       "      <td>0.03553</td>\n",
       "      <td>1.32629</td>\n",
       "      <td>1.32261</td>\n",
       "      <td>0.90563</td>\n",
       "      <td>0.63297</td>\n",
       "      <td>0.32957</td>\n",
       "      <td>0.45811</td>\n",
       "      <td>2.45176</td>\n",
       "    </tr>\n",
       "  </tbody>\n",
       "</table>\n",
       "</div>"
      ],
      "text/plain": [
       "       Country          Region  Happiness Rank  Happiness Score  \\\n",
       "0  Switzerland  Western Europe               1            7.587   \n",
       "1      Iceland  Western Europe               2            7.561   \n",
       "2      Denmark  Western Europe               3            7.527   \n",
       "3       Norway  Western Europe               4            7.522   \n",
       "4       Canada   North America               5            7.427   \n",
       "\n",
       "   Standard Error  Economy (GDP per Capita)   Family  \\\n",
       "0         0.03411                   1.39651  1.34951   \n",
       "1         0.04884                   1.30232  1.40223   \n",
       "2         0.03328                   1.32548  1.36058   \n",
       "3         0.03880                   1.45900  1.33095   \n",
       "4         0.03553                   1.32629  1.32261   \n",
       "\n",
       "   Health (Life Expectancy)  Freedom  Trust (Government Corruption)  \\\n",
       "0                   0.94143  0.66557                        0.41978   \n",
       "1                   0.94784  0.62877                        0.14145   \n",
       "2                   0.87464  0.64938                        0.48357   \n",
       "3                   0.88521  0.66973                        0.36503   \n",
       "4                   0.90563  0.63297                        0.32957   \n",
       "\n",
       "   Generosity  Dystopia Residual  \n",
       "0     0.29678            2.51738  \n",
       "1     0.43630            2.70201  \n",
       "2     0.34139            2.49204  \n",
       "3     0.34699            2.46531  \n",
       "4     0.45811            2.45176  "
      ]
     },
     "execution_count": 2,
     "metadata": {},
     "output_type": "execute_result"
    }
   ],
   "source": [
    "df_2015 = pd.read_csv(\"2015.csv\")\n",
    "df_2015.head()"
   ]
  },
  {
   "cell_type": "code",
   "execution_count": 3,
   "metadata": {
    "id": "_ESXEMREkwqI",
    "outputId": "1cde5898-3c1d-4ed3-86b1-9240e13f05c5"
   },
   "outputs": [
    {
     "data": {
      "text/plain": [
       "(158, 12)"
      ]
     },
     "execution_count": 3,
     "metadata": {},
     "output_type": "execute_result"
    }
   ],
   "source": [
    "df_2015.shape"
   ]
  },
  {
   "cell_type": "code",
   "execution_count": 4,
   "metadata": {
    "id": "iB8pl2UTJu5r",
    "outputId": "b46c5ec4-8af2-46e1-fc14-1fb5bdfd09d6"
   },
   "outputs": [
    {
     "data": {
      "image/png": "[encoded data removed]",
      "text/plain": [
       "<Figure size 1600x800 with 9 Axes>"
      ]
     },
     "metadata": {},
     "output_type": "display_data"
    }
   ],
   "source": [
    "df_2015[['Happiness Score', 'Economy (GDP per Capita)',\n",
    "         'Health (Life Expectancy)', 'Freedom',\n",
    "         'Trust (Government Corruption)','Generosity', \n",
    "         'Dystopia Residual']].hist(density = True, figsize = (16, 8));"
   ]
  },
  {
   "cell_type": "markdown",
   "metadata": {
    "id": "6WEcR4TUJu5u"
   },
   "source": [
    "## Одновыборочные критерии\n",
    "\n"
   ]
  },
  {
   "cell_type": "code",
   "execution_count": 5,
   "metadata": {
    "id": "aCmd93wrJu5u",
    "outputId": "f0b5f65f-af89-4af9-98c9-2ffcabb19424"
   },
   "outputs": [
    {
     "data": {
      "text/plain": [
       "count    158.000000\n",
       "mean       5.375734\n",
       "std        1.145010\n",
       "min        2.839000\n",
       "25%        4.526000\n",
       "50%        5.232500\n",
       "75%        6.243750\n",
       "max        7.587000\n",
       "Name: Happiness Score, dtype: float64"
      ]
     },
     "execution_count": 5,
     "metadata": {},
     "output_type": "execute_result"
    }
   ],
   "source": [
    "df_2015['Happiness Score'].describe()"
   ]
  },
  {
   "cell_type": "markdown",
   "metadata": {
    "id": "0W6lKPznkwqU"
   },
   "source": [
    "Как можно визуализировать распределения :"
   ]
  },
  {
   "cell_type": "code",
   "execution_count": 8,
   "metadata": {
    "id": "0uzZ0nLMkwqV",
    "outputId": "0c6a741a-3eaa-4e41-ca7a-f842af48738d"
   },
   "outputs": [
    {
     "data": {
      "image/png": "[encoded data removed]",
      "text/plain": [
       "<Figure size 640x480 with 1 Axes>"
      ]
     },
     "metadata": {},
     "output_type": "display_data"
    }
   ],
   "source": [
    "sns.histplot(data = df_2015, x = 'Happiness Score', bins = 9, kde = True);"
   ]
  },
  {
   "cell_type": "code",
   "execution_count": 9,
   "metadata": {
    "id": "4ELpdHtWkwqY",
    "outputId": "a1e32efb-71e9-40d9-d8c2-b4e6d3624ad2"
   },
   "outputs": [
    {
     "data": {
      "image/png": "[encoded data removed]",
      "text/plain": [
       "<Figure size 640x480 with 1 Axes>"
      ]
     },
     "metadata": {},
     "output_type": "display_data"
    }
   ],
   "source": [
    "sns.boxplot(data = df_2015, x = 'Happiness Score');"
   ]
  },
  {
   "cell_type": "markdown",
   "metadata": {
    "id": "bk_FqU1hJu5v"
   },
   "source": [
    "### Критерий знаков"
   ]
  },
  {
   "cell_type": "markdown",
   "metadata": {
    "id": "bXnRswl3kwqa"
   },
   "source": [
    "Проверим гипотезу о том, что медиана уровня счастья равна $5$. \n",
    "\n",
    "$H_0\\colon Med(X) = 5$\n",
    "\n",
    "$H_1\\colon Med(X) \\ne 5$"
   ]
  },
  {
   "cell_type": "code",
   "execution_count": 10,
   "metadata": {
    "id": "Cjy5-8TlJu5v",
    "outputId": "9aea4d9e-d6c7-4d3e-a120-af6236f8ae3d"
   },
   "outputs": [
    {
     "data": {
      "text/plain": [
       "(14.0, 0.03138663605336963)"
      ]
     },
     "execution_count": 10,
     "metadata": {},
     "output_type": "execute_result"
    }
   ],
   "source": [
    "from statsmodels.stats.descriptivestats import sign_test\n",
    "\n",
    "'''\n",
    "Критерий знаков используется при проверке нулевой гипотезы о равенстве медианы некоторому \n",
    "заданному значению (для одной выборки) или о равенстве нулю медианы разности (для двух связанных выборок)\n",
    "'''\n",
    "\n",
    "x = df_2015['Happiness Score'].values\n",
    "n = x.shape[0]\n",
    "med_0 = 5\n",
    "\n",
    "T, pvalue = sign_test(x, mu0 = med_0)\n",
    "T, pvalue\n",
    "\n",
    "\n",
    "# The signs test returns\n",
    "# M = (N(+) - N(-))/2\n",
    "# pvalue < 0.05 => гипотеза не принимается на уровне значимости 5%"
   ]
  },
  {
   "cell_type": "code",
   "execution_count": 11,
   "metadata": {},
   "outputs": [
    {
     "name": "stdout",
     "output_type": "stream",
     "text": [
      "Help on function sign_test in module statsmodels.stats.descriptivestats:\n",
      "\n",
      "sign_test(samp, mu0=0)\n",
      "    Signs test\n",
      "    \n",
      "    Parameters\n",
      "    ----------\n",
      "    samp : array_like\n",
      "        1d array. The sample for which you want to perform the sign test.\n",
      "    mu0 : float\n",
      "        See Notes for the definition of the sign test. mu0 is 0 by\n",
      "        default, but it is common to set it to the median.\n",
      "    \n",
      "    Returns\n",
      "    -------\n",
      "    M\n",
      "    p-value\n",
      "    \n",
      "    Notes\n",
      "    -----\n",
      "    The signs test returns\n",
      "    \n",
      "    M = (N(+) - N(-))/2\n",
      "    \n",
      "    where N(+) is the number of values above `mu0`, N(-) is the number of\n",
      "    values below.  Values equal to `mu0` are discarded.\n",
      "    \n",
      "    The p-value for M is calculated using the binomial distribution\n",
      "    and can be interpreted the same as for a t-test. The test-statistic\n",
      "    is distributed Binom(min(N(+), N(-)), n_trials, .5) where n_trials\n",
      "    equals N(+) + N(-).\n",
      "    \n",
      "    See Also\n",
      "    --------\n",
      "    scipy.stats.wilcoxon\n",
      "\n"
     ]
    }
   ],
   "source": [
    "help(sign_test)"
   ]
  },
  {
   "cell_type": "code",
   "execution_count": 12,
   "metadata": {
    "id": "176SsS7sJu5w",
    "outputId": "3f95ea64-f4e7-44e9-ddc2-7865ae407ee8"
   },
   "outputs": [
    {
     "data": {
      "text/plain": [
       "93"
      ]
     },
     "execution_count": 12,
     "metadata": {},
     "output_type": "execute_result"
    }
   ],
   "source": [
    "# наблюдаемая статистика\n",
    "T = np.sum(x > med_0)\n",
    "T"
   ]
  },
  {
   "cell_type": "code",
   "execution_count": 13,
   "metadata": {
    "id": "m7Mghc5dkwqe",
    "outputId": "41e2c9a0-5b52-4458-edfb-6f5fc71eaaaf"
   },
   "outputs": [
    {
     "data": {
      "text/plain": [
       "14.0"
      ]
     },
     "execution_count": 13,
     "metadata": {},
     "output_type": "execute_result"
    }
   ],
   "source": [
    "# M = (N(+) - N(-))/2\n",
    "(T - (n - T))/2"
   ]
  },
  {
   "cell_type": "code",
   "execution_count": 14,
   "metadata": {
    "id": "YvKHGYTgJu5w"
   },
   "outputs": [],
   "source": [
    "from scipy import stats"
   ]
  },
  {
   "cell_type": "code",
   "execution_count": 15,
   "metadata": {
    "id": "_8htPBuqJu5x",
    "outputId": "a4b0d506-48ed-4685-b943-7300be5e8864"
   },
   "outputs": [
    {
     "data": {
      "text/plain": [
       "0.010376869583876847"
      ]
     },
     "execution_count": 15,
     "metadata": {},
     "output_type": "execute_result"
    }
   ],
   "source": [
    "# p-value\n",
    "1 - stats.binom.cdf(T, p=0.5, n=n)"
   ]
  },
  {
   "cell_type": "markdown",
   "metadata": {
    "id": "g3PvxS-fJu5z"
   },
   "source": [
    "Гипотеза не принимается. "
   ]
  },
  {
   "cell_type": "markdown",
   "metadata": {
    "id": "jEJ29ExtJu5z"
   },
   "source": [
    "### Критерий Уилкоксона (ранговый)"
   ]
  },
  {
   "cell_type": "code",
   "execution_count": 16,
   "metadata": {
    "id": "n4XWvg5rJu50",
    "outputId": "f60b7928-9cc7-4686-b911-36f3b87ed9e7"
   },
   "outputs": [
    {
     "data": {
      "text/plain": [
       "WilcoxonResult(statistic=4232.0, pvalue=0.0003762684243784701)"
      ]
     },
     "execution_count": 16,
     "metadata": {},
     "output_type": "execute_result"
    }
   ],
   "source": [
    "stats.wilcoxon(x - med_0)"
   ]
  },
  {
   "cell_type": "markdown",
   "metadata": {
    "id": "g3PvxS-fJu5z"
   },
   "source": [
    "Гипотеза не принимается. "
   ]
  },
  {
   "cell_type": "markdown",
   "metadata": {
    "id": "1wVdn3D2Ju55"
   },
   "source": [
    "## Двухвыборочные (связные выборки) \n",
    "\n",
    "\n",
    "Правда ли, что к 2019 году уровень счастья в мире вырос?"
   ]
  },
  {
   "cell_type": "code",
   "execution_count": 17,
   "metadata": {
    "id": "15jSPuhDJu55",
    "outputId": "12ffd554-508e-43ea-ef35-4e08f7274076"
   },
   "outputs": [
    {
     "data": {
      "text/html": [
       "<div>\n",
       "<style scoped>\n",
       "    .dataframe tbody tr th:only-of-type {\n",
       "        vertical-align: middle;\n",
       "    }\n",
       "\n",
       "    .dataframe tbody tr th {\n",
       "        vertical-align: top;\n",
       "    }\n",
       "\n",
       "    .dataframe thead th {\n",
       "        text-align: right;\n",
       "    }\n",
       "</style>\n",
       "<table border=\"1\" class=\"dataframe\">\n",
       "  <thead>\n",
       "    <tr style=\"text-align: right;\">\n",
       "      <th></th>\n",
       "      <th>Happiness_2019</th>\n",
       "      <th>Happiness_2015</th>\n",
       "    </tr>\n",
       "    <tr>\n",
       "      <th>Country</th>\n",
       "      <th></th>\n",
       "      <th></th>\n",
       "    </tr>\n",
       "  </thead>\n",
       "  <tbody>\n",
       "    <tr>\n",
       "      <th>Finland</th>\n",
       "      <td>7.769</td>\n",
       "      <td>7.406</td>\n",
       "    </tr>\n",
       "    <tr>\n",
       "      <th>Denmark</th>\n",
       "      <td>7.600</td>\n",
       "      <td>7.527</td>\n",
       "    </tr>\n",
       "    <tr>\n",
       "      <th>Norway</th>\n",
       "      <td>7.554</td>\n",
       "      <td>7.522</td>\n",
       "    </tr>\n",
       "    <tr>\n",
       "      <th>Iceland</th>\n",
       "      <td>7.494</td>\n",
       "      <td>7.561</td>\n",
       "    </tr>\n",
       "    <tr>\n",
       "      <th>Netherlands</th>\n",
       "      <td>7.488</td>\n",
       "      <td>7.378</td>\n",
       "    </tr>\n",
       "  </tbody>\n",
       "</table>\n",
       "</div>"
      ],
      "text/plain": [
       "             Happiness_2019  Happiness_2015\n",
       "Country                                    \n",
       "Finland               7.769           7.406\n",
       "Denmark               7.600           7.527\n",
       "Norway                7.554           7.522\n",
       "Iceland               7.494           7.561\n",
       "Netherlands           7.488           7.378"
      ]
     },
     "execution_count": 17,
     "metadata": {},
     "output_type": "execute_result"
    }
   ],
   "source": [
    "df_2015 = pd.read_csv(\"2015.csv\")\n",
    "df_2015 = df_2015[['Country','Happiness Score']]\n",
    "df_2015.columns = ['Country', 'Happiness_2015']\n",
    "df_2015.set_index('Country', inplace=True)\n",
    "\n",
    "df_2019 = pd.read_csv(\"2019.csv\")\n",
    "df_2019 = df_2019[['Country or region','Score']]\n",
    "df_2019.columns = ['Country', 'Happiness_2019']\n",
    "df_2019.set_index('Country', inplace=True)\n",
    "\n",
    "df = df_2019.join(df_2015).dropna()\n",
    "df.head()"
   ]
  },
  {
   "cell_type": "code",
   "execution_count": 19,
   "metadata": {},
   "outputs": [
    {
     "data": {
      "text/plain": [
       "(149, 2)"
      ]
     },
     "execution_count": 19,
     "metadata": {},
     "output_type": "execute_result"
    }
   ],
   "source": [
    "df.shape"
   ]
  },
  {
   "cell_type": "code",
   "execution_count": 20,
   "metadata": {
    "id": "7CptMUQ0Ju56",
    "outputId": "a3ef3310-7c21-4f2c-98a5-fddecdc83611"
   },
   "outputs": [
    {
     "data": {
      "text/html": [
       "<div>\n",
       "<style scoped>\n",
       "    .dataframe tbody tr th:only-of-type {\n",
       "        vertical-align: middle;\n",
       "    }\n",
       "\n",
       "    .dataframe tbody tr th {\n",
       "        vertical-align: top;\n",
       "    }\n",
       "\n",
       "    .dataframe thead th {\n",
       "        text-align: right;\n",
       "    }\n",
       "</style>\n",
       "<table border=\"1\" class=\"dataframe\">\n",
       "  <thead>\n",
       "    <tr style=\"text-align: right;\">\n",
       "      <th></th>\n",
       "      <th>Happiness_2019</th>\n",
       "      <th>Happiness_2015</th>\n",
       "    </tr>\n",
       "  </thead>\n",
       "  <tbody>\n",
       "    <tr>\n",
       "      <th>count</th>\n",
       "      <td>149.000000</td>\n",
       "      <td>149.000000</td>\n",
       "    </tr>\n",
       "    <tr>\n",
       "      <th>mean</th>\n",
       "      <td>5.433872</td>\n",
       "      <td>5.378289</td>\n",
       "    </tr>\n",
       "    <tr>\n",
       "      <th>std</th>\n",
       "      <td>1.111243</td>\n",
       "      <td>1.157782</td>\n",
       "    </tr>\n",
       "    <tr>\n",
       "      <th>min</th>\n",
       "      <td>3.083000</td>\n",
       "      <td>2.839000</td>\n",
       "    </tr>\n",
       "    <tr>\n",
       "      <th>25%</th>\n",
       "      <td>4.548000</td>\n",
       "      <td>4.518000</td>\n",
       "    </tr>\n",
       "    <tr>\n",
       "      <th>50%</th>\n",
       "      <td>5.425000</td>\n",
       "      <td>5.253000</td>\n",
       "    </tr>\n",
       "    <tr>\n",
       "      <th>75%</th>\n",
       "      <td>6.198000</td>\n",
       "      <td>6.295000</td>\n",
       "    </tr>\n",
       "    <tr>\n",
       "      <th>max</th>\n",
       "      <td>7.769000</td>\n",
       "      <td>7.587000</td>\n",
       "    </tr>\n",
       "  </tbody>\n",
       "</table>\n",
       "</div>"
      ],
      "text/plain": [
       "       Happiness_2019  Happiness_2015\n",
       "count      149.000000      149.000000\n",
       "mean         5.433872        5.378289\n",
       "std          1.111243        1.157782\n",
       "min          3.083000        2.839000\n",
       "25%          4.548000        4.518000\n",
       "50%          5.425000        5.253000\n",
       "75%          6.198000        6.295000\n",
       "max          7.769000        7.587000"
      ]
     },
     "execution_count": 20,
     "metadata": {},
     "output_type": "execute_result"
    }
   ],
   "source": [
    "df.describe()"
   ]
  },
  {
   "cell_type": "code",
   "execution_count": 21,
   "metadata": {
    "id": "ct9Z8bM7Ju56",
    "outputId": "836dd6da-b6ef-4e79-a32c-b408a92dbea0"
   },
   "outputs": [
    {
     "data": {
      "image/png": "[encoded data removed]",
      "text/plain": [
       "<Figure size 1200x400 with 2 Axes>"
      ]
     },
     "metadata": {},
     "output_type": "display_data"
    }
   ],
   "source": [
    "df.hist(figsize = (12, 4), bins = 8);"
   ]
  },
  {
   "cell_type": "code",
   "execution_count": 22,
   "metadata": {
    "id": "X61zWPaLkwr5",
    "outputId": "c042504c-bce5-4a03-faac-429d563b01e2"
   },
   "outputs": [
    {
     "data": {
      "image/png": "[encoded data removed]",
      "text/plain": [
       "<Figure size 640x480 with 1 Axes>"
      ]
     },
     "metadata": {},
     "output_type": "display_data"
    }
   ],
   "source": [
    "sns.boxplot(data = df);"
   ]
  },
  {
   "cell_type": "code",
   "execution_count": 23,
   "metadata": {
    "id": "cBJpiijCkwr6",
    "outputId": "c1aa17f7-368e-4d01-b528-8537ce439957"
   },
   "outputs": [
    {
     "data": {
      "image/png": "[encoded data removed]",
      "text/plain": [
       "<Figure size 640x480 with 1 Axes>"
      ]
     },
     "metadata": {},
     "output_type": "display_data"
    }
   ],
   "source": [
    "sns.histplot(data = df, stat = 'density');"
   ]
  },
  {
   "cell_type": "code",
   "execution_count": 24,
   "metadata": {},
   "outputs": [
    {
     "data": {
      "image/png": "[encoded data removed]",
      "text/plain": [
       "<Figure size 640x480 with 1 Axes>"
      ]
     },
     "metadata": {},
     "output_type": "display_data"
    }
   ],
   "source": [
    "sns.histplot(df.Happiness_2019 - df.Happiness_2015, bins = 11);"
   ]
  },
  {
   "cell_type": "markdown",
   "metadata": {
    "id": "zqBEHmhZJu56"
   },
   "source": [
    "### Критерий знаков\n",
    "\n",
    "$H_0\\colon P(X > Y) = 0.5$\n",
    "\n",
    "$H_1\\colon P(X > Y) \\ne 0.5$"
   ]
  },
  {
   "cell_type": "code",
   "execution_count": 25,
   "metadata": {
    "id": "Z50_SQovJu56",
    "outputId": "e29f191c-36be-4287-de16-2791048be53f"
   },
   "outputs": [
    {
     "name": "stdout",
     "output_type": "stream",
     "text": [
      "0.7432690217670563\n"
     ]
    }
   ],
   "source": [
    "x = df.Happiness_2019\n",
    "y = df.Happiness_2015\n",
    "_, pvalue = sign_test(x, y)\n",
    "print(pvalue)"
   ]
  },
  {
   "cell_type": "markdown",
   "metadata": {
    "id": "65dhl6yFJu57"
   },
   "source": [
    "Гипотеза об о том, что уровень счастья не изменился, не отвергается. "
   ]
  },
  {
   "cell_type": "markdown",
   "metadata": {
    "id": "MCLXRbNIJu57"
   },
   "source": [
    "### Критерий Уилкоксона  (ранговый)\n",
    "\n",
    "$H_0\\colon Med(X - Y) = 0$\n",
    "\n",
    "$H_1\\colon Med(X - Y) \\ne 0$"
   ]
  },
  {
   "cell_type": "code",
   "execution_count": 26,
   "metadata": {
    "id": "WdCmpFgjJu57",
    "outputId": "bcd4af10-6cec-49c5-bfaf-4997898051ed"
   },
   "outputs": [
    {
     "data": {
      "text/plain": [
       "WilcoxonResult(statistic=4948.0, pvalue=0.22554445938820344)"
      ]
     },
     "execution_count": 26,
     "metadata": {},
     "output_type": "execute_result"
    }
   ],
   "source": [
    "stats.wilcoxon(x, y)"
   ]
  },
  {
   "cell_type": "code",
   "execution_count": 27,
   "metadata": {
    "id": "RO8zzILCJu57",
    "outputId": "2d68de41-95bf-40f9-a813-eecc4bb15df3"
   },
   "outputs": [
    {
     "data": {
      "text/plain": [
       "WilcoxonResult(statistic=4948.0, pvalue=0.22554445938820344)"
      ]
     },
     "execution_count": 27,
     "metadata": {},
     "output_type": "execute_result"
    }
   ],
   "source": [
    "# поменял местами года, и pvalue то же самое\n",
    "stats.wilcoxon(y, x)"
   ]
  },
  {
   "cell_type": "markdown",
   "metadata": {
    "id": "iN0dRPNqJu57"
   },
   "source": [
    "Гипотеза об о том, что уровень счастья не изменился, не отвергается. "
   ]
  },
  {
   "cell_type": "markdown",
   "metadata": {
    "id": "SdXFknQ8Ju57"
   },
   "source": [
    " "
   ]
  },
  {
   "cell_type": "markdown",
   "metadata": {
    "id": "SL_CVLrNJu50"
   },
   "source": [
    "## Двухвыборочные (несвязанные выборки) \n",
    "\n",
    "Правда ли, что в Европе уровень счастья выше, чем в Азии? \n"
   ]
  },
  {
   "cell_type": "code",
   "execution_count": 28,
   "metadata": {},
   "outputs": [],
   "source": [
    "df_2015 = pd.read_csv(\"2015.csv\")\n",
    "df_2019 = pd.read_csv(\"2019.csv\")"
   ]
  },
  {
   "cell_type": "code",
   "execution_count": 29,
   "metadata": {
    "id": "GSTqHPJGJu51",
    "outputId": "608df8a5-22b1-4cca-da8b-5847f09891e1"
   },
   "outputs": [
    {
     "data": {
      "text/plain": [
       "Region\n",
       "Sub-Saharan Africa                 40\n",
       "Central and Eastern Europe         29\n",
       "Latin America and Caribbean        22\n",
       "Western Europe                     21\n",
       "Middle East and Northern Africa    20\n",
       "Southeastern Asia                   9\n",
       "Southern Asia                       7\n",
       "Eastern Asia                        6\n",
       "North America                       2\n",
       "Australia and New Zealand           2\n",
       "Name: count, dtype: int64"
      ]
     },
     "execution_count": 29,
     "metadata": {},
     "output_type": "execute_result"
    }
   ],
   "source": [
    "df_2015.Region.value_counts()"
   ]
  },
  {
   "cell_type": "code",
   "execution_count": 30,
   "metadata": {
    "id": "vq7xsh5nJu51"
   },
   "outputs": [
    {
     "data": {
      "text/plain": [
       "22"
      ]
     },
     "execution_count": 30,
     "metadata": {},
     "output_type": "execute_result"
    }
   ],
   "source": [
    "usl = df_2015.Region.apply(lambda w: 'Asia' in w)\n",
    "x_asia = df_2015[usl]['Happiness Score']\n",
    "x_asia.size"
   ]
  },
  {
   "cell_type": "code",
   "execution_count": 34,
   "metadata": {
    "id": "0Y33W6D6Ju51"
   },
   "outputs": [
    {
     "data": {
      "text/plain": [
       "50"
      ]
     },
     "execution_count": 34,
     "metadata": {},
     "output_type": "execute_result"
    }
   ],
   "source": [
    "usl = df_2015.Region.apply(lambda w: 'Europe' in w)\n",
    "x_eur = df_2015[usl]['Happiness Score']\n",
    "x_eur.size"
   ]
  },
  {
   "cell_type": "code",
   "execution_count": 35,
   "metadata": {
    "id": "XIIvrcD7Ju52"
   },
   "outputs": [
    {
     "data": {
      "image/png": "[encoded data removed]",
      "text/plain": [
       "<Figure size 640x480 with 1 Axes>"
      ]
     },
     "metadata": {},
     "output_type": "display_data"
    }
   ],
   "source": [
    "sns.histplot(data=pd.concat([x_asia, x_eur], axis=0, keys=['asia','europe']).reset_index(),\n",
    "             x='Happiness Score', hue='level_0', \n",
    "             stat='density', common_norm=False\n",
    "            );\n",
    "\n",
    "# видно сдвиг размером в 1 бин"
   ]
  },
  {
   "cell_type": "code",
   "execution_count": 36,
   "metadata": {
    "id": "_xucTF-jkwsT"
   },
   "outputs": [
    {
     "data": {
      "image/png": "[encoded data removed]",
      "text/plain": [
       "<Figure size 640x480 with 1 Axes>"
      ]
     },
     "metadata": {},
     "output_type": "display_data"
    }
   ],
   "source": [
    "sns.kdeplot(data=pd.concat([x_asia, x_eur], axis=0, keys=['asia','europe']).reset_index(),\n",
    "             x='Happiness Score', hue='level_0', \n",
    "              common_norm=False\n",
    "            );\n",
    "# также наблюдается сдвиг, форма распределения одинаковая"
   ]
  },
  {
   "cell_type": "code",
   "execution_count": 37,
   "metadata": {
    "id": "YxYRblUQkwsT"
   },
   "outputs": [
    {
     "data": {
      "image/png": "[encoded data removed]",
      "text/plain": [
       "<Figure size 640x480 with 1 Axes>"
      ]
     },
     "metadata": {},
     "output_type": "display_data"
    }
   ],
   "source": [
    "sns.boxplot(data=pd.concat([x_asia, x_eur], axis=0, keys=['asia','europe']).reset_index(),\n",
    "             x='Happiness Score', y='level_0', \n",
    "            );\n",
    "# синий ящик сдвинут"
   ]
  },
  {
   "cell_type": "markdown",
   "metadata": {
    "id": "M9WvodoeJu52"
   },
   "source": [
    "### Критерий Манна-Уитни  (ранговый)\n",
    "\n",
    "$H_0\\colon f_{X}(x) = f_{Y}(x), \\Delta= 0$\n",
    "\n",
    "$H_1\\colon f_{X}(x) = f_{Y}(x + \\Delta), \\Delta > 0$"
   ]
  },
  {
   "cell_type": "code",
   "execution_count": 38,
   "metadata": {},
   "outputs": [
    {
     "name": "stdout",
     "output_type": "stream",
     "text": [
      "Help on function mannwhitneyu in module scipy.stats._mannwhitneyu:\n",
      "\n",
      "mannwhitneyu(x, y, use_continuity=True, alternative='two-sided', axis=0, method='auto', *, nan_policy='propagate', keepdims=False)\n",
      "    Perform the Mann-Whitney U rank test on two independent samples.\n",
      "    \n",
      "    The Mann-Whitney U test is a nonparametric test of the null hypothesis\n",
      "    that the distribution underlying sample `x` is the same as the\n",
      "    distribution underlying sample `y`. It is often used as a test of\n",
      "    difference in location between distributions.\n",
      "    \n",
      "    Parameters\n",
      "    ----------\n",
      "    x, y : array-like\n",
      "        N-d arrays of samples. The arrays must be broadcastable except along\n",
      "        the dimension given by `axis`.\n",
      "    use_continuity : bool, optional\n",
      "        Whether a continuity correction (1/2) should be applied.\n",
      "        Default is True when `method` is ``'asymptotic'``; has no effect\n",
      "        otherwise.\n",
      "    alternative : {'two-sided', 'less', 'greater'}, optional\n",
      "        Defines the alternative hypothesis. Default is 'two-sided'.\n",
      "        Let *F(u)* and *G(u)* be the cumulative distribution functions of the\n",
      "        distributions underlying `x` and `y`, respectively. Then the following\n",
      "        alternative hypotheses are available:\n",
      "        \n",
      "        * 'two-sided': the distributions are not equal, i.e. *F(u) ≠ G(u)* for\n",
      "          at least one *u*.\n",
      "        * 'less': the distribution underlying `x` is stochastically less\n",
      "          than the distribution underlying `y`, i.e. *F(u) > G(u)* for all *u*.\n",
      "        * 'greater': the distribution underlying `x` is stochastically greater\n",
      "          than the distribution underlying `y`, i.e. *F(u) < G(u)* for all *u*.\n",
      "        \n",
      "        Under a more restrictive set of assumptions, the alternative hypotheses\n",
      "        can be expressed in terms of the locations of the distributions;\n",
      "        see [5] section 5.1.\n",
      "    axis : int or None, default: 0\n",
      "        If an int, the axis of the input along which to compute the statistic.\n",
      "        The statistic of each axis-slice (e.g. row) of the input will appear in a\n",
      "        corresponding element of the output.\n",
      "        If ``None``, the input will be raveled before computing the statistic.\n",
      "    method : {'auto', 'asymptotic', 'exact'}, optional\n",
      "        Selects the method used to calculate the *p*-value.\n",
      "        Default is 'auto'. The following options are available.\n",
      "        \n",
      "        * ``'asymptotic'``: compares the standardized test statistic\n",
      "          against the normal distribution, correcting for ties.\n",
      "        * ``'exact'``: computes the exact *p*-value by comparing the observed\n",
      "          :math:`U` statistic against the exact distribution of the :math:`U`\n",
      "          statistic under the null hypothesis. No correction is made for ties.\n",
      "        * ``'auto'``: chooses ``'exact'`` when the size of one of the samples\n",
      "          is less than 8 and there are no ties; chooses ``'asymptotic'``\n",
      "          otherwise.\n",
      "    nan_policy : {'propagate', 'omit', 'raise'}\n",
      "        Defines how to handle input NaNs.\n",
      "        \n",
      "        - ``propagate``: if a NaN is present in the axis slice (e.g. row) along\n",
      "          which the  statistic is computed, the corresponding entry of the output\n",
      "          will be NaN.\n",
      "        - ``omit``: NaNs will be omitted when performing the calculation.\n",
      "          If insufficient data remains in the axis slice along which the\n",
      "          statistic is computed, the corresponding entry of the output will be\n",
      "          NaN.\n",
      "        - ``raise``: if a NaN is present, a ``ValueError`` will be raised.\n",
      "    keepdims : bool, default: False\n",
      "        If this is set to True, the axes which are reduced are left\n",
      "        in the result as dimensions with size one. With this option,\n",
      "        the result will broadcast correctly against the input array.\n",
      "    \n",
      "    Returns\n",
      "    -------\n",
      "    res : MannwhitneyuResult\n",
      "        An object containing attributes:\n",
      "        \n",
      "        statistic : float\n",
      "            The Mann-Whitney U statistic corresponding with sample `x`. See\n",
      "            Notes for the test statistic corresponding with sample `y`.\n",
      "        pvalue : float\n",
      "            The associated *p*-value for the chosen `alternative`.\n",
      "    \n",
      "    See Also\n",
      "    --------\n",
      "    \n",
      "    :func:`scipy.stats.wilcoxon`, :func:`scipy.stats.ranksums`, :func:`scipy.stats.ttest_ind`\n",
      "        ..\n",
      "    \n",
      "    Notes\n",
      "    -----\n",
      "    If ``U1`` is the statistic corresponding with sample `x`, then the\n",
      "    statistic corresponding with sample `y` is\n",
      "    `U2 = `x.shape[axis] * y.shape[axis] - U1``.\n",
      "    \n",
      "    `mannwhitneyu` is for independent samples. For related / paired samples,\n",
      "    consider `scipy.stats.wilcoxon`.\n",
      "    \n",
      "    `method` ``'exact'`` is recommended when there are no ties and when either\n",
      "    sample size is less than 8 [1]_. The implementation follows the recurrence\n",
      "    relation originally proposed in [1]_ as it is described in [3]_.\n",
      "    Note that the exact method is *not* corrected for ties, but\n",
      "    `mannwhitneyu` will not raise errors or warnings if there are ties in the\n",
      "    data.\n",
      "    \n",
      "    The Mann-Whitney U test is a non-parametric version of the t-test for\n",
      "    independent samples. When the means of samples from the populations\n",
      "    are normally distributed, consider `scipy.stats.ttest_ind`.\n",
      "    \n",
      "    Beginning in SciPy 1.9, ``np.matrix`` inputs (not recommended for new\n",
      "    code) are converted to ``np.ndarray`` before the calculation is performed. In\n",
      "    this case, the output will be a scalar or ``np.ndarray`` of appropriate shape\n",
      "    rather than a 2D ``np.matrix``. Similarly, while masked elements of masked\n",
      "    arrays are ignored, the output will be a scalar or ``np.ndarray`` rather than a\n",
      "    masked array with ``mask=False``.\n",
      "    \n",
      "    References\n",
      "    ----------\n",
      "    .. [1] H.B. Mann and D.R. Whitney, \"On a test of whether one of two random\n",
      "           variables is stochastically larger than the other\", The Annals of\n",
      "           Mathematical Statistics, Vol. 18, pp. 50-60, 1947.\n",
      "    .. [2] Mann-Whitney U Test, Wikipedia,\n",
      "           http://en.wikipedia.org/wiki/Mann-Whitney_U_test\n",
      "    .. [3] A. Di Bucchianico, \"Combinatorics, computer algebra, and the\n",
      "           Wilcoxon-Mann-Whitney test\", Journal of Statistical Planning and\n",
      "           Inference, Vol. 79, pp. 349-364, 1999.\n",
      "    .. [4] Rosie Shier, \"Statistics: 2.3 The Mann-Whitney U Test\", Mathematics\n",
      "           Learning Support Centre, 2004.\n",
      "    .. [5] Michael P. Fay and Michael A. Proschan. \"Wilcoxon-Mann-Whitney\n",
      "           or t-test? On assumptions for hypothesis tests and multiple \\\n",
      "           interpretations of decision rules.\" Statistics surveys, Vol. 4, pp.\n",
      "           1-39, 2010. https://www.ncbi.nlm.nih.gov/pmc/articles/PMC2857732/\n",
      "    \n",
      "    Examples\n",
      "    --------\n",
      "    We follow the example from [4]_: nine randomly sampled young adults were\n",
      "    diagnosed with type II diabetes at the ages below.\n",
      "    \n",
      "    >>> males = [19, 22, 16, 29, 24]\n",
      "    >>> females = [20, 11, 17, 12]\n",
      "    \n",
      "    We use the Mann-Whitney U test to assess whether there is a statistically\n",
      "    significant difference in the diagnosis age of males and females.\n",
      "    The null hypothesis is that the distribution of male diagnosis ages is\n",
      "    the same as the distribution of female diagnosis ages. We decide\n",
      "    that a confidence level of 95% is required to reject the null hypothesis\n",
      "    in favor of the alternative that the distributions are different.\n",
      "    Since the number of samples is very small and there are no ties in the\n",
      "    data, we can compare the observed test statistic against the *exact*\n",
      "    distribution of the test statistic under the null hypothesis.\n",
      "    \n",
      "    >>> from scipy.stats import mannwhitneyu\n",
      "    >>> U1, p = mannwhitneyu(males, females, method=\"exact\")\n",
      "    >>> print(U1)\n",
      "    17.0\n",
      "    \n",
      "    `mannwhitneyu` always reports the statistic associated with the first\n",
      "    sample, which, in this case, is males. This agrees with :math:`U_M = 17`\n",
      "    reported in [4]_. The statistic associated with the second statistic\n",
      "    can be calculated:\n",
      "    \n",
      "    >>> nx, ny = len(males), len(females)\n",
      "    >>> U2 = nx*ny - U1\n",
      "    >>> print(U2)\n",
      "    3.0\n",
      "    \n",
      "    This agrees with :math:`U_F = 3` reported in [4]_. The two-sided\n",
      "    *p*-value can be calculated from either statistic, and the value produced\n",
      "    by `mannwhitneyu` agrees with :math:`p = 0.11` reported in [4]_.\n",
      "    \n",
      "    >>> print(p)\n",
      "    0.1111111111111111\n",
      "    \n",
      "    The exact distribution of the test statistic is asymptotically normal, so\n",
      "    the example continues by comparing the exact *p*-value against the\n",
      "    *p*-value produced using the normal approximation.\n",
      "    \n",
      "    >>> _, pnorm = mannwhitneyu(males, females, method=\"asymptotic\")\n",
      "    >>> print(pnorm)\n",
      "    0.11134688653314041\n",
      "    \n",
      "    Here `mannwhitneyu`'s reported *p*-value appears to conflict with the\n",
      "    value :math:`p = 0.09` given in [4]_. The reason is that [4]_\n",
      "    does not apply the continuity correction performed by `mannwhitneyu`;\n",
      "    `mannwhitneyu` reduces the distance between the test statistic and the\n",
      "    mean :math:`\\mu = n_x n_y / 2` by 0.5 to correct for the fact that the\n",
      "    discrete statistic is being compared against a continuous distribution.\n",
      "    Here, the :math:`U` statistic used is less than the mean, so we reduce\n",
      "    the distance by adding 0.5 in the numerator.\n",
      "    \n",
      "    >>> import numpy as np\n",
      "    >>> from scipy.stats import norm\n",
      "    >>> U = min(U1, U2)\n",
      "    >>> N = nx + ny\n",
      "    >>> z = (U - nx*ny/2 + 0.5) / np.sqrt(nx*ny * (N + 1)/ 12)\n",
      "    >>> p = 2 * norm.cdf(z)  # use CDF to get p-value from smaller statistic\n",
      "    >>> print(p)\n",
      "    0.11134688653314041\n",
      "    \n",
      "    If desired, we can disable the continuity correction to get a result\n",
      "    that agrees with that reported in [4]_.\n",
      "    \n",
      "    >>> _, pnorm = mannwhitneyu(males, females, use_continuity=False,\n",
      "    ...                         method=\"asymptotic\")\n",
      "    >>> print(pnorm)\n",
      "    0.0864107329737\n",
      "    \n",
      "    Regardless of whether we perform an exact or asymptotic test, the\n",
      "    probability of the test statistic being as extreme or more extreme by\n",
      "    chance exceeds 5%, so we do not consider the results statistically\n",
      "    significant.\n",
      "    \n",
      "    Suppose that, before seeing the data, we had hypothesized that females\n",
      "    would tend to be diagnosed at a younger age than males.\n",
      "    In that case, it would be natural to provide the female ages as the\n",
      "    first input, and we would have performed a one-sided test using\n",
      "    ``alternative = 'less'``: females are diagnosed at an age that is\n",
      "    stochastically less than that of males.\n",
      "    \n",
      "    >>> res = mannwhitneyu(females, males, alternative=\"less\", method=\"exact\")\n",
      "    >>> print(res)\n",
      "    MannwhitneyuResult(statistic=3.0, pvalue=0.05555555555555555)\n",
      "    \n",
      "    Again, the probability of getting a sufficiently low value of the\n",
      "    test statistic by chance under the null hypothesis is greater than 5%,\n",
      "    so we do not reject the null hypothesis in favor of our alternative.\n",
      "    \n",
      "    If it is reasonable to assume that the means of samples from the\n",
      "    populations are normally distributed, we could have used a t-test to\n",
      "    perform the analysis.\n",
      "    \n",
      "    >>> from scipy.stats import ttest_ind\n",
      "    >>> res = ttest_ind(females, males, alternative=\"less\")\n",
      "    >>> print(res)\n",
      "    Ttest_indResult(statistic=-2.239334696520584, pvalue=0.030068441095757924)\n",
      "    \n",
      "    Under this assumption, the *p*-value would be low enough to reject the\n",
      "    null hypothesis in favor of the alternative.\n",
      "\n"
     ]
    }
   ],
   "source": [
    "help(stats.mannwhitneyu)"
   ]
  },
  {
   "cell_type": "code",
   "execution_count": 42,
   "metadata": {
    "id": "VsqOEwkEJu52"
   },
   "outputs": [
    {
     "data": {
      "text/plain": [
       "MannwhitneyuResult(statistic=774.0, pvalue=0.0062915471462207445)"
      ]
     },
     "execution_count": 42,
     "metadata": {},
     "output_type": "execute_result"
    }
   ],
   "source": [
    "stats.mannwhitneyu(x_eur, x_asia, alternative = 'two-sided')"
   ]
  },
  {
   "cell_type": "code",
   "execution_count": 39,
   "metadata": {
    "id": "VsqOEwkEJu52"
   },
   "outputs": [
    {
     "data": {
      "text/plain": [
       "MannwhitneyuResult(statistic=774.0, pvalue=0.0031457735731103722)"
      ]
     },
     "execution_count": 39,
     "metadata": {},
     "output_type": "execute_result"
    }
   ],
   "source": [
    "stats.mannwhitneyu(x_eur, x_asia, alternative = 'greater')"
   ]
  },
  {
   "cell_type": "code",
   "execution_count": 43,
   "metadata": {
    "id": "VsqOEwkEJu52"
   },
   "outputs": [
    {
     "data": {
      "text/plain": [
       "MannwhitneyuResult(statistic=774.0, pvalue=0.9969690231155751)"
      ]
     },
     "execution_count": 43,
     "metadata": {},
     "output_type": "execute_result"
    }
   ],
   "source": [
    "stats.mannwhitneyu(x_eur, x_asia, alternative = 'less')"
   ]
  },
  {
   "cell_type": "code",
   "execution_count": 44,
   "metadata": {
    "id": "VsqOEwkEJu52"
   },
   "outputs": [
    {
     "data": {
      "text/plain": [
       "MannwhitneyuResult(statistic=326.0, pvalue=0.0031457735731103722)"
      ]
     },
     "execution_count": 44,
     "metadata": {},
     "output_type": "execute_result"
    }
   ],
   "source": [
    "stats.mannwhitneyu(x_asia, x_eur, alternative = 'less')"
   ]
  },
  {
   "cell_type": "code",
   "execution_count": 45,
   "metadata": {
    "id": "mPxaOf4FJu53"
   },
   "outputs": [
    {
     "data": {
      "text/plain": [
       "Ttest_indResult(statistic=3.112555403882886, pvalue=0.002685378854280552)"
      ]
     },
     "execution_count": 45,
     "metadata": {},
     "output_type": "execute_result"
    }
   ],
   "source": [
    "# а какие результаты у параметрического критерия?\n",
    "stats.ttest_ind(x_eur, x_asia)"
   ]
  },
  {
   "cell_type": "markdown",
   "metadata": {
    "id": "_uAhhOG4Ju53"
   },
   "source": [
    "Гипотеза не принимается. По этим данным, в Европе люди счастливее."
   ]
  },
  {
   "cell_type": "markdown",
   "metadata": {},
   "source": [
    "### Откуда берется табличное распределение"
   ]
  },
  {
   "cell_type": "code",
   "execution_count": 46,
   "metadata": {},
   "outputs": [],
   "source": [
    "from collections import Counter\n",
    "import itertools\n",
    "\n",
    "x_and_y = [1,2,3,4,5]\n",
    "n_x = 2\n",
    "n_y = 3\n",
    "\n",
    "perm = list(itertools.permutations(x_and_y))"
   ]
  },
  {
   "cell_type": "code",
   "execution_count": 47,
   "metadata": {},
   "outputs": [
    {
     "data": {
      "text/plain": [
       "array([[3. , 0.1],\n",
       "       [4. , 0.1],\n",
       "       [5. , 0.2],\n",
       "       [6. , 0.2],\n",
       "       [7. , 0.2],\n",
       "       [8. , 0.1],\n",
       "       [9. , 0.1]])"
      ]
     },
     "execution_count": 47,
     "metadata": {},
     "output_type": "execute_result"
    }
   ],
   "source": [
    "counts = np.array(list(Counter([sum(r[:n_x]) for r in perm]).items()))\n",
    "counts = counts.astype(float)\n",
    "counts[:,1] = counts[:,1] / counts.sum(axis=0)[1]\n",
    "counts "
   ]
  },
  {
   "cell_type": "markdown",
   "metadata": {
    "id": "arEcCXPHkwpY"
   },
   "source": [
    "#  Критерии согласия и однородности"
   ]
  },
  {
   "cell_type": "markdown",
   "metadata": {
    "id": "PK70FV-lkwp1"
   },
   "source": [
    "## Критерий Колмогорова\n",
    "\n",
    "\n",
    "__Гипотеза о неизвестном законе распределения:__ \n",
    "\n",
    "$$\n",
    "\\begin{aligned}\n",
    "H_0 : X \\sim F_0 \\\\\n",
    "H_1 : X \\nsim F_0\n",
    "\\end{aligned}\n",
    "$$\n",
    "\n",
    "__Статистика:__ \n",
    "\n",
    "$$\n",
    "K_n = \\sqrt{n} \\cdot \\sup_{x} \\mid \\hat F_n(x) - F(x) \\mid \n",
    "$$\n",
    "\n",
    "При справедливости нулевой гипотезы распределение статистики $K_n$ одинаково для любого исходного непрерывного распределения."
   ]
  },
  {
   "cell_type": "markdown",
   "metadata": {
    "id": "Ih1LEhMmkwp3"
   },
   "source": [
    "### Искусственные примеры\n",
    "\n",
    "Попробуем провести тест Колмогорова на нескольких искуственных примерах. "
   ]
  },
  {
   "cell_type": "code",
   "execution_count": 48,
   "metadata": {
    "id": "xYYOecYvkwp5",
    "outputId": "4ba965d8-171d-4820-83be-b90aa51a2aac"
   },
   "outputs": [
    {
     "data": {
      "text/plain": [
       "(4.82018326803313, 3.0790954528417696)"
      ]
     },
     "execution_count": 48,
     "metadata": {},
     "output_type": "execute_result"
    }
   ],
   "source": [
    "# выборка с мат. ожиданием 5 и ст. отклонением 3\n",
    "x = stats.norm(loc = 5, scale = 3).rvs(30, random_state = 1)\n",
    "\n",
    "# наши оценки мат. ожиданияи и ст. отклонения\n",
    "mu, sigma = x.mean(), x.std(ddof=1)\n",
    "\n",
    "mu, sigma"
   ]
  },
  {
   "cell_type": "code",
   "execution_count": 50,
   "metadata": {},
   "outputs": [
    {
     "name": "stdout",
     "output_type": "stream",
     "text": [
      "Help on function kstest in module scipy.stats._stats_py:\n",
      "\n",
      "kstest(rvs, cdf, args=(), N=20, alternative='two-sided', method='auto')\n",
      "    Performs the (one-sample or two-sample) Kolmogorov-Smirnov test for\n",
      "    goodness of fit.\n",
      "    \n",
      "    The one-sample test compares the underlying distribution F(x) of a sample\n",
      "    against a given distribution G(x). The two-sample test compares the\n",
      "    underlying distributions of two independent samples. Both tests are valid\n",
      "    only for continuous distributions.\n",
      "    \n",
      "    Parameters\n",
      "    ----------\n",
      "    rvs : str, array_like, or callable\n",
      "        If an array, it should be a 1-D array of observations of random\n",
      "        variables.\n",
      "        If a callable, it should be a function to generate random variables;\n",
      "        it is required to have a keyword argument `size`.\n",
      "        If a string, it should be the name of a distribution in `scipy.stats`,\n",
      "        which will be used to generate random variables.\n",
      "    cdf : str, array_like or callable\n",
      "        If array_like, it should be a 1-D array of observations of random\n",
      "        variables, and the two-sample test is performed\n",
      "        (and rvs must be array_like).\n",
      "        If a callable, that callable is used to calculate the cdf.\n",
      "        If a string, it should be the name of a distribution in `scipy.stats`,\n",
      "        which will be used as the cdf function.\n",
      "    args : tuple, sequence, optional\n",
      "        Distribution parameters, used if `rvs` or `cdf` are strings or\n",
      "        callables.\n",
      "    N : int, optional\n",
      "        Sample size if `rvs` is string or callable.  Default is 20.\n",
      "    alternative : {'two-sided', 'less', 'greater'}, optional\n",
      "        Defines the null and alternative hypotheses. Default is 'two-sided'.\n",
      "        Please see explanations in the Notes below.\n",
      "    method : {'auto', 'exact', 'approx', 'asymp'}, optional\n",
      "        Defines the distribution used for calculating the p-value.\n",
      "        The following options are available (default is 'auto'):\n",
      "    \n",
      "          * 'auto' : selects one of the other options.\n",
      "          * 'exact' : uses the exact distribution of test statistic.\n",
      "          * 'approx' : approximates the two-sided probability with twice the\n",
      "            one-sided probability\n",
      "          * 'asymp': uses asymptotic distribution of test statistic\n",
      "    \n",
      "    Returns\n",
      "    -------\n",
      "    res: KstestResult\n",
      "        An object containing attributes:\n",
      "    \n",
      "        statistic : float\n",
      "            KS test statistic, either D+, D-, or D (the maximum of the two)\n",
      "        pvalue : float\n",
      "            One-tailed or two-tailed p-value.\n",
      "        statistic_location : float\n",
      "            In a one-sample test, this is the value of `rvs`\n",
      "            corresponding with the KS statistic; i.e., the distance between\n",
      "            the empirical distribution function and the hypothesized cumulative\n",
      "            distribution function is measured at this observation.\n",
      "    \n",
      "            In a two-sample test, this is the value from `rvs` or `cdf`\n",
      "            corresponding with the KS statistic; i.e., the distance between\n",
      "            the empirical distribution functions is measured at this\n",
      "            observation.\n",
      "        statistic_sign : int\n",
      "            In a one-sample test, this is +1 if the KS statistic is the\n",
      "            maximum positive difference between the empirical distribution\n",
      "            function and the hypothesized cumulative distribution function\n",
      "            (D+); it is -1 if the KS statistic is the maximum negative\n",
      "            difference (D-).\n",
      "    \n",
      "            In a two-sample test, this is +1 if the empirical distribution\n",
      "            function of `rvs` exceeds the empirical distribution\n",
      "            function of `cdf` at `statistic_location`, otherwise -1.\n",
      "    \n",
      "    See Also\n",
      "    --------\n",
      "    ks_1samp, ks_2samp\n",
      "    \n",
      "    Notes\n",
      "    -----\n",
      "    There are three options for the null and corresponding alternative\n",
      "    hypothesis that can be selected using the `alternative` parameter.\n",
      "    \n",
      "    - `two-sided`: The null hypothesis is that the two distributions are\n",
      "      identical, F(x)=G(x) for all x; the alternative is that they are not\n",
      "      identical.\n",
      "    \n",
      "    - `less`: The null hypothesis is that F(x) >= G(x) for all x; the\n",
      "      alternative is that F(x) < G(x) for at least one x.\n",
      "    \n",
      "    - `greater`: The null hypothesis is that F(x) <= G(x) for all x; the\n",
      "      alternative is that F(x) > G(x) for at least one x.\n",
      "    \n",
      "    Note that the alternative hypotheses describe the *CDFs* of the\n",
      "    underlying distributions, not the observed values. For example,\n",
      "    suppose x1 ~ F and x2 ~ G. If F(x) > G(x) for all x, the values in\n",
      "    x1 tend to be less than those in x2.\n",
      "    \n",
      "    \n",
      "    Examples\n",
      "    --------\n",
      "    Suppose we wish to test the null hypothesis that a sample is distributed\n",
      "    according to the standard normal.\n",
      "    We choose a confidence level of 95%; that is, we will reject the null\n",
      "    hypothesis in favor of the alternative if the p-value is less than 0.05.\n",
      "    \n",
      "    When testing uniformly distributed data, we would expect the\n",
      "    null hypothesis to be rejected.\n",
      "    \n",
      "    >>> import numpy as np\n",
      "    >>> from scipy import stats\n",
      "    >>> rng = np.random.default_rng()\n",
      "    >>> stats.kstest(stats.uniform.rvs(size=100, random_state=rng),\n",
      "    ...              stats.norm.cdf)\n",
      "    KstestResult(statistic=0.5001899973268688, pvalue=1.1616392184763533e-23)\n",
      "    \n",
      "    Indeed, the p-value is lower than our threshold of 0.05, so we reject the\n",
      "    null hypothesis in favor of the default \"two-sided\" alternative: the data\n",
      "    are *not* distributed according to the standard normal.\n",
      "    \n",
      "    When testing random variates from the standard normal distribution, we\n",
      "    expect the data to be consistent with the null hypothesis most of the time.\n",
      "    \n",
      "    >>> x = stats.norm.rvs(size=100, random_state=rng)\n",
      "    >>> stats.kstest(x, stats.norm.cdf)\n",
      "    KstestResult(statistic=0.05345882212970396, pvalue=0.9227159037744717)\n",
      "    \n",
      "    As expected, the p-value of 0.92 is not below our threshold of 0.05, so\n",
      "    we cannot reject the null hypothesis.\n",
      "    \n",
      "    Suppose, however, that the random variates are distributed according to\n",
      "    a normal distribution that is shifted toward greater values. In this case,\n",
      "    the cumulative density function (CDF) of the underlying distribution tends\n",
      "    to be *less* than the CDF of the standard normal. Therefore, we would\n",
      "    expect the null hypothesis to be rejected with ``alternative='less'``:\n",
      "    \n",
      "    >>> x = stats.norm.rvs(size=100, loc=0.5, random_state=rng)\n",
      "    >>> stats.kstest(x, stats.norm.cdf, alternative='less')\n",
      "    KstestResult(statistic=0.17482387821055168, pvalue=0.001913921057766743)\n",
      "    \n",
      "    and indeed, with p-value smaller than our threshold, we reject the null\n",
      "    hypothesis in favor of the alternative.\n",
      "    \n",
      "    For convenience, the previous test can be performed using the name of the\n",
      "    distribution as the second argument.\n",
      "    \n",
      "    >>> stats.kstest(x, \"norm\", alternative='less')\n",
      "    KstestResult(statistic=0.17482387821055168, pvalue=0.001913921057766743)\n",
      "    \n",
      "    The examples above have all been one-sample tests identical to those\n",
      "    performed by `ks_1samp`. Note that `kstest` can also perform two-sample\n",
      "    tests identical to those performed by `ks_2samp`. For example, when two\n",
      "    samples are drawn from the same distribution, we expect the data to be\n",
      "    consistent with the null hypothesis most of the time.\n",
      "    \n",
      "    >>> sample1 = stats.laplace.rvs(size=105, random_state=rng)\n",
      "    >>> sample2 = stats.laplace.rvs(size=95, random_state=rng)\n",
      "    >>> stats.kstest(sample1, sample2)\n",
      "    KstestResult(statistic=0.11779448621553884, pvalue=0.4494256912629795)\n",
      "    \n",
      "    As expected, the p-value of 0.45 is not below our threshold of 0.05, so\n",
      "    we cannot reject the null hypothesis.\n",
      "\n"
     ]
    }
   ],
   "source": [
    "help(stats.kstest)"
   ]
  },
  {
   "cell_type": "code",
   "execution_count": 49,
   "metadata": {
    "id": "ooNnAnMjkwp9",
    "outputId": "c98755b3-2d13-4ea4-8728-d7275212c6a1"
   },
   "outputs": [
    {
     "data": {
      "text/plain": [
       "KstestResult(statistic=0.09112015088048397, pvalue=0.9452056783317769, statistic_location=4.631329323444056, statistic_sign=1)"
      ]
     },
     "execution_count": 49,
     "metadata": {},
     "output_type": "execute_result"
    }
   ],
   "source": [
    "stats.kstest(x, 'norm', args = (mu, sigma))\n",
    "# pvalue > 0.05 \n",
    "# => гипотеза о принадлежности к норм. распределнию с параметрами 4.8 и 3.1 не отвергается"
   ]
  },
  {
   "cell_type": "code",
   "execution_count": 51,
   "metadata": {},
   "outputs": [
    {
     "data": {
      "text/plain": [
       "KstestResult(statistic=0.09112015088048397, pvalue=0.9452056783317769, statistic_location=4.631329323444056, statistic_sign=1)"
      ]
     },
     "execution_count": 51,
     "metadata": {},
     "output_type": "execute_result"
    }
   ],
   "source": [
    "stats.kstest(x, stats.norm(loc = mu, scale = sigma).cdf)"
   ]
  },
  {
   "cell_type": "code",
   "execution_count": 53,
   "metadata": {},
   "outputs": [
    {
     "name": "stdout",
     "output_type": "stream",
     "text": [
      "Help on function kdeplot in module seaborn.distributions:\n",
      "\n",
      "kdeplot(data=None, *, x=None, y=None, hue=None, weights=None, palette=None, hue_order=None, hue_norm=None, color=None, fill=None, multiple='layer', common_norm=True, common_grid=False, cumulative=False, bw_method='scott', bw_adjust=1, warn_singular=True, log_scale=None, levels=10, thresh=0.05, gridsize=200, cut=3, clip=None, legend=True, cbar=False, cbar_ax=None, cbar_kws=None, ax=None, **kwargs)\n",
      "    Plot univariate or bivariate distributions using kernel density estimation.\n",
      "    \n",
      "    A kernel density estimate (KDE) plot is a method for visualizing the\n",
      "    distribution of observations in a dataset, analogous to a histogram. KDE\n",
      "    represents the data using a continuous probability density curve in one or\n",
      "    more dimensions.\n",
      "    \n",
      "    The approach is explained further in the :ref:`user guide <tutorial_kde>`.\n",
      "    \n",
      "    Relative to a histogram, KDE can produce a plot that is less cluttered and\n",
      "    more interpretable, especially when drawing multiple distributions. But it\n",
      "    has the potential to introduce distortions if the underlying distribution is\n",
      "    bounded or not smooth. Like a histogram, the quality of the representation\n",
      "    also depends on the selection of good smoothing parameters.\n",
      "    \n",
      "    Parameters\n",
      "    ----------\n",
      "    data : :class:`pandas.DataFrame`, :class:`numpy.ndarray`, mapping, or sequence\n",
      "        Input data structure. Either a long-form collection of vectors that can be\n",
      "        assigned to named variables or a wide-form dataset that will be internally\n",
      "        reshaped.\n",
      "    x, y : vectors or keys in ``data``\n",
      "        Variables that specify positions on the x and y axes.\n",
      "    hue : vector or key in ``data``\n",
      "        Semantic variable that is mapped to determine the color of plot elements.\n",
      "    weights : vector or key in ``data``\n",
      "        If provided, weight the kernel density estimation using these values.\n",
      "    palette : string, list, dict, or :class:`matplotlib.colors.Colormap`\n",
      "        Method for choosing the colors to use when mapping the ``hue`` semantic.\n",
      "        String values are passed to :func:`color_palette`. List or dict values\n",
      "        imply categorical mapping, while a colormap object implies numeric mapping.\n",
      "    hue_order : vector of strings\n",
      "        Specify the order of processing and plotting for categorical levels of the\n",
      "        ``hue`` semantic.\n",
      "    hue_norm : tuple or :class:`matplotlib.colors.Normalize`\n",
      "        Either a pair of values that set the normalization range in data units\n",
      "        or an object that will map from data units into a [0, 1] interval. Usage\n",
      "        implies numeric mapping.\n",
      "    color : :mod:`matplotlib color <matplotlib.colors>`\n",
      "        Single color specification for when hue mapping is not used. Otherwise, the\n",
      "        plot will try to hook into the matplotlib property cycle.\n",
      "    fill : bool or None\n",
      "        If True, fill in the area under univariate density curves or between\n",
      "        bivariate contours. If None, the default depends on ``multiple``.\n",
      "    multiple : {{\"layer\", \"stack\", \"fill\"}}\n",
      "        Method for drawing multiple elements when semantic mapping creates subsets.\n",
      "        Only relevant with univariate data.\n",
      "    common_norm : bool\n",
      "        If True, scale each conditional density by the number of observations\n",
      "        such that the total area under all densities sums to 1. Otherwise,\n",
      "        normalize each density independently.\n",
      "    common_grid : bool\n",
      "        If True, use the same evaluation grid for each kernel density estimate.\n",
      "        Only relevant with univariate data.\n",
      "    cumulative : bool, optional\n",
      "        If True, estimate a cumulative distribution function. Requires scipy.\n",
      "    bw_method : string, scalar, or callable, optional\n",
      "        Method for determining the smoothing bandwidth to use; passed to\n",
      "        :class:`scipy.stats.gaussian_kde`.\n",
      "    bw_adjust : number, optional\n",
      "        Factor that multiplicatively scales the value chosen using\n",
      "        ``bw_method``. Increasing will make the curve smoother. See Notes.\n",
      "    warn_singular : bool\n",
      "        If True, issue a warning when trying to estimate the density of data\n",
      "        with zero variance.\n",
      "    log_scale : bool or number, or pair of bools or numbers\n",
      "        Set axis scale(s) to log. A single value sets the data axis for univariate\n",
      "        distributions and both axes for bivariate distributions. A pair of values\n",
      "        sets each axis independently. Numeric values are interpreted as the desired\n",
      "        base (default 10). If `False`, defer to the existing Axes scale.\n",
      "    levels : int or vector\n",
      "        Number of contour levels or values to draw contours at. A vector argument\n",
      "        must have increasing values in [0, 1]. Levels correspond to iso-proportions\n",
      "        of the density: e.g., 20% of the probability mass will lie below the\n",
      "        contour drawn for 0.2. Only relevant with bivariate data.\n",
      "    thresh : number in [0, 1]\n",
      "        Lowest iso-proportion level at which to draw a contour line. Ignored when\n",
      "        ``levels`` is a vector. Only relevant with bivariate data.\n",
      "    gridsize : int\n",
      "        Number of points on each dimension of the evaluation grid.\n",
      "    cut : number, optional\n",
      "        Factor, multiplied by the smoothing bandwidth, that determines how\n",
      "        far the evaluation grid extends past the extreme datapoints. When\n",
      "        set to 0, truncate the curve at the data limits.\n",
      "    clip : pair of numbers or None, or a pair of such pairs\n",
      "        Do not evaluate the density outside of these limits.\n",
      "    legend : bool\n",
      "        If False, suppress the legend for semantic variables.\n",
      "    cbar : bool\n",
      "        If True, add a colorbar to annotate the color mapping in a bivariate plot.\n",
      "        Note: Does not currently support plots with a ``hue`` variable well.\n",
      "    cbar_ax : :class:`matplotlib.axes.Axes`\n",
      "        Pre-existing axes for the colorbar.\n",
      "    cbar_kws : dict\n",
      "        Additional parameters passed to :meth:`matplotlib.figure.Figure.colorbar`.\n",
      "    ax : :class:`matplotlib.axes.Axes`\n",
      "        Pre-existing axes for the plot. Otherwise, call :func:`matplotlib.pyplot.gca`\n",
      "        internally.\n",
      "    kwargs\n",
      "        Other keyword arguments are passed to one of the following matplotlib\n",
      "        functions:\n",
      "    \n",
      "        - :meth:`matplotlib.axes.Axes.plot` (univariate, ``fill=False``),\n",
      "        - :meth:`matplotlib.axes.Axes.fill_between` (univariate, ``fill=True``),\n",
      "        - :meth:`matplotlib.axes.Axes.contour` (bivariate, ``fill=False``),\n",
      "        - :meth:`matplotlib.axes.contourf` (bivariate, ``fill=True``).\n",
      "    \n",
      "    Returns\n",
      "    -------\n",
      "    :class:`matplotlib.axes.Axes`\n",
      "        The matplotlib axes containing the plot.\n",
      "    \n",
      "    See Also\n",
      "    --------\n",
      "    displot : Figure-level interface to distribution plot functions.\n",
      "    histplot : Plot a histogram of binned counts with optional normalization or smoothing.\n",
      "    ecdfplot : Plot empirical cumulative distribution functions.\n",
      "    jointplot : Draw a bivariate plot with univariate marginal distributions.\n",
      "    violinplot : Draw an enhanced boxplot using kernel density estimation.\n",
      "    \n",
      "    Notes\n",
      "    -----\n",
      "    \n",
      "    The *bandwidth*, or standard deviation of the smoothing kernel, is an\n",
      "    important parameter. Misspecification of the bandwidth can produce a\n",
      "    distorted representation of the data. Much like the choice of bin width in a\n",
      "    histogram, an over-smoothed curve can erase true features of a\n",
      "    distribution, while an under-smoothed curve can create false features out of\n",
      "    random variability. The rule-of-thumb that sets the default bandwidth works\n",
      "    best when the true distribution is smooth, unimodal, and roughly bell-shaped.\n",
      "    It is always a good idea to check the default behavior by using ``bw_adjust``\n",
      "    to increase or decrease the amount of smoothing.\n",
      "    \n",
      "    Because the smoothing algorithm uses a Gaussian kernel, the estimated density\n",
      "    curve can extend to values that do not make sense for a particular dataset.\n",
      "    For example, the curve may be drawn over negative values when smoothing data\n",
      "    that are naturally positive. The ``cut`` and ``clip`` parameters can be used\n",
      "    to control the extent of the curve, but datasets that have many observations\n",
      "    close to a natural boundary may be better served by a different visualization\n",
      "    method.\n",
      "    \n",
      "    Similar considerations apply when a dataset is naturally discrete or \"spiky\"\n",
      "    (containing many repeated observations of the same value). Kernel density\n",
      "    estimation will always produce a smooth curve, which would be misleading\n",
      "    in these situations.\n",
      "    \n",
      "    The units on the density axis are a common source of confusion. While kernel\n",
      "    density estimation produces a probability distribution, the height of the curve\n",
      "    at each point gives a density, not a probability. A probability can be obtained\n",
      "    only by integrating the density across a range. The curve is normalized so\n",
      "    that the integral over all possible values is 1, meaning that the scale of\n",
      "    the density axis depends on the data values.\n",
      "    \n",
      "    Examples\n",
      "    --------\n",
      "    \n",
      "    .. include:: ../docstrings/kdeplot.rst\n",
      "\n"
     ]
    }
   ],
   "source": [
    "help(sns.kdeplot)"
   ]
  },
  {
   "cell_type": "code",
   "execution_count": 54,
   "metadata": {
    "id": "5UlQTjBbkwqC",
    "outputId": "37a4e95d-e624-4368-92a6-e9337d54c563"
   },
   "outputs": [
    {
     "data": {
      "image/png": "[encoded data removed]",
      "text/plain": [
       "<Figure size 640x480 with 1 Axes>"
      ]
     },
     "metadata": {},
     "output_type": "display_data"
    }
   ],
   "source": [
    "sns.kdeplot(x, cumulative = True, label = 'empirical');\n",
    "\n",
    "xs = np.arange(-10, 15, 0.1)\n",
    "cdf = stats.norm.cdf(xs, loc=mu, scale=sigma)\n",
    "plt.plot(xs, cdf, label = 'theoretical')\n",
    "\n",
    "plt.legend();"
   ]
  },
  {
   "cell_type": "code",
   "execution_count": 55,
   "metadata": {
    "id": "FDR1BprmkwqE",
    "outputId": "2753793a-bd78-4395-bdc1-f6ba1ff7513c"
   },
   "outputs": [
    {
     "data": {
      "image/png": "[encoded data removed]",
      "text/plain": [
       "<Figure size 640x480 with 1 Axes>"
      ]
     },
     "metadata": {},
     "output_type": "display_data"
    }
   ],
   "source": [
    "sns.histplot(x, kde=True, bins=5);"
   ]
  },
  {
   "cell_type": "code",
   "execution_count": 56,
   "metadata": {},
   "outputs": [
    {
     "data": {
      "image/png": "[encoded data removed]",
      "text/plain": [
       "<Figure size 640x480 with 1 Axes>"
      ]
     },
     "metadata": {},
     "output_type": "display_data"
    }
   ],
   "source": [
    "plt.hist(x, density=True);\n",
    "l = np.linspace(-2, 10, 1000)\n",
    "y = stats.norm(loc=mu, scale=sigma).pdf(l)\n",
    "plt.plot(l, y);"
   ]
  },
  {
   "cell_type": "markdown",
   "metadata": {
    "id": "FpXApyYxkwqn"
   },
   "source": [
    "Гипотеза о нормальности для выборки, сгенерированной из нормального распределения не отвергается. Сгенерируем выборку из равномерного распределения, а после протестируем гипотезу о нормальности.  "
   ]
  },
  {
   "cell_type": "code",
   "execution_count": 60,
   "metadata": {
    "id": "W2CKyFiVkwqu",
    "outputId": "7427e2d0-3871-48a4-9e5f-3d14d8a4e061"
   },
   "outputs": [
    {
     "data": {
      "image/png": "[encoded data removed]",
      "text/plain": [
       "<Figure size 640x480 with 1 Axes>"
      ]
     },
     "metadata": {},
     "output_type": "display_data"
    }
   ],
   "source": [
    "x = stats.uniform(0,1).rvs(1000)\n",
    "sns.histplot(x, kde = True);"
   ]
  },
  {
   "cell_type": "code",
   "execution_count": 62,
   "metadata": {
    "id": "SbYABcOAkwq2",
    "outputId": "21289216-7470-4f1a-c9b5-d6ba252a7ed9"
   },
   "outputs": [
    {
     "data": {
      "image/png": "[encoded data removed]",
      "text/plain": [
       "<Figure size 640x480 with 1 Axes>"
      ]
     },
     "metadata": {},
     "output_type": "display_data"
    }
   ],
   "source": [
    "sns.kdeplot(x, cumulative=True)\n",
    "\n",
    "mu, sigma = x.mean(), x.std(ddof=1)\n",
    "xs = np.arange(-0.5,1.6,0.1)\n",
    "cdf = stats.norm.cdf(xs, loc=mu, scale=sigma)\n",
    "plt.plot(xs, cdf)\n",
    "\n",
    "plt.legend(['observed', 'empirical']);"
   ]
  },
  {
   "cell_type": "code",
   "execution_count": 63,
   "metadata": {
    "id": "20H6_Fu6kwq7",
    "outputId": "8593a0a5-78e3-4d5e-bdec-5af5afe6abae"
   },
   "outputs": [
    {
     "data": {
      "text/plain": [
       "KstestResult(statistic=0.06916938344221923, pvalue=0.00013237056122705556, statistic_location=0.6997085901095637, statistic_sign=-1)"
      ]
     },
     "execution_count": 63,
     "metadata": {},
     "output_type": "execute_result"
    }
   ],
   "source": [
    "stats.kstest(x, 'norm', args=(x.mean(), x.std(ddof=1)))"
   ]
  },
  {
   "cell_type": "markdown",
   "metadata": {
    "id": "kxvDJ-H-kwq9"
   },
   "source": [
    "Видим, что $p\\_value$ очень низкое. Гипотеза о нормальности отвергается. По аналогии можно протестировать гипотезу для любого распределения. Вот пример с экспоненциальным распределением: "
   ]
  },
  {
   "cell_type": "code",
   "execution_count": 64,
   "metadata": {},
   "outputs": [
    {
     "data": {
      "image/png": "[encoded data removed]",
      "text/plain": [
       "<Figure size 640x480 with 1 Axes>"
      ]
     },
     "metadata": {},
     "output_type": "display_data"
    }
   ],
   "source": [
    "x = stats.t(5).rvs(100)\n",
    "mu, sigma = x.mean(), x.std(ddof=1)\n",
    "sns.histplot(x, kde=True, stat='density');\n",
    "l = np.linspace(-4, 4, 1000)\n",
    "y = stats.norm(loc=mu, scale=sigma).pdf(l)\n",
    "plt.plot(l, y);"
   ]
  },
  {
   "cell_type": "code",
   "execution_count": 65,
   "metadata": {},
   "outputs": [
    {
     "data": {
      "text/plain": [
       "KstestResult(statistic=0.0819273137454741, pvalue=0.487776509658441, statistic_location=-1.2863778591555035, statistic_sign=-1)"
      ]
     },
     "execution_count": 65,
     "metadata": {},
     "output_type": "execute_result"
    }
   ],
   "source": [
    "stats.kstest(x, stats.norm(loc=mu, scale=sigma).cdf)"
   ]
  },
  {
   "cell_type": "markdown",
   "metadata": {},
   "source": [
    "Видим, что критерий ошибся."
   ]
  },
  {
   "cell_type": "code",
   "execution_count": 67,
   "metadata": {
    "id": "OjhVKugpkwrV",
    "outputId": "64f1cf50-66ec-492d-d4da-f179bbd3db47"
   },
   "outputs": [
    {
     "data": {
      "image/png": "[encoded data removed]",
      "text/plain": [
       "<Figure size 640x480 with 1 Axes>"
      ]
     },
     "metadata": {},
     "output_type": "display_data"
    }
   ],
   "source": [
    "x = stats.expon(scale=0.2).rvs(1000)\n",
    "sns.histplot(x, kde=True);"
   ]
  },
  {
   "cell_type": "code",
   "execution_count": 68,
   "metadata": {
    "id": "G4GF5OIFkwrf",
    "outputId": "b0d0e188-79e5-4081-bc40-9e89db28fe3b"
   },
   "outputs": [
    {
     "data": {
      "text/plain": [
       "KstestResult(statistic=0.02324303208131273, pvalue=0.6436739479468829, statistic_location=0.08984046425083152, statistic_sign=-1)"
      ]
     },
     "execution_count": 68,
     "metadata": {},
     "output_type": "execute_result"
    }
   ],
   "source": [
    "stats.kstest(x, 'expon', args=(0, x.mean()))"
   ]
  },
  {
   "cell_type": "markdown",
   "metadata": {
    "id": "URz0Fdy6kwri"
   },
   "source": [
    "Первый аргумент отвечает за `loc` (экспоненциальное распределение со сдвигом). Он равен нулю."
   ]
  },
  {
   "cell_type": "markdown",
   "metadata": {
    "id": "4Dk5f-Phkwrj"
   },
   "source": [
    "## Андерсон-Дарлинг и нормальность распределения акций\n",
    "\n",
    "Подгрузим данные о стоимости акций Яндекса в течение последних $10$ лет."
   ]
  },
  {
   "cell_type": "code",
   "execution_count": 69,
   "metadata": {
    "id": "72qoVVZIkwrl",
    "outputId": "fdab959d-a8aa-4390-9672-5d3622293806"
   },
   "outputs": [
    {
     "name": "stdout",
     "output_type": "stream",
     "text": [
      "(2291, 6)\n"
     ]
    },
    {
     "data": {
      "text/html": [
       "<div>\n",
       "<style scoped>\n",
       "    .dataframe tbody tr th:only-of-type {\n",
       "        vertical-align: middle;\n",
       "    }\n",
       "\n",
       "    .dataframe tbody tr th {\n",
       "        vertical-align: top;\n",
       "    }\n",
       "\n",
       "    .dataframe thead th {\n",
       "        text-align: right;\n",
       "    }\n",
       "</style>\n",
       "<table border=\"1\" class=\"dataframe\">\n",
       "  <thead>\n",
       "    <tr style=\"text-align: right;\">\n",
       "      <th></th>\n",
       "      <th>open</th>\n",
       "      <th>high</th>\n",
       "      <th>low</th>\n",
       "      <th>close</th>\n",
       "      <th>volume</th>\n",
       "      <th>adjusted</th>\n",
       "    </tr>\n",
       "    <tr>\n",
       "      <th>fielddate</th>\n",
       "      <th></th>\n",
       "      <th></th>\n",
       "      <th></th>\n",
       "      <th></th>\n",
       "      <th></th>\n",
       "      <th></th>\n",
       "    </tr>\n",
       "  </thead>\n",
       "  <tbody>\n",
       "    <tr>\n",
       "      <th>2011-05-24</th>\n",
       "      <td>35.000000</td>\n",
       "      <td>42.009998</td>\n",
       "      <td>30.549999</td>\n",
       "      <td>38.840000</td>\n",
       "      <td>70186700.0</td>\n",
       "      <td>38.840000</td>\n",
       "    </tr>\n",
       "    <tr>\n",
       "      <th>2011-05-25</th>\n",
       "      <td>37.750000</td>\n",
       "      <td>37.900002</td>\n",
       "      <td>34.400002</td>\n",
       "      <td>35.000000</td>\n",
       "      <td>11761600.0</td>\n",
       "      <td>35.000000</td>\n",
       "    </tr>\n",
       "    <tr>\n",
       "      <th>2011-05-26</th>\n",
       "      <td>34.450001</td>\n",
       "      <td>35.450001</td>\n",
       "      <td>34.000000</td>\n",
       "      <td>34.770000</td>\n",
       "      <td>4417500.0</td>\n",
       "      <td>34.770000</td>\n",
       "    </tr>\n",
       "    <tr>\n",
       "      <th>2011-05-27</th>\n",
       "      <td>34.750000</td>\n",
       "      <td>35.000000</td>\n",
       "      <td>34.000000</td>\n",
       "      <td>34.450001</td>\n",
       "      <td>2006000.0</td>\n",
       "      <td>34.450001</td>\n",
       "    </tr>\n",
       "    <tr>\n",
       "      <th>2011-05-31</th>\n",
       "      <td>34.950001</td>\n",
       "      <td>35.369999</td>\n",
       "      <td>32.610001</td>\n",
       "      <td>33.450001</td>\n",
       "      <td>3981100.0</td>\n",
       "      <td>33.450001</td>\n",
       "    </tr>\n",
       "  </tbody>\n",
       "</table>\n",
       "</div>"
      ],
      "text/plain": [
       "                 open       high        low      close      volume   adjusted\n",
       "fielddate                                                                    \n",
       "2011-05-24  35.000000  42.009998  30.549999  38.840000  70186700.0  38.840000\n",
       "2011-05-25  37.750000  37.900002  34.400002  35.000000  11761600.0  35.000000\n",
       "2011-05-26  34.450001  35.450001  34.000000  34.770000   4417500.0  34.770000\n",
       "2011-05-27  34.750000  35.000000  34.000000  34.450001   2006000.0  34.450001\n",
       "2011-05-31  34.950001  35.369999  32.610001  33.450001   3981100.0  33.450001"
      ]
     },
     "execution_count": 69,
     "metadata": {},
     "output_type": "execute_result"
    }
   ],
   "source": [
    "df = pd.read_csv('ynd.tsv', sep='\\t')\n",
    "df['fielddate'] = pd.to_datetime(df['fielddate'])\n",
    "df.set_index('fielddate', inplace=True)\n",
    "print(df.shape)\n",
    "df.head()"
   ]
  },
  {
   "cell_type": "markdown",
   "metadata": {
    "id": "fn5DHUhtkwrq"
   },
   "source": [
    "Обычно финансисты работают с доходностями:\n",
    "\n",
    "$$\n",
    "R_t = \\frac{P_t}{P_{t-1}}\n",
    "$$"
   ]
  },
  {
   "cell_type": "code",
   "execution_count": 70,
   "metadata": {
    "id": "6vBC7SuQkwrt",
    "outputId": "0276fa6c-e247-4af1-d405-3509abc61f55"
   },
   "outputs": [
    {
     "data": {
      "text/plain": [
       "fielddate\n",
       "2011-05-25   -0.098867\n",
       "2011-05-26   -0.006571\n",
       "2011-05-27   -0.009203\n",
       "2011-05-31   -0.029028\n",
       "2011-06-01   -0.035874\n",
       "                ...   \n",
       "2020-06-24    0.026531\n",
       "2020-06-25    0.004970\n",
       "2020-06-26   -0.030069\n",
       "2020-06-29    0.004283\n",
       "2020-06-30    0.015841\n",
       "Name: close, Length: 2290, dtype: float64"
      ]
     },
     "execution_count": 70,
     "metadata": {},
     "output_type": "execute_result"
    }
   ],
   "source": [
    "r = ((df.close.diff())/df.close.shift(1)).dropna()\n",
    "r"
   ]
  },
  {
   "cell_type": "code",
   "execution_count": 71,
   "metadata": {
    "id": "j73UyNsFkwru",
    "outputId": "334b4dd2-3b17-4ffb-8b92-3496e1dfdcd0"
   },
   "outputs": [
    {
     "data": {
      "image/png": "[encoded data removed]",
      "text/plain": [
       "<Figure size 640x480 with 1 Axes>"
      ]
     },
     "metadata": {},
     "output_type": "display_data"
    }
   ],
   "source": [
    "# r.hist(bins=50, density=True);\n",
    "# sns.histplot(r, stat='density', bins=30, kde=True, label='observed')\n",
    "sns.kdeplot(r, label='observed')\n",
    "\n",
    "xs = np.linspace(-0.2, 0.2, 300)\n",
    "pdf = stats.norm(loc=r.mean(), scale=r.std(ddof=1)).pdf(xs)\n",
    "plt.plot(xs, pdf, label='theoretical')\n",
    "\n",
    "plt.legend()\n",
    "plt.show()"
   ]
  },
  {
   "cell_type": "code",
   "execution_count": 72,
   "metadata": {
    "id": "CGHnYVg2kwrx",
    "outputId": "365968a5-731b-4fd0-e775-48f046d51346"
   },
   "outputs": [
    {
     "data": {
      "text/plain": [
       "''"
      ]
     },
     "execution_count": 72,
     "metadata": {},
     "output_type": "execute_result"
    },
    {
     "data": {
      "image/png": "[encoded data removed]",
      "text/plain": [
       "<Figure size 640x480 with 1 Axes>"
      ]
     },
     "metadata": {},
     "output_type": "display_data"
    }
   ],
   "source": [
    "sns.kdeplot(r, cumulative=True)\n",
    "\n",
    "\n",
    "mu, sigma = r.mean(), r.std(ddof=1)\n",
    "xs = np.arange(r.min(),r.max(),0.001)\n",
    "cdf = stats.norm.cdf(xs, loc=mu, scale=sigma)\n",
    "plt.plot(xs, cdf)\n",
    "\n",
    "plt.legend(['observed', 'theoretical'])\n",
    "plt.xlim(-.05,.05)\n",
    ";"
   ]
  },
  {
   "cell_type": "markdown",
   "metadata": {
    "id": "m8-wUfyvkwry"
   },
   "source": [
    " Как это не странно, оно оказывается куполообразным. Издали распределение напоминает собой нормальное. Однако это ещё не факт. Можно заметить, что у распределения довольно тяжёлые хвосты. Чтобы увидеть это построим диаграмму квантиль-квантиль. Она позволяет сравнить выборочное распределение с теоретическим. "
   ]
  },
  {
   "cell_type": "code",
   "execution_count": 73,
   "metadata": {
    "id": "_bu5-Kflkwrz",
    "outputId": "527685e5-4a47-4e3b-9134-657bdd7ea0e2"
   },
   "outputs": [
    {
     "data": {
      "image/png": "[encoded data removed]",
      "text/plain": [
       "<Figure size 640x480 with 1 Axes>"
      ]
     },
     "metadata": {},
     "output_type": "display_data"
    }
   ],
   "source": [
    "stats.probplot(r, dist=\"norm\", plot=plt);"
   ]
  },
  {
   "cell_type": "code",
   "execution_count": 74,
   "metadata": {
    "id": "ClD-zwBCkwr0",
    "outputId": "392eb241-f030-4952-a9ac-baec3d89ef3c"
   },
   "outputs": [
    {
     "data": {
      "image/png": "[encoded data removed]",
      "text/plain": [
       "<Figure size 640x480 with 1 Axes>"
      ]
     },
     "metadata": {},
     "output_type": "display_data"
    }
   ],
   "source": [
    "stats.probplot(stats.norm(loc=5, scale=3).rvs(1000), dist=\"norm\", plot=plt);"
   ]
  },
  {
   "cell_type": "markdown",
   "metadata": {
    "id": "TufoFjlwkwr1"
   },
   "source": [
    "На диаграмме по оси $x$ откладываются значения из теоретического нормального распределения. По оси $y$ откладывают значения, которые фигурируют в выборке. Если бы наши наблюдения были из нормального распределения, они бы оказались на диагонали. Центр, действительно, укладывается на неё. А вот хвосты с неё спадают. Они оказываются тяжелыми.\n",
    "\n",
    "Проверим гипотезу тестом Лиллиефорса. "
   ]
  },
  {
   "cell_type": "code",
   "execution_count": 76,
   "metadata": {
    "id": "jP7ePqRskwr2",
    "outputId": "bd5cff2c-9905-4a01-e761-b00260232f25"
   },
   "outputs": [
    {
     "name": "stdout",
     "output_type": "stream",
     "text": [
      "Help on function kstest_fit in module statsmodels.stats._lilliefors:\n",
      "\n",
      "kstest_fit(x, dist='norm', pvalmethod='table')\n",
      "    Test assumed normal or exponential distribution using Lilliefors' test.\n",
      "    \n",
      "    Lilliefors' test is a Kolmogorov-Smirnov test with estimated parameters.\n",
      "    \n",
      "    Parameters\n",
      "    ----------\n",
      "    x : array_like, 1d\n",
      "        Data to test.\n",
      "    dist : {'norm', 'exp'}, optional\n",
      "        The assumed distribution.\n",
      "    pvalmethod : {'approx', 'table'}, optional\n",
      "        The method used to compute the p-value of the test statistic. In\n",
      "        general, 'table' is preferred and makes use of a very large simulation.\n",
      "        'approx' is only valid for normality. if `dist = 'exp'` `table` is\n",
      "        always used. 'approx' uses the approximation formula of Dalal and\n",
      "        Wilkinson, valid for pvalues < 0.1. If the pvalue is larger than 0.1,\n",
      "        then the result of `table` is returned.\n",
      "    \n",
      "    Returns\n",
      "    -------\n",
      "    ksstat : float\n",
      "        Kolmogorov-Smirnov test statistic with estimated mean and variance.\n",
      "    pvalue : float\n",
      "        If the pvalue is lower than some threshold, e.g. 0.05, then we can\n",
      "        reject the Null hypothesis that the sample comes from a normal\n",
      "        distribution.\n",
      "    \n",
      "    Notes\n",
      "    -----\n",
      "    'table' uses an improved table based on 10,000,000 simulations. The\n",
      "    critical values are approximated using\n",
      "    log(cv_alpha) = b_alpha + c[0] log(n) + c[1] log(n)**2\n",
      "    where cv_alpha is the critical value for a test with size alpha,\n",
      "    b_alpha is an alpha-specific intercept term and c[1] and c[2] are\n",
      "    coefficients that are shared all alphas.\n",
      "    Values in the table are linearly interpolated. Values outside the\n",
      "    range are be returned as bounds, 0.990 for large and 0.001 for small\n",
      "    pvalues.\n",
      "    \n",
      "    For implementation details, see  lilliefors_critical_value_simulation.py in\n",
      "    the test directory.\n",
      "\n"
     ]
    }
   ],
   "source": [
    "from statsmodels.stats.diagnostic import lilliefors\n",
    "help(lilliefors)"
   ]
  },
  {
   "cell_type": "code",
   "execution_count": 77,
   "metadata": {},
   "outputs": [
    {
     "data": {
      "text/plain": [
       "(0.05845783509742092, 0.0009999999999998899)"
      ]
     },
     "execution_count": 77,
     "metadata": {},
     "output_type": "execute_result"
    }
   ],
   "source": [
    "lilliefors(r)"
   ]
  },
  {
   "cell_type": "markdown",
   "metadata": {
    "id": "7Lae45CFkwr3"
   },
   "source": [
    "Гипотеза о нормальности отвергается, p_value оказалось очень маленьким. Обычно доходности моделируют с помощью распределений с тяжёлыми хвостами. Попробуем проверить ту же самую гипотезу, но с помощью критерия, специфицированного под хвосты [(Андерсона-Дарлинга)](https://www.statsmodels.org/stable/generated/statsmodels.stats.diagnostic.normal_ad.html#statsmodels.stats.diagnostic.normal_ad): мы переносим на хвосты распределения дополнительный вес, чтобы критерий был к ним более чувствительным. "
   ]
  },
  {
   "cell_type": "code",
   "execution_count": 78,
   "metadata": {
    "id": "0-_6gAYCkwr4",
    "outputId": "6caa95ee-3e82-412e-fa13-ba569c2d881d"
   },
   "outputs": [
    {
     "data": {
      "text/plain": [
       "(19.749165127467222, 0.0)"
      ]
     },
     "execution_count": 78,
     "metadata": {},
     "output_type": "execute_result"
    }
   ],
   "source": [
    "from statsmodels.stats.diagnostic import normal_ad\n",
    "normal_ad(r) \n",
    "# гипотеза о нормальности отвергается"
   ]
  },
  {
   "cell_type": "markdown",
   "metadata": {
    "id": "G2i5VzZGkwr5"
   },
   "source": [
    "Попробуем этот же тест для выборки из нормального распределения."
   ]
  },
  {
   "cell_type": "code",
   "execution_count": 79,
   "metadata": {
    "id": "2YXGd5hBkwsB",
    "outputId": "b6187a08-583d-4a7e-9a27-25f367dee91e"
   },
   "outputs": [
    {
     "data": {
      "text/plain": [
       "(0.30854008901587804, 0.5593484656006075)"
      ]
     },
     "execution_count": 79,
     "metadata": {},
     "output_type": "execute_result"
    }
   ],
   "source": [
    "x = stats.norm(loc=5, scale=3).rvs(10000)\n",
    "normal_ad(x)\n",
    "# гипотеза о нормальности не отвергается"
   ]
  },
  {
   "cell_type": "markdown",
   "metadata": {},
   "source": [
    "Используем также пройденные на лекции тесты Харке-Бера и Шапиро-Уилка"
   ]
  },
  {
   "cell_type": "code",
   "execution_count": 80,
   "metadata": {},
   "outputs": [
    {
     "data": {
      "text/plain": [
       "SignificanceResult(statistic=1608.435640753106, pvalue=0.0)"
      ]
     },
     "execution_count": 80,
     "metadata": {},
     "output_type": "execute_result"
    }
   ],
   "source": [
    "stats.jarque_bera(r)"
   ]
  },
  {
   "cell_type": "code",
   "execution_count": 81,
   "metadata": {},
   "outputs": [
    {
     "data": {
      "text/plain": [
       "ShapiroResult(statistic=0.9542825818061829, pvalue=3.4247872347225354e-26)"
      ]
     },
     "execution_count": 81,
     "metadata": {},
     "output_type": "execute_result"
    }
   ],
   "source": [
    "stats.shapiro(r)"
   ]
  },
  {
   "cell_type": "markdown",
   "metadata": {},
   "source": [
    "Видим, что оба теста отвергли нормальность выборки"
   ]
  },
  {
   "cell_type": "markdown",
   "metadata": {},
   "source": [
    "### Синтетический пример"
   ]
  },
  {
   "cell_type": "code",
   "execution_count": 82,
   "metadata": {},
   "outputs": [
    {
     "data": {
      "text/plain": [
       "(0.006239354846417133, 0.4457966680350897)"
      ]
     },
     "execution_count": 82,
     "metadata": {},
     "output_type": "execute_result"
    }
   ],
   "source": [
    "# x = stats.t(5).rvs(100)\n",
    "\n",
    "lilliefors(x)"
   ]
  },
  {
   "cell_type": "code",
   "execution_count": 83,
   "metadata": {},
   "outputs": [
    {
     "data": {
      "text/plain": [
       "SignificanceResult(statistic=1.4850506419659366, pvalue=0.47591056979551083)"
      ]
     },
     "execution_count": 83,
     "metadata": {},
     "output_type": "execute_result"
    }
   ],
   "source": [
    "stats.jarque_bera(x)"
   ]
  },
  {
   "cell_type": "code",
   "execution_count": 84,
   "metadata": {},
   "outputs": [
    {
     "name": "stderr",
     "output_type": "stream",
     "text": [
      "/Library/Frameworks/Python.framework/Versions/3.11/lib/python3.11/site-packages/scipy/stats/_morestats.py:1816: UserWarning: p-value may not be accurate for N > 5000.\n",
      "  warnings.warn(\"p-value may not be accurate for N > 5000.\")\n"
     ]
    },
    {
     "data": {
      "text/plain": [
       "ShapiroResult(statistic=0.9998126029968262, pvalue=0.5735803246498108)"
      ]
     },
     "execution_count": 84,
     "metadata": {},
     "output_type": "execute_result"
    }
   ],
   "source": [
    "stats.shapiro(x)"
   ]
  },
  {
   "cell_type": "markdown",
   "metadata": {
    "id": "Whrce_1ikwsC"
   },
   "source": [
    "## Однородность выборок\n",
    "\n",
    "__Ещё одно полезное свойство критерия:__ можно проверять гипотезу об однородности выборок, то есть пытаться понять из одного ли распределения они к нам пришли. Колмогоров доказал, что для этого случая распределение Колмогорова тоже подходит."
   ]
  },
  {
   "cell_type": "code",
   "execution_count": 133,
   "metadata": {
    "id": "uhSCrGo-kwsD"
   },
   "outputs": [],
   "source": [
    "x = stats.norm(loc = 5, scale = 3).rvs(1000)\n",
    "y = stats.norm(loc = 5.001, scale = 3).rvs(1000)\n",
    "z = stats.expon(scale = 0.2).rvs(1000)"
   ]
  },
  {
   "cell_type": "code",
   "execution_count": 134,
   "metadata": {},
   "outputs": [
    {
     "data": {
      "text/html": [
       "<div>\n",
       "<style scoped>\n",
       "    .dataframe tbody tr th:only-of-type {\n",
       "        vertical-align: middle;\n",
       "    }\n",
       "\n",
       "    .dataframe tbody tr th {\n",
       "        vertical-align: top;\n",
       "    }\n",
       "\n",
       "    .dataframe thead th {\n",
       "        text-align: right;\n",
       "    }\n",
       "</style>\n",
       "<table border=\"1\" class=\"dataframe\">\n",
       "  <thead>\n",
       "    <tr style=\"text-align: right;\">\n",
       "      <th></th>\n",
       "      <th>0</th>\n",
       "    </tr>\n",
       "  </thead>\n",
       "  <tbody>\n",
       "    <tr>\n",
       "      <th>0</th>\n",
       "      <td>5.412290</td>\n",
       "    </tr>\n",
       "    <tr>\n",
       "      <th>1</th>\n",
       "      <td>0.694932</td>\n",
       "    </tr>\n",
       "    <tr>\n",
       "      <th>2</th>\n",
       "      <td>1.959852</td>\n",
       "    </tr>\n",
       "  </tbody>\n",
       "</table>\n",
       "</div>"
      ],
      "text/plain": [
       "          0\n",
       "0  5.412290\n",
       "1  0.694932\n",
       "2  1.959852"
      ]
     },
     "execution_count": 134,
     "metadata": {},
     "output_type": "execute_result"
    }
   ],
   "source": [
    "pd.DataFrame(x).head(3)"
   ]
  },
  {
   "cell_type": "code",
   "execution_count": 135,
   "metadata": {},
   "outputs": [
    {
     "data": {
      "text/plain": [
       "4.926122435829757"
      ]
     },
     "execution_count": 135,
     "metadata": {},
     "output_type": "execute_result"
    }
   ],
   "source": [
    "x.mean()"
   ]
  },
  {
   "cell_type": "code",
   "execution_count": 136,
   "metadata": {},
   "outputs": [
    {
     "data": {
      "text/html": [
       "<div>\n",
       "<style scoped>\n",
       "    .dataframe tbody tr th:only-of-type {\n",
       "        vertical-align: middle;\n",
       "    }\n",
       "\n",
       "    .dataframe tbody tr th {\n",
       "        vertical-align: top;\n",
       "    }\n",
       "\n",
       "    .dataframe thead th {\n",
       "        text-align: right;\n",
       "    }\n",
       "</style>\n",
       "<table border=\"1\" class=\"dataframe\">\n",
       "  <thead>\n",
       "    <tr style=\"text-align: right;\">\n",
       "      <th></th>\n",
       "      <th>0</th>\n",
       "    </tr>\n",
       "  </thead>\n",
       "  <tbody>\n",
       "    <tr>\n",
       "      <th>0</th>\n",
       "      <td>8.150992</td>\n",
       "    </tr>\n",
       "    <tr>\n",
       "      <th>1</th>\n",
       "      <td>6.083185</td>\n",
       "    </tr>\n",
       "    <tr>\n",
       "      <th>2</th>\n",
       "      <td>-0.229647</td>\n",
       "    </tr>\n",
       "  </tbody>\n",
       "</table>\n",
       "</div>"
      ],
      "text/plain": [
       "          0\n",
       "0  8.150992\n",
       "1  6.083185\n",
       "2 -0.229647"
      ]
     },
     "execution_count": 136,
     "metadata": {},
     "output_type": "execute_result"
    }
   ],
   "source": [
    "pd.DataFrame(y).head(3)"
   ]
  },
  {
   "cell_type": "code",
   "execution_count": 137,
   "metadata": {},
   "outputs": [
    {
     "data": {
      "text/plain": [
       "5.080611064265801"
      ]
     },
     "execution_count": 137,
     "metadata": {},
     "output_type": "execute_result"
    }
   ],
   "source": [
    "y.mean()"
   ]
  },
  {
   "cell_type": "code",
   "execution_count": 138,
   "metadata": {
    "id": "fnSyqRv2kwsE",
    "outputId": "53e6bc20-01e8-4e31-8106-99f4ae34677e"
   },
   "outputs": [
    {
     "data": {
      "text/plain": [
       "KstestResult(statistic=0.039, pvalue=0.43260886958153144, statistic_location=4.795016449585141, statistic_sign=1)"
      ]
     },
     "execution_count": 138,
     "metadata": {},
     "output_type": "execute_result"
    }
   ],
   "source": [
    "stats.ks_2samp(x, y)\n",
    "# гипотеза об однородности НЕ отвергается"
   ]
  },
  {
   "cell_type": "code",
   "execution_count": 139,
   "metadata": {
    "id": "fycYsACAkwsE",
    "outputId": "31465225-988c-4d09-b286-4fda0c854d4a"
   },
   "outputs": [
    {
     "data": {
      "text/plain": [
       "KstestResult(statistic=0.908, pvalue=0.0, statistic_location=0.8892187756699219, statistic_sign=-1)"
      ]
     },
     "execution_count": 139,
     "metadata": {},
     "output_type": "execute_result"
    }
   ],
   "source": [
    "stats.ks_2samp(x, z)\n",
    "# гипотеза об однородности отвергается"
   ]
  },
  {
   "cell_type": "markdown",
   "metadata": {
    "id": "Ga6_523GkwsF"
   },
   "source": [
    "> __Важно:__  Критерий работает только для непрерывных распределений! Для дискретных ситуаций обычно используют критерий Пирсона. "
   ]
  },
  {
   "cell_type": "markdown",
   "metadata": {
    "id": "4lRiTiGikwsI"
   },
   "source": [
    "## Критерий Пирсона\n",
    "\n",
    "\n",
    "__Гипотеза о неизвестном законе распределения:__ \n",
    "\n",
    "\n",
    "$$\n",
    "\\begin{aligned}\n",
    "H_0 : X \\sim F_0 \\\\\n",
    "H_1 : X \\nsim F_0\n",
    "\\end{aligned}\n",
    "$$\n",
    "\n",
    "__Статистика:__ \n",
    "\n",
    "$$\n",
    "\\sum_{j=1}^s \\frac{\\left(O_{i}-E_{i}\\right)^{2}}{E_{i}} = \\sum_{j=1}^s \\frac{(v_j - n \\cdot p_j(\\hat \\theta))^2}{n \\cdot p_j(\\hat \\theta)} \\sim \\chi^2_{s - k - 1},\n",
    "$$\n",
    "\n",
    "где \n",
    "- $\\hat \\theta$ - любая состоятельная оценка параметра, \n",
    "- $v_j$ - частота, с которой значение $j$ встречалось в выборке, \n",
    "- $p_j$ - теоретическая вероятность того, что выпадет значение $j$,  \n",
    "- $s$ - число значений, которые может принимать случайная величина, \n",
    "- $k$ - размерность вектора параметров $\\theta$, \n"
   ]
  },
  {
   "cell_type": "markdown",
   "metadata": {
    "id": "ikhESqCGkwsJ"
   },
   "source": [
    "### Число пи, дискретное распределение\n",
    "\n",
    "В десятичной записи числа $\\pi$ среди первых $10002$ знаков после запятой цифры $0, 1, \\dots, 9$ встречаются соответственно 968, 1026, 1021, 974, 1014, 1046, 1021, 970, 948, 1014 раз. Можно ли при уровне значимости $0.05$ считать эти цифры случайными? При каком уровне значимости эта гипотеза отвергается?"
   ]
  },
  {
   "cell_type": "markdown",
   "metadata": {
    "id": "h7wQzeejkwsL"
   },
   "source": [
    "У нас есть дискретное распределение и $10$ вероятностей. Нужно проверить гипотезу о равномерности этого распределения. Будем делать это с помощью критерия Пирсона. "
   ]
  },
  {
   "cell_type": "code",
   "execution_count": 143,
   "metadata": {},
   "outputs": [
    {
     "name": "stdout",
     "output_type": "stream",
     "text": [
      "Help on function chisquare in module scipy.stats._stats_py:\n",
      "\n",
      "chisquare(f_obs, f_exp=None, ddof=0, axis=0)\n",
      "    Calculate a one-way chi-square test.\n",
      "    \n",
      "    The chi-square test tests the null hypothesis that the categorical data\n",
      "    has the given frequencies.\n",
      "    \n",
      "    Parameters\n",
      "    ----------\n",
      "    f_obs : array_like\n",
      "        Observed frequencies in each category.\n",
      "    f_exp : array_like, optional\n",
      "        Expected frequencies in each category.  By default the categories are\n",
      "        assumed to be equally likely.\n",
      "    ddof : int, optional\n",
      "        \"Delta degrees of freedom\": adjustment to the degrees of freedom\n",
      "        for the p-value.  The p-value is computed using a chi-squared\n",
      "        distribution with ``k - 1 - ddof`` degrees of freedom, where `k`\n",
      "        is the number of observed frequencies.  The default value of `ddof`\n",
      "        is 0.\n",
      "    axis : int or None, optional\n",
      "        The axis of the broadcast result of `f_obs` and `f_exp` along which to\n",
      "        apply the test.  If axis is None, all values in `f_obs` are treated\n",
      "        as a single data set.  Default is 0.\n",
      "    \n",
      "    Returns\n",
      "    -------\n",
      "    chisq : float or ndarray\n",
      "        The chi-squared test statistic.  The value is a float if `axis` is\n",
      "        None or `f_obs` and `f_exp` are 1-D.\n",
      "    p : float or ndarray\n",
      "        The p-value of the test.  The value is a float if `ddof` and the\n",
      "        return value `chisq` are scalars.\n",
      "    \n",
      "    See Also\n",
      "    --------\n",
      "    scipy.stats.power_divergence\n",
      "    scipy.stats.fisher_exact : Fisher exact test on a 2x2 contingency table.\n",
      "    scipy.stats.barnard_exact : An unconditional exact test. An alternative\n",
      "        to chi-squared test for small sample sizes.\n",
      "    \n",
      "    Notes\n",
      "    -----\n",
      "    This test is invalid when the observed or expected frequencies in each\n",
      "    category are too small.  A typical rule is that all of the observed\n",
      "    and expected frequencies should be at least 5. According to [3]_, the\n",
      "    total number of samples is recommended to be greater than 13,\n",
      "    otherwise exact tests (such as Barnard's Exact test) should be used\n",
      "    because they do not overreject.\n",
      "    \n",
      "    Also, the sum of the observed and expected frequencies must be the same\n",
      "    for the test to be valid; `chisquare` raises an error if the sums do not\n",
      "    agree within a relative tolerance of ``1e-8``.\n",
      "    \n",
      "    The default degrees of freedom, k-1, are for the case when no parameters\n",
      "    of the distribution are estimated. If p parameters are estimated by\n",
      "    efficient maximum likelihood then the correct degrees of freedom are\n",
      "    k-1-p. If the parameters are estimated in a different way, then the\n",
      "    dof can be between k-1-p and k-1. However, it is also possible that\n",
      "    the asymptotic distribution is not chi-square, in which case this test\n",
      "    is not appropriate.\n",
      "    \n",
      "    References\n",
      "    ----------\n",
      "    .. [1] Lowry, Richard.  \"Concepts and Applications of Inferential\n",
      "           Statistics\". Chapter 8.\n",
      "           https://web.archive.org/web/20171022032306/http://vassarstats.net:80/textbook/ch8pt1.html\n",
      "    .. [2] \"Chi-squared test\", https://en.wikipedia.org/wiki/Chi-squared_test\n",
      "    .. [3] Pearson, Karl. \"On the criterion that a given system of deviations from the probable\n",
      "           in the case of a correlated system of variables is such that it can be reasonably\n",
      "           supposed to have arisen from random sampling\", Philosophical Magazine. Series 5. 50\n",
      "           (1900), pp. 157-175.\n",
      "    \n",
      "    Examples\n",
      "    --------\n",
      "    When just `f_obs` is given, it is assumed that the expected frequencies\n",
      "    are uniform and given by the mean of the observed frequencies.\n",
      "    \n",
      "    >>> import numpy as np\n",
      "    >>> from scipy.stats import chisquare\n",
      "    >>> chisquare([16, 18, 16, 14, 12, 12])\n",
      "    (2.0, 0.84914503608460956)\n",
      "    \n",
      "    With `f_exp` the expected frequencies can be given.\n",
      "    \n",
      "    >>> chisquare([16, 18, 16, 14, 12, 12], f_exp=[16, 16, 16, 16, 16, 8])\n",
      "    (3.5, 0.62338762774958223)\n",
      "    \n",
      "    When `f_obs` is 2-D, by default the test is applied to each column.\n",
      "    \n",
      "    >>> obs = np.array([[16, 18, 16, 14, 12, 12], [32, 24, 16, 28, 20, 24]]).T\n",
      "    >>> obs.shape\n",
      "    (6, 2)\n",
      "    >>> chisquare(obs)\n",
      "    (array([ 2.        ,  6.66666667]), array([ 0.84914504,  0.24663415]))\n",
      "    \n",
      "    By setting ``axis=None``, the test is applied to all data in the array,\n",
      "    which is equivalent to applying the test to the flattened array.\n",
      "    \n",
      "    >>> chisquare(obs, axis=None)\n",
      "    (23.31034482758621, 0.015975692534127565)\n",
      "    >>> chisquare(obs.ravel())\n",
      "    (23.31034482758621, 0.015975692534127565)\n",
      "    \n",
      "    `ddof` is the change to make to the default degrees of freedom.\n",
      "    \n",
      "    >>> chisquare([16, 18, 16, 14, 12, 12], ddof=1)\n",
      "    (2.0, 0.73575888234288467)\n",
      "    \n",
      "    The calculation of the p-values is done by broadcasting the\n",
      "    chi-squared statistic with `ddof`.\n",
      "    \n",
      "    >>> chisquare([16, 18, 16, 14, 12, 12], ddof=[0,1,2])\n",
      "    (2.0, array([ 0.84914504,  0.73575888,  0.5724067 ]))\n",
      "    \n",
      "    `f_obs` and `f_exp` are also broadcast.  In the following, `f_obs` has\n",
      "    shape (6,) and `f_exp` has shape (2, 6), so the result of broadcasting\n",
      "    `f_obs` and `f_exp` has shape (2, 6).  To compute the desired chi-squared\n",
      "    statistics, we use ``axis=1``:\n",
      "    \n",
      "    >>> chisquare([16, 18, 16, 14, 12, 12],\n",
      "    ...           f_exp=[[16, 16, 16, 16, 16, 8], [8, 20, 20, 16, 12, 12]],\n",
      "    ...           axis=1)\n",
      "    (array([ 3.5 ,  9.25]), array([ 0.62338763,  0.09949846]))\n",
      "\n"
     ]
    }
   ],
   "source": [
    "help(stats.chisquare)"
   ]
  },
  {
   "cell_type": "code",
   "execution_count": 141,
   "metadata": {
    "id": "E1ETRp_1kwsM"
   },
   "outputs": [],
   "source": [
    "import math"
   ]
  },
  {
   "cell_type": "code",
   "execution_count": 142,
   "metadata": {
    "id": "d23jd3s4kwsN",
    "outputId": "5f7a9d12-c99d-4a7f-a003-35252664906c"
   },
   "outputs": [
    {
     "data": {
      "text/plain": [
       "3.141592653589793"
      ]
     },
     "execution_count": 142,
     "metadata": {},
     "output_type": "execute_result"
    }
   ],
   "source": [
    "math.pi"
   ]
  },
  {
   "cell_type": "code",
   "execution_count": 144,
   "metadata": {
    "id": "Hsf_6BfgkwsN",
    "outputId": "e520259a-992e-4cfa-aff8-15e99238fc03"
   },
   "outputs": [
    {
     "data": {
      "text/plain": [
       "array([0.09678064, 0.10257948, 0.10207958, 0.09738052, 0.10137972,\n",
       "       0.10457908, 0.10207958, 0.0969806 , 0.09478104, 0.10137972])"
      ]
     },
     "execution_count": 144,
     "metadata": {},
     "output_type": "execute_result"
    }
   ],
   "source": [
    "n = 10002\n",
    "observed_cnts = np.array([968, 1026, 1021, 974, 1014, 1046, 1021, 970, 948, 1014])\n",
    "p = observed_cnts/n\n",
    "p"
   ]
  },
  {
   "cell_type": "code",
   "execution_count": 145,
   "metadata": {
    "id": "w5JQech6kwsO",
    "outputId": "bb407fa0-3894-4d9c-a255-d2d68bc6f4d3"
   },
   "outputs": [
    {
     "data": {
      "text/plain": [
       "array([0.1, 0.1, 0.1, 0.1, 0.1, 0.1, 0.1, 0.1, 0.1, 0.1])"
      ]
     },
     "execution_count": 145,
     "metadata": {},
     "output_type": "execute_result"
    }
   ],
   "source": [
    "expected_prob = np.array([1/10]*10)\n",
    "expected_prob"
   ]
  },
  {
   "cell_type": "markdown",
   "metadata": {
    "id": "amWmw85kkwsO"
   },
   "source": [
    "Статистика для теста Пирсона выглядит как\n",
    "\n",
    "$$\n",
    "\\sum_{j=1}^{10} \\frac{(v_j - n \\cdot p_j(\\hat \\theta))^2}{n \\cdot p_j(\\hat \\theta)} \\sim \\chi^2_{9},\n",
    "$$"
   ]
  },
  {
   "cell_type": "code",
   "execution_count": 146,
   "metadata": {
    "id": "BorOd1YRkwsP",
    "outputId": "228b5b03-405c-4238-833e-40a20c757fdd"
   },
   "outputs": [
    {
     "data": {
      "text/plain": [
       "9.367726454709057"
      ]
     },
     "execution_count": 146,
     "metadata": {},
     "output_type": "execute_result"
    }
   ],
   "source": [
    "T = np.sum((observed_cnts - n*expected_prob)**2 / (n*expected_prob))\n",
    "T"
   ]
  },
  {
   "cell_type": "markdown",
   "metadata": {
    "id": "BqjubJK0kwsS"
   },
   "source": [
    "Статистика Пирсона имеет $\\chi^2_9$. Найдём для неё критическое значения на уровне значимости $5\\%$."
   ]
  },
  {
   "cell_type": "code",
   "execution_count": 147,
   "metadata": {
    "id": "a9Wk66h7kwsT",
    "outputId": "7bce2443-29d5-4106-a698-bf61d803d053"
   },
   "outputs": [
    {
     "data": {
      "text/plain": [
       "16.918977604620448"
      ]
     },
     "execution_count": 147,
     "metadata": {},
     "output_type": "execute_result"
    }
   ],
   "source": [
    "chi2_crit = stats.chi2.ppf(0.95, df=9)\n",
    "chi2_crit"
   ]
  },
  {
   "cell_type": "code",
   "execution_count": 148,
   "metadata": {},
   "outputs": [
    {
     "data": {
      "text/plain": [
       "True"
      ]
     },
     "execution_count": 148,
     "metadata": {},
     "output_type": "execute_result"
    }
   ],
   "source": [
    "T < chi2_crit\n",
    "# не отвергаем гипотезу о равновероятности числе в числе пи"
   ]
  },
  {
   "cell_type": "markdown",
   "metadata": {
    "id": "mQ1--JGgkwsU"
   },
   "source": [
    "Наблюдаемое значение меньше критического. Гипотеза о равномерности не отвергается. Найдём $p\\_value$."
   ]
  },
  {
   "cell_type": "code",
   "execution_count": 149,
   "metadata": {
    "id": "J78U5zCxkwsb",
    "outputId": "5942228a-14f4-45a6-a983-095fcc6b957e"
   },
   "outputs": [
    {
     "data": {
      "text/plain": [
       "0.4040452075150309"
      ]
     },
     "execution_count": 149,
     "metadata": {},
     "output_type": "execute_result"
    }
   ],
   "source": [
    "1 - stats.chi2.cdf(T, df=9)"
   ]
  },
  {
   "cell_type": "markdown",
   "metadata": {
    "id": "3q2GQs95kwsi"
   },
   "source": [
    "Видим, что $p\\_value$ на порядок выше $5\\%$, значит гипотеза не отвергается. \n",
    "\n",
    "Ровно то же самое можно сделать встроенным тестом. "
   ]
  },
  {
   "cell_type": "code",
   "execution_count": 150,
   "metadata": {
    "id": "cCKaQP7Wkwsj",
    "outputId": "91f5addd-90bb-4247-a87c-14535fade4df"
   },
   "outputs": [
    {
     "data": {
      "text/plain": [
       "Power_divergenceResult(statistic=9.367726454709057, pvalue=0.40404520751503087)"
      ]
     },
     "execution_count": 150,
     "metadata": {},
     "output_type": "execute_result"
    }
   ],
   "source": [
    "from scipy.stats import chisquare\n",
    "chisquare(observed_cnts, f_exp=n*expected_prob)"
   ]
  },
  {
   "cell_type": "markdown",
   "metadata": {
    "id": "gGEWpH1wkwsr"
   },
   "source": [
    "> По аналогии с тестом Колмогорова, тест Пирсона можно использовать, чтобы проверять выборки на однородность. В таком случае критерий хочет получить на вход таблицу сопряжённости для двух распределений. "
   ]
  },
  {
   "cell_type": "markdown",
   "metadata": {
    "id": "1AxK83MZkwsu"
   },
   "source": [
    "### Экспоненциальное распределение (непрерывное)"
   ]
  },
  {
   "cell_type": "markdown",
   "metadata": {},
   "source": [
    "Для удобного разбиения на бины можно использовать функцию `pd.cut` https://pandas.pydata.org/docs/reference/api/pandas.cut.html"
   ]
  },
  {
   "cell_type": "markdown",
   "metadata": {
    "id": "CYscwX7Wkws1"
   },
   "source": [
    "Проверяем гипотезу, что выборка ниже из экспоненциального распределения"
   ]
  },
  {
   "cell_type": "code",
   "execution_count": 151,
   "metadata": {
    "id": "npGzwWzKkws2",
    "outputId": "c472c53c-949d-4306-8d4a-e933f7e1d1be"
   },
   "outputs": [
    {
     "data": {
      "image/png": "[encoded data removed]",
      "text/plain": [
       "<Figure size 640x480 with 1 Axes>"
      ]
     },
     "metadata": {},
     "output_type": "display_data"
    }
   ],
   "source": [
    "X = np.array([1,1,7,16,8,8,11,7,5,45,13,0,36,15,4,15,7,39,6,91,28,7,0,2, \n",
    "              9,2,6,1,4,83,2,3,5,34,1,1,2,0,11,79,2,2,4,1,3,0,2,2,17,55,8, \n",
    "              9,20,23,16,3,5,5,4,84,1,20,1,1,20,0,19,17,5,66,0,2,5,1,26, \n",
    "              14,1,0,9,88,4,11,4,2,1,32,21,2,15,76,44,8,16,12,1,9])\n",
    "scale_mle = X.mean()\n",
    "n = X.size\n",
    "\n",
    "sns.histplot(X, stat='density', label='empirical', bins=10, kde=True);\n",
    "\n",
    "xs = np.arange(X.min(),X.max(),0.1)\n",
    "plt.plot(xs, stats.expon.pdf(xs, scale=scale_mle), 'red', label='theoretical');\n",
    "plt.legend()\n",
    "plt.show()"
   ]
  },
  {
   "cell_type": "code",
   "execution_count": 152,
   "metadata": {
    "id": "Nki24S9Mkws_"
   },
   "outputs": [
    {
     "data": {
      "text/plain": [
       "array([       -inf,  1.5738227 ,  3.3332068 ,  5.32783198,  7.63045776,\n",
       "       10.35388601, 13.68709281, 17.98434376, 24.04097882, 34.39486483,\n",
       "               inf])"
      ]
     },
     "execution_count": 152,
     "metadata": {},
     "output_type": "execute_result"
    }
   ],
   "source": [
    "# для разбиения на интервалы выберем в качестве границ теор. квантиили\n",
    "# Q = [0.2,0.4,0.6,0.8]\n",
    "Q = np.arange(0.1,1,0.1)\n",
    "qs_ = [stats.expon.ppf(q, scale=scale_mle) for q in Q]\n",
    "qs = np.array([-np.inf]+qs_+[np.inf])\n",
    "qs\n"
   ]
  },
  {
   "cell_type": "code",
   "execution_count": 153,
   "metadata": {},
   "outputs": [
    {
     "data": {
      "text/plain": [
       "array([0.1, 0.2, 0.3, 0.4, 0.5, 0.6, 0.7, 0.8, 0.9])"
      ]
     },
     "execution_count": 153,
     "metadata": {},
     "output_type": "execute_result"
    }
   ],
   "source": [
    "Q"
   ]
  },
  {
   "cell_type": "code",
   "execution_count": 154,
   "metadata": {
    "id": "S2EOqg4PkwtD",
    "outputId": "e31339e8-da98-4c32-cc1e-97cf79903d5c"
   },
   "outputs": [
    {
     "name": "stdout",
     "output_type": "stream",
     "text": [
      "P(-inf ≤ X < 1.574) \t= 0.100, \t Expected=9.6, \t Observed=20\n",
      "P(1.574 ≤ X < 3.333) \t= 0.100, \t Expected=9.6, \t Observed=14\n",
      "P(3.333 ≤ X < 5.328) \t= 0.100, \t Expected=9.6, \t Observed=12\n",
      "P(5.328 ≤ X < 7.630) \t= 0.100, \t Expected=9.6, \t Observed=6\n",
      "P(7.630 ≤ X < 10.354) \t= 0.100, \t Expected=9.6, \t Observed=8\n",
      "P(10.354 ≤ X < 13.687) \t= 0.100, \t Expected=9.6, \t Observed=5\n",
      "P(13.687 ≤ X < 17.984) \t= 0.100, \t Expected=9.6, \t Observed=9\n",
      "P(17.984 ≤ X < 24.041) \t= 0.100, \t Expected=9.6, \t Observed=6\n",
      "P(24.041 ≤ X < 34.395) \t= 0.100, \t Expected=9.6, \t Observed=4\n",
      "P(34.395 ≤ X < inf) \t= 0.100, \t Expected=9.6, \t Observed=12\n"
     ]
    }
   ],
   "source": [
    "E_ = []\n",
    "O_ = []\n",
    "\n",
    "for i in range(len(qs)-1):\n",
    "    a,b = qs[i], qs[i+1]\n",
    "    prob = stats.expon.cdf(b, scale=scale_mle) - stats.expon.cdf(a, scale=scale_mle)\n",
    "    E = n*prob # expected\n",
    "    O = sum([a<x<=b for x in X]) # observed\n",
    "    \n",
    "    print(f'P({a:.3f} ≤ X < {b:.3f}) \\t= {prob:.3f}, \\t Expected={E:.1f}, \\t Observed={O}')\n",
    "    \n",
    "    E_.append(E)\n",
    "    O_.append(O)\n",
    "\n",
    "E_ = np.array(E_)\n",
    "O_ = np.array(O_)\n",
    "\n",
    "assert O_.sum() == n"
   ]
  },
  {
   "cell_type": "code",
   "execution_count": 155,
   "metadata": {
    "id": "jTjgKfW0kwtK",
    "outputId": "daadf927-28f1-42da-c3a1-8c615ceede79"
   },
   "outputs": [
    {
     "name": "stdout",
     "output_type": "stream",
     "text": [
      "stat_obs\t 22.958333333333336\n",
      "stat_crit\t 15.50731305586545\n",
      "p-value \t 0.0034181553602405934\n"
     ]
    }
   ],
   "source": [
    "# 10 - кол-во возможных бинов\n",
    "# -1 потому что оценили параметр lambda для экспоненционального распределения\n",
    "# -1 из формулы\n",
    "s = len(O_)\n",
    "df = s-1-1\n",
    "alpha = 0.05\n",
    "\n",
    "stat_obs = np.sum((O_-E_)**2/E)\n",
    "pval = 1-stats.chi2.cdf(stat_obs, df=df)\n",
    "\n",
    "\n",
    "print('stat_obs\\t',stat_obs)\n",
    "print('stat_crit\\t',stats.chi2.ppf(1-alpha,df))\n",
    "print('p-value \\t',pval)\n",
    "\n",
    "# гипотеза отвергается на уровне значимости 5%"
   ]
  },
  {
   "cell_type": "code",
   "execution_count": 156,
   "metadata": {
    "id": "EGkySOAYkwtO",
    "outputId": "ff894f2e-2aed-4539-a180-791d7c02989d"
   },
   "outputs": [
    {
     "data": {
      "text/plain": [
       "Power_divergenceResult(statistic=22.95833333333333, pvalue=0.0034181553602406255)"
      ]
     },
     "execution_count": 156,
     "metadata": {},
     "output_type": "execute_result"
    }
   ],
   "source": [
    "from scipy.stats import chisquare\n",
    "# через scipy \n",
    "chisquare(O_, f_exp=E_, ddof=1)"
   ]
  },
  {
   "cell_type": "markdown",
   "metadata": {
    "id": "JHX1mZUGkwty"
   },
   "source": [
    "### Снова однородность\n",
    "\n",
    "Критерий Пирсона также можно применять для таблиц сопряженности размера больше чем 2 на 2.\n",
    "\n",
    "В этой случае мы будем тестировать гипотезу о том, что 2 категориальных фактора не зависимы друг от друга, причем категорий у этих факторов может быть более двух.\n",
    "\n",
    "__Статистика:__ \n",
    "\n",
    "$$\n",
    "\\sum_{j=1}^s \\frac{\\left(O_{i}-E_{i}\\right)^{2}}{E_{i}} \\sim \\chi^2_{(k-1)(m-1)},\n",
    "$$\n",
    "\n",
    "где \n",
    "- $k$ - кол-во строк в таблице сопряженности, \n",
    "- $m$ - кол-во столбцов в таблице сопряженности\n",
    "\n",
    "Рассмотрим пример. Мужчин и женщин опрашивают о их политических взглядах. Правда ли, что их распределение взглядов значимо различается?"
   ]
  },
  {
   "cell_type": "code",
   "execution_count": 157,
   "metadata": {
    "id": "j3SvLH1Gkwt8",
    "outputId": "1bf8d7c3-3263-41dd-82da-f1bb94423227"
   },
   "outputs": [
    {
     "data": {
      "text/html": [
       "<div>\n",
       "<style scoped>\n",
       "    .dataframe tbody tr th:only-of-type {\n",
       "        vertical-align: middle;\n",
       "    }\n",
       "\n",
       "    .dataframe tbody tr th {\n",
       "        vertical-align: top;\n",
       "    }\n",
       "\n",
       "    .dataframe thead th {\n",
       "        text-align: right;\n",
       "    }\n",
       "</style>\n",
       "<table border=\"1\" class=\"dataframe\">\n",
       "  <thead>\n",
       "    <tr style=\"text-align: right;\">\n",
       "      <th></th>\n",
       "      <th>Democrat</th>\n",
       "      <th>Independent</th>\n",
       "      <th>Republican</th>\n",
       "    </tr>\n",
       "  </thead>\n",
       "  <tbody>\n",
       "    <tr>\n",
       "      <th>F</th>\n",
       "      <td>762</td>\n",
       "      <td>327</td>\n",
       "      <td>468</td>\n",
       "    </tr>\n",
       "    <tr>\n",
       "      <th>M</th>\n",
       "      <td>484</td>\n",
       "      <td>239</td>\n",
       "      <td>477</td>\n",
       "    </tr>\n",
       "  </tbody>\n",
       "</table>\n",
       "</div>"
      ],
      "text/plain": [
       "   Democrat  Independent  Republican\n",
       "F       762          327         468\n",
       "M       484          239         477"
      ]
     },
     "execution_count": 157,
     "metadata": {},
     "output_type": "execute_result"
    }
   ],
   "source": [
    "df = pd.DataFrame([[762, 327, 468],[484, 239, 477]])\n",
    "df.columns = [\"Democrat\",\"Independent\", \"Republican\"]\n",
    "df.index = [\"F\", \"M\"]\n",
    "df"
   ]
  },
  {
   "cell_type": "code",
   "execution_count": 158,
   "metadata": {
    "id": "ydx0K0wEkwt-",
    "outputId": "e405bab5-0bd4-4c0a-fdc5-1e7a457bd7be"
   },
   "outputs": [
    {
     "data": {
      "image/png": "[encoded data removed]",
      "text/plain": [
       "<Figure size 640x480 with 1 Axes>"
      ]
     },
     "metadata": {},
     "output_type": "display_data"
    }
   ],
   "source": [
    "(df.T/df.sum(axis=1)).T.plot(kind='bar');\n",
    "plt.legend(loc='center left', bbox_to_anchor=(1, 0.5));"
   ]
  },
  {
   "cell_type": "code",
   "execution_count": 159,
   "metadata": {
    "id": "B1gsKLZCkwt-",
    "outputId": "d4b45aff-fd2f-4640-d0fa-f1fbb63be99c"
   },
   "outputs": [
    {
     "data": {
      "text/plain": [
       "2757"
      ]
     },
     "execution_count": 159,
     "metadata": {},
     "output_type": "execute_result"
    }
   ],
   "source": [
    "n = df.sum().sum()\n",
    "n"
   ]
  },
  {
   "cell_type": "code",
   "execution_count": 160,
   "metadata": {
    "id": "g_RLauYakwuA",
    "outputId": "8106a423-dfc1-4392-a62f-7f2a18b0456b"
   },
   "outputs": [
    {
     "data": {
      "text/plain": [
       "Democrat       1246\n",
       "Independent     566\n",
       "Republican      945\n",
       "dtype: int64"
      ]
     },
     "execution_count": 160,
     "metadata": {},
     "output_type": "execute_result"
    }
   ],
   "source": [
    "df.sum()"
   ]
  },
  {
   "cell_type": "code",
   "execution_count": 161,
   "metadata": {
    "id": "oY6sAuVjkwuB",
    "outputId": "7acb5ed6-f5d6-4c2c-b528-5e4694f398a7"
   },
   "outputs": [
    {
     "data": {
      "text/plain": [
       "F    0.564744\n",
       "M    0.435256\n",
       "dtype: float64"
      ]
     },
     "execution_count": 161,
     "metadata": {},
     "output_type": "execute_result"
    }
   ],
   "source": [
    "df.sum(axis=1)/n"
   ]
  },
  {
   "cell_type": "code",
   "execution_count": 162,
   "metadata": {
    "id": "c_arSqxrkwuB"
   },
   "outputs": [],
   "source": [
    "# посмотрим, что выдаст нам тест\n",
    "from scipy.stats import chi2_contingency\n",
    "chi, pvalue, df_, expected = chi2_contingency(df.values)"
   ]
  },
  {
   "cell_type": "code",
   "execution_count": 163,
   "metadata": {
    "id": "-l7Enk5EkwuD",
    "outputId": "652e3a8a-83e8-4ecd-a865-4dabab471833"
   },
   "outputs": [
    {
     "data": {
      "text/plain": [
       "array([[703.67138194, 319.64526659, 533.68335147],\n",
       "       [542.32861806, 246.35473341, 411.31664853]])"
      ]
     },
     "execution_count": 163,
     "metadata": {},
     "output_type": "execute_result"
    }
   ],
   "source": [
    "expected"
   ]
  },
  {
   "cell_type": "code",
   "execution_count": 164,
   "metadata": {
    "id": "13RIHzXxkwuF",
    "outputId": "a52391e2-88d9-4d86-ea0c-3060908c3dd9"
   },
   "outputs": [
    {
     "data": {
      "text/plain": [
       "array([[703.671024, 319.645104, 533.68308 ],\n",
       "       [542.328976, 246.354896, 411.31692 ]])"
      ]
     },
     "execution_count": 164,
     "metadata": {},
     "output_type": "execute_result"
    }
   ],
   "source": [
    "# откуда ожидаемые частоты - выясним вручную\n",
    "np.array(\n",
    "[[1246 * 0.564744, 1246*0.435256],\n",
    "  [566 * 0.564744, 566 *0.435256 ],\n",
    "  [945 * 0.564744, 945 *0.435256 ],\n",
    " ]).T"
   ]
  },
  {
   "cell_type": "code",
   "execution_count": 165,
   "metadata": {
    "id": "GIKRyr-IkwuI",
    "outputId": "e37d80cd-07b9-45da-d3eb-fd218adcdf18"
   },
   "outputs": [
    {
     "data": {
      "text/plain": [
       "array([[703.67138194, 319.64526659, 533.68335147],\n",
       "       [542.32861806, 246.35473341, 411.31664853]])"
      ]
     },
     "execution_count": 165,
     "metadata": {},
     "output_type": "execute_result"
    }
   ],
   "source": [
    "# откуда ожидаемые частоты - матрично\n",
    "(df.sum().values.reshape(3,1)  * (df.sum(axis=1)/n).values.reshape(1,2)).T"
   ]
  },
  {
   "cell_type": "code",
   "execution_count": 166,
   "metadata": {
    "id": "GdRhRLlgkwuK",
    "outputId": "4440429e-9568-4c2a-afd5-6bf65f4c5a5f"
   },
   "outputs": [
    {
     "data": {
      "text/plain": [
       "2"
      ]
     },
     "execution_count": 166,
     "metadata": {},
     "output_type": "execute_result"
    }
   ],
   "source": [
    "# (кол-во столбиков - 1) * (кол-во строк - 1)\n",
    "# (3-1)*(2-1)\n",
    "df_"
   ]
  },
  {
   "cell_type": "code",
   "execution_count": 167,
   "metadata": {
    "id": "NZ10OsIIkwuN",
    "outputId": "b6118ec4-ccc0-439b-ccb4-2ef137c34a22"
   },
   "outputs": [
    {
     "data": {
      "text/plain": [
       "2.9535891832117595e-07"
      ]
     },
     "execution_count": 167,
     "metadata": {},
     "output_type": "execute_result"
    }
   ],
   "source": [
    "pvalue"
   ]
  },
  {
   "cell_type": "code",
   "execution_count": 168,
   "metadata": {},
   "outputs": [
    {
     "data": {
      "text/plain": [
       "True"
      ]
     },
     "execution_count": 168,
     "metadata": {},
     "output_type": "execute_result"
    }
   ],
   "source": [
    "pvalue < 0.05"
   ]
  },
  {
   "cell_type": "markdown",
   "metadata": {
    "id": "WlXXE84LkwuO"
   },
   "source": [
    "Гипотеза об однородности выборок не принимается. "
   ]
  },
  {
   "cell_type": "code",
   "execution_count": null,
   "metadata": {},
   "outputs": [],
   "source": []
  }
 ],
 "metadata": {
  "colab": {
   "collapsed_sections": [],
   "name": "07.1_non_parametric.ipynb",
   "provenance": [],
   "toc_visible": true
  },
  "kernelspec": {
   "display_name": "Python 3 (ipykernel)",
   "language": "python",
   "name": "python3"
  },
  "language_info": {
   "codemirror_mode": {
    "name": "ipython",
    "version": 3
   },
   "file_extension": ".py",
   "mimetype": "text/x-python",
   "name": "python",
   "nbconvert_exporter": "python",
   "pygments_lexer": "ipython3",
   "version": "3.11.4"
  },
  "toc": {
   "base_numbering": "1",
   "nav_menu": {},
   "number_sections": false,
   "sideBar": true,
   "skip_h1_title": false,
   "title_cell": "Table of Contents",
   "title_sidebar": "Contents",
   "toc_cell": true,
   "toc_position": {
    "height": "calc(100% - 180px)",
    "left": "10px",
    "top": "150px",
    "width": "226.352px"
   },
   "toc_section_display": true,
   "toc_window_display": true
  }
 },
 "nbformat": 4,
 "nbformat_minor": 1
}
