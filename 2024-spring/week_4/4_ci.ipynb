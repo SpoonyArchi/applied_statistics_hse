{
 "cells": [
  {
   "cell_type": "markdown",
   "metadata": {
    "toc": true
   },
   "source": [
    "<h1>Table of Contents<span class=\"tocSkip\"></span></h1>\n",
    "</span></li></ul><ul class=\"toc-item\"><li><span><a href=\"#Доверительные-интервалы\" data-toc-modified-id=\"Доверительные-интервалы-1\">Доверительные интервалы</a></span><ul class=\"toc-item\"><li><span><a href=\"#Д.И.-для-среднего\" data-toc-modified-id=\"Д.И.-для-среднего-1.1\">Д.И. для среднего</a></span><ul class=\"toc-item\"><li><span><a href=\"#Асимптотический-доверительный-интервал\" data-toc-modified-id=\"Асимптотический-доверительный-интервал-1.1.1\">Асимптотический доверительный интервал</a></span></li><li><span><a href=\"#Точный-доверительный-интервал\" data-toc-modified-id=\"Точный-доверительный-интервал-1.1.2\">Точный доверительный интервал</a></span></li></ul></li><li><span><a href=\"#Д.И.-для-разности-средних\" data-toc-modified-id=\"Д.И.-для-разности-средних-1.2\">Д.И. для разности средних</a></span><ul class=\"toc-item\"><li><span><a href=\"#Ассимптотический\" data-toc-modified-id=\"Ассимптотический-1.2.1\">Ассимптотический</a></span></li><li><span><a href=\"#Точный-с-одинаковыми-дисперсиями\" data-toc-modified-id=\"Точный-с-одинаковыми-дисперсиями-1.2.2\">Точный с одинаковыми дисперсиями</a></span></li><li><span><a href=\"#Точный-с-различными-дисперсиями\" data-toc-modified-id=\"Точный-с-различными-дисперсиями-1.2.3\">Точный с различными дисперсиями</a></span></li></ul></li><li><span><a href=\"#Д.И.-для-дисперсии\" data-toc-modified-id=\"Д.И.-для-дисперсии-1.3\">Д.И. для дисперсии</a></span></li><li><span><a href=\"#Д.И.-для-отношения-дисперсий\" data-toc-modified-id=\"Д.И.-для-отношения-дисперсий-1.4\">Д.И. для отношения дисперсий</a></span><ul class=\"toc-item\"><li><span><a href=\"#Причем-тут-единица?\" data-toc-modified-id=\"Причем-тут-единица?-1.4.1\">Причем тут единица?</a></span></li></ul></li><li><span><a href=\"#А-можно-ли-было-пользоваться-нормальным-распределением?\" data-toc-modified-id=\"А-можно-ли-было-пользоваться-нормальным-распределением?-1.5\">А можно ли было пользоваться нормальным распределением?</a></span></li></ul></li></ul></div>"
   ]
  },
  {
   "cell_type": "code",
   "execution_count": 1,
   "metadata": {},
   "outputs": [],
   "source": [
    "import numpy as np\n",
    "import pandas as pd\n",
    "from scipy import stats\n",
    "import seaborn as sns\n",
    "import matplotlib.pyplot as plt\n",
    "plt.rcParams['figure.dpi'] = 80\n",
    "\n",
    "plt.style.use('ggplot')"
   ]
  },
  {
   "cell_type": "markdown",
   "metadata": {},
   "source": [
    "#  Доверительные интервалы \n",
    "\n",
    "Будем работать с данными по стоимости квартир в Москве из таблички `flat.csv`.\n"
   ]
  },
  {
   "cell_type": "code",
   "execution_count": 2,
   "metadata": {},
   "outputs": [
    {
     "name": "stdout",
     "output_type": "stream",
     "text": [
      "(2040, 11)\n"
     ]
    },
    {
     "data": {
      "text/html": [
       "<div>\n",
       "<style scoped>\n",
       "    .dataframe tbody tr th:only-of-type {\n",
       "        vertical-align: middle;\n",
       "    }\n",
       "\n",
       "    .dataframe tbody tr th {\n",
       "        vertical-align: top;\n",
       "    }\n",
       "\n",
       "    .dataframe thead th {\n",
       "        text-align: right;\n",
       "    }\n",
       "</style>\n",
       "<table border=\"1\" class=\"dataframe\">\n",
       "  <thead>\n",
       "    <tr style=\"text-align: right;\">\n",
       "      <th></th>\n",
       "      <th>n</th>\n",
       "      <th>price</th>\n",
       "      <th>totsp</th>\n",
       "      <th>livesp</th>\n",
       "      <th>kitsp</th>\n",
       "      <th>dist</th>\n",
       "      <th>metrdist</th>\n",
       "      <th>walk</th>\n",
       "      <th>brick</th>\n",
       "      <th>floor</th>\n",
       "      <th>code</th>\n",
       "    </tr>\n",
       "  </thead>\n",
       "  <tbody>\n",
       "    <tr>\n",
       "      <th>0</th>\n",
       "      <td>1</td>\n",
       "      <td>81</td>\n",
       "      <td>58</td>\n",
       "      <td>40</td>\n",
       "      <td>6.0</td>\n",
       "      <td>12.5</td>\n",
       "      <td>7</td>\n",
       "      <td>1</td>\n",
       "      <td>1</td>\n",
       "      <td>1</td>\n",
       "      <td>3</td>\n",
       "    </tr>\n",
       "    <tr>\n",
       "      <th>1</th>\n",
       "      <td>2</td>\n",
       "      <td>75</td>\n",
       "      <td>44</td>\n",
       "      <td>28</td>\n",
       "      <td>6.0</td>\n",
       "      <td>13.5</td>\n",
       "      <td>7</td>\n",
       "      <td>1</td>\n",
       "      <td>0</td>\n",
       "      <td>1</td>\n",
       "      <td>6</td>\n",
       "    </tr>\n",
       "    <tr>\n",
       "      <th>2</th>\n",
       "      <td>3</td>\n",
       "      <td>128</td>\n",
       "      <td>70</td>\n",
       "      <td>42</td>\n",
       "      <td>6.0</td>\n",
       "      <td>14.5</td>\n",
       "      <td>3</td>\n",
       "      <td>1</td>\n",
       "      <td>1</td>\n",
       "      <td>1</td>\n",
       "      <td>3</td>\n",
       "    </tr>\n",
       "    <tr>\n",
       "      <th>3</th>\n",
       "      <td>4</td>\n",
       "      <td>95</td>\n",
       "      <td>61</td>\n",
       "      <td>37</td>\n",
       "      <td>6.0</td>\n",
       "      <td>13.5</td>\n",
       "      <td>7</td>\n",
       "      <td>1</td>\n",
       "      <td>0</td>\n",
       "      <td>1</td>\n",
       "      <td>1</td>\n",
       "    </tr>\n",
       "    <tr>\n",
       "      <th>4</th>\n",
       "      <td>5</td>\n",
       "      <td>330</td>\n",
       "      <td>104</td>\n",
       "      <td>60</td>\n",
       "      <td>11.0</td>\n",
       "      <td>10.5</td>\n",
       "      <td>7</td>\n",
       "      <td>0</td>\n",
       "      <td>1</td>\n",
       "      <td>1</td>\n",
       "      <td>3</td>\n",
       "    </tr>\n",
       "  </tbody>\n",
       "</table>\n",
       "</div>"
      ],
      "text/plain": [
       "   n  price  totsp  livesp  kitsp  dist  metrdist  walk  brick  floor  code\n",
       "0  1     81     58      40    6.0  12.5         7     1      1      1     3\n",
       "1  2     75     44      28    6.0  13.5         7     1      0      1     6\n",
       "2  3    128     70      42    6.0  14.5         3     1      1      1     3\n",
       "3  4     95     61      37    6.0  13.5         7     1      0      1     1\n",
       "4  5    330    104      60   11.0  10.5         7     0      1      1     3"
      ]
     },
     "execution_count": 2,
     "metadata": {},
     "output_type": "execute_result"
    }
   ],
   "source": [
    "df = pd.read_csv('flat.csv', sep = '\\t')\n",
    "print(df.shape)\n",
    "df.head()"
   ]
  },
  {
   "cell_type": "code",
   "execution_count": 12,
   "metadata": {},
   "outputs": [
    {
     "data": {
      "text/html": [
       "<div>\n",
       "<style scoped>\n",
       "    .dataframe tbody tr th:only-of-type {\n",
       "        vertical-align: middle;\n",
       "    }\n",
       "\n",
       "    .dataframe tbody tr th {\n",
       "        vertical-align: top;\n",
       "    }\n",
       "\n",
       "    .dataframe thead th {\n",
       "        text-align: right;\n",
       "    }\n",
       "</style>\n",
       "<table border=\"1\" class=\"dataframe\">\n",
       "  <thead>\n",
       "    <tr style=\"text-align: right;\">\n",
       "      <th></th>\n",
       "      <th>n</th>\n",
       "      <th>price</th>\n",
       "      <th>totsp</th>\n",
       "      <th>livesp</th>\n",
       "      <th>kitsp</th>\n",
       "      <th>dist</th>\n",
       "      <th>metrdist</th>\n",
       "      <th>walk</th>\n",
       "      <th>brick</th>\n",
       "      <th>floor</th>\n",
       "      <th>code</th>\n",
       "    </tr>\n",
       "  </thead>\n",
       "  <tbody>\n",
       "    <tr>\n",
       "      <th>count</th>\n",
       "      <td>2040.000000</td>\n",
       "      <td>2040.000000</td>\n",
       "      <td>2040.000000</td>\n",
       "      <td>2040.000000</td>\n",
       "      <td>2040.000000</td>\n",
       "      <td>2040.000000</td>\n",
       "      <td>2040.000000</td>\n",
       "      <td>2040.000000</td>\n",
       "      <td>2040.000000</td>\n",
       "      <td>2040.000000</td>\n",
       "      <td>2040.000000</td>\n",
       "    </tr>\n",
       "    <tr>\n",
       "      <th>mean</th>\n",
       "      <td>1020.500000</td>\n",
       "      <td>127.496569</td>\n",
       "      <td>73.084314</td>\n",
       "      <td>46.337255</td>\n",
       "      <td>8.898529</td>\n",
       "      <td>11.015686</td>\n",
       "      <td>8.117157</td>\n",
       "      <td>0.685784</td>\n",
       "      <td>0.323039</td>\n",
       "      <td>0.790686</td>\n",
       "      <td>4.322059</td>\n",
       "    </tr>\n",
       "    <tr>\n",
       "      <th>std</th>\n",
       "      <td>589.041594</td>\n",
       "      <td>51.878220</td>\n",
       "      <td>15.123450</td>\n",
       "      <td>7.894348</td>\n",
       "      <td>2.787073</td>\n",
       "      <td>3.375539</td>\n",
       "      <td>3.815574</td>\n",
       "      <td>0.464317</td>\n",
       "      <td>0.467752</td>\n",
       "      <td>0.406918</td>\n",
       "      <td>2.183289</td>\n",
       "    </tr>\n",
       "    <tr>\n",
       "      <th>min</th>\n",
       "      <td>1.000000</td>\n",
       "      <td>50.000000</td>\n",
       "      <td>44.000000</td>\n",
       "      <td>28.000000</td>\n",
       "      <td>5.000000</td>\n",
       "      <td>3.000000</td>\n",
       "      <td>1.000000</td>\n",
       "      <td>0.000000</td>\n",
       "      <td>0.000000</td>\n",
       "      <td>0.000000</td>\n",
       "      <td>1.000000</td>\n",
       "    </tr>\n",
       "    <tr>\n",
       "      <th>25%</th>\n",
       "      <td>510.750000</td>\n",
       "      <td>95.000000</td>\n",
       "      <td>62.000000</td>\n",
       "      <td>42.000000</td>\n",
       "      <td>7.000000</td>\n",
       "      <td>9.000000</td>\n",
       "      <td>5.000000</td>\n",
       "      <td>0.000000</td>\n",
       "      <td>0.000000</td>\n",
       "      <td>1.000000</td>\n",
       "      <td>3.000000</td>\n",
       "    </tr>\n",
       "    <tr>\n",
       "      <th>50%</th>\n",
       "      <td>1020.500000</td>\n",
       "      <td>115.000000</td>\n",
       "      <td>73.500000</td>\n",
       "      <td>45.000000</td>\n",
       "      <td>9.000000</td>\n",
       "      <td>12.000000</td>\n",
       "      <td>7.000000</td>\n",
       "      <td>1.000000</td>\n",
       "      <td>0.000000</td>\n",
       "      <td>1.000000</td>\n",
       "      <td>4.000000</td>\n",
       "    </tr>\n",
       "    <tr>\n",
       "      <th>75%</th>\n",
       "      <td>1530.250000</td>\n",
       "      <td>142.000000</td>\n",
       "      <td>79.000000</td>\n",
       "      <td>50.000000</td>\n",
       "      <td>10.000000</td>\n",
       "      <td>13.500000</td>\n",
       "      <td>10.000000</td>\n",
       "      <td>1.000000</td>\n",
       "      <td>1.000000</td>\n",
       "      <td>1.000000</td>\n",
       "      <td>6.000000</td>\n",
       "    </tr>\n",
       "    <tr>\n",
       "      <th>max</th>\n",
       "      <td>2040.000000</td>\n",
       "      <td>730.000000</td>\n",
       "      <td>192.000000</td>\n",
       "      <td>102.000000</td>\n",
       "      <td>25.000000</td>\n",
       "      <td>17.000000</td>\n",
       "      <td>20.000000</td>\n",
       "      <td>1.000000</td>\n",
       "      <td>1.000000</td>\n",
       "      <td>1.000000</td>\n",
       "      <td>8.000000</td>\n",
       "    </tr>\n",
       "  </tbody>\n",
       "</table>\n",
       "</div>"
      ],
      "text/plain": [
       "                 n        price        totsp       livesp        kitsp  \\\n",
       "count  2040.000000  2040.000000  2040.000000  2040.000000  2040.000000   \n",
       "mean   1020.500000   127.496569    73.084314    46.337255     8.898529   \n",
       "std     589.041594    51.878220    15.123450     7.894348     2.787073   \n",
       "min       1.000000    50.000000    44.000000    28.000000     5.000000   \n",
       "25%     510.750000    95.000000    62.000000    42.000000     7.000000   \n",
       "50%    1020.500000   115.000000    73.500000    45.000000     9.000000   \n",
       "75%    1530.250000   142.000000    79.000000    50.000000    10.000000   \n",
       "max    2040.000000   730.000000   192.000000   102.000000    25.000000   \n",
       "\n",
       "              dist     metrdist         walk        brick        floor  \\\n",
       "count  2040.000000  2040.000000  2040.000000  2040.000000  2040.000000   \n",
       "mean     11.015686     8.117157     0.685784     0.323039     0.790686   \n",
       "std       3.375539     3.815574     0.464317     0.467752     0.406918   \n",
       "min       3.000000     1.000000     0.000000     0.000000     0.000000   \n",
       "25%       9.000000     5.000000     0.000000     0.000000     1.000000   \n",
       "50%      12.000000     7.000000     1.000000     0.000000     1.000000   \n",
       "75%      13.500000    10.000000     1.000000     1.000000     1.000000   \n",
       "max      17.000000    20.000000     1.000000     1.000000     1.000000   \n",
       "\n",
       "              code  \n",
       "count  2040.000000  \n",
       "mean      4.322059  \n",
       "std       2.183289  \n",
       "min       1.000000  \n",
       "25%       3.000000  \n",
       "50%       4.000000  \n",
       "75%       6.000000  \n",
       "max       8.000000  "
      ]
     },
     "execution_count": 12,
     "metadata": {},
     "output_type": "execute_result"
    }
   ],
   "source": [
    "df.describe()"
   ]
  },
  {
   "cell_type": "markdown",
   "metadata": {},
   "source": [
    "__Описание переменных:__\n",
    "\n",
    "```\n",
    "n – номер квартиры по порядку\n",
    "price – цена квартиры в $1000\n",
    "totsp – общая площадь квартиры, кв.м.\n",
    "livesp жилая площадь квартиры, кв.м.\n",
    "kitsp – площадь кухни, кв.м.\n",
    "dist – расстояние от центра в км.\n",
    "metrdist – расстояние до метро в минутах\n",
    "walk – 1 – пешком от метро, 0 – на транспорте\n",
    "brick 1 – кирпичный, монолит ж/б, 0 – другой\n",
    "floor 1 – этаж кроме первого и последнего, 0 – иначе.\n",
    "code – число от 1 до 8, при помощи которого мы группируем наблюдения по\n",
    "подвыборкам:\n",
    "1. Наблюдения сгруппированы на севере, вокруг Калужско-Рижской линии\n",
    "метрополитена\n",
    "2. Север, вокруг Серпуховско-Тимирязевской линии метрополитена\n",
    "3. Северо-запад, вокруг Замоскворецкой линии метрополитена\n",
    "4. Северо-запад, вокруг Таганско-Краснопресненской линии метрополитена\n",
    "5. Юго-восток, вокруг Люблинской линии метрополитена\n",
    "6. Юго-восток, вокруг Таганско-Краснопресненской линии метрополитена\n",
    "7. Восток, вокруг Калиниской линии метрополитена\n",
    "8. Восток, вокруг Арбатско-Покровской линии метрополитена\n",
    "```\n"
   ]
  },
  {
   "cell_type": "markdown",
   "metadata": {},
   "source": [
    "## Д.И. для среднего"
   ]
  },
  {
   "cell_type": "code",
   "execution_count": 13,
   "metadata": {},
   "outputs": [],
   "source": [
    "def norm_conf_int(alpha, mean_hat, std_hat, margin = 5):\n",
    "    \"\"\"\n",
    "        Строит (1 - alpha)% асимптотически-нормальный доверительный интервал\n",
    "    \"\"\"\n",
    "    plt.figure(figsize = (10,5))\n",
    "    xs = np.linspace(mean_hat - margin, mean_hat + margin)\n",
    "    pdf = stats.norm(mean_hat, std_hat).pdf(xs)\n",
    "    plt.plot(xs, pdf)\n",
    "    plt.ylabel('$f(x)$', fontsize=18)\n",
    "    plt.xlabel('$x$', fontsize=18)\n",
    "    left, right = stats.norm.interval(1 - alpha, loc = mean_hat, scale = std_hat)\n",
    "    for i in [left, right]: \n",
    "        y_max = plt.ylim()[1]\n",
    "        plt.axvline(i, color=\"blue\", linestyle='dashed', lw=2)\n",
    "        if i == left:\n",
    "            xq = np.linspace(mean_hat - margin, left)\n",
    "        else:\n",
    "            xq = np.linspace(right, mean_hat + margin)\n",
    "        text_margin = 0.05\n",
    "        plt.text(i + text_margin, 0.8*y_max, round(i, 2), color=\"blue\", fontsize=14)\n",
    "        yq = stats.norm(mean_hat, std_hat).pdf(xq)\n",
    "        plt.fill_between(xq, 0, yq, color='blue', alpha=0.3)\n",
    "    return left, right"
   ]
  },
  {
   "cell_type": "markdown",
   "metadata": {},
   "source": [
    "Построим $95\\%$ асимптотический доверительный интервал для средней стоимости квартиры. \n",
    "\n",
    "Построим точный доверительный интервал для средней стоимости квартиры. \n",
    "\n",
    "Какой из них оказался уже? Почему? \n",
    "\n",
    "### Асимптотический доверительный интервал\n",
    "\n",
    "$$\n",
    "\\bar x \\pm z_{1 - \\frac{\\alpha}{2}} \\cdot \\sqrt{\\frac{\\hat{\\sigma}^2}{n}}.\n",
    "$$\n",
    "\n",
    "> __Предположения:__ \n",
    "В выборке нет аномалий, собиралась независимо, тогда среднее асимптотически нормально распределено (ЦПТ) "
   ]
  },
  {
   "cell_type": "code",
   "execution_count": null,
   "metadata": {},
   "outputs": [],
   "source": [
    "# вручную \n",
    "norm_rv = stats.norm()\n",
    "\n",
    "alpha = 0.05\n",
    "z_crit = norm_rv.ppf(1 - alpha/2)\n",
    "\n",
    "mu_hat = df.price.mean() \n",
    "var_hat = df.price.var(ddof=1) # delta degrees of freedom\n",
    "n = df.price.count()\n",
    "\n",
    "margin = z_crit*np.sqrt(var_hat/n)\n",
    "\n",
    "left = mu_hat - margin\n",
    "right = mu_hat + margin\n",
    "\n",
    "print(\"Доверительный интервал [{:.9}; {:.9}] ширины {:.9}\".format(left, right, right - left))"
   ]
  },
  {
   "cell_type": "code",
   "execution_count": null,
   "metadata": {},
   "outputs": [],
   "source": [
    "x = df.price\n",
    "\n",
    "def ci_asy(x, alpha=0.05):\n",
    "    margin = stats.norm().ppf(1-alpha/2) * (x.var(ddof=1)/n)**0.5\n",
    "    return x.mean() - margin, x.mean() + margin"
   ]
  },
  {
   "cell_type": "code",
   "execution_count": null,
   "metadata": {},
   "outputs": [],
   "source": [
    "ci_asy(df['price'], alpha=0.05)"
   ]
  },
  {
   "cell_type": "code",
   "execution_count": null,
   "metadata": {},
   "outputs": [],
   "source": [
    "ci_asy(df['totsp'], alpha=0.05)"
   ]
  },
  {
   "cell_type": "code",
   "execution_count": null,
   "metadata": {},
   "outputs": [],
   "source": [
    "mu_hat = df.price.mean() \n",
    "sd_hat = df.price.std(ddof=1)/np.sqrt(n)\n",
    "\n",
    "stats.norm.interval(0.95, loc=mu_hat, scale=sd_hat)"
   ]
  },
  {
   "cell_type": "code",
   "execution_count": null,
   "metadata": {},
   "outputs": [],
   "source": [
    "alpha = 0.05\n",
    "mu_hat = df.price.mean() \n",
    "sd_hat = df.price.std(ddof=1)/np.sqrt(n)\n",
    "\n",
    "norm_conf_int(alpha, mu_hat, sd_hat, margin=5);"
   ]
  },
  {
   "cell_type": "markdown",
   "metadata": {},
   "source": [
    "### Точный доверительный интервал\n",
    "\n",
    "$$\n",
    "\\bar x \\pm t_{1 - \\frac{\\alpha}{2}} \\cdot \\sqrt{\\frac{\\hat{\\sigma}^2}{n}}.\n",
    "$$\n",
    "\n",
    "> __Предположения:__ \n",
    "Выборка пришла из нормального распределения, дисперсия неизвестна"
   ]
  },
  {
   "cell_type": "code",
   "execution_count": null,
   "metadata": {},
   "outputs": [],
   "source": [
    "# вручную \n",
    "n = df.price.count()\n",
    "t_rv = stats.t(n - 1)\n",
    "\n",
    "alpha = 0.05\n",
    "t_crit = t_rv.ppf(1 - alpha/2)\n",
    "\n",
    "mu_hat = df.price.mean() \n",
    "var_hat = df.price.var(ddof=1)\n",
    "\n",
    "margin = t_crit*np.sqrt(var_hat/n)\n",
    "\n",
    "left = mu_hat - margin\n",
    "right = mu_hat + margin\n",
    "\n",
    "print(\"Доверительный интервал [{:.4}; {:.4}] ширины {:.4}\".format(left, right, right - left))"
   ]
  },
  {
   "cell_type": "code",
   "execution_count": null,
   "metadata": {},
   "outputs": [],
   "source": [
    "# Оказался немного шире, но похож, так как:\n",
    "# t(n) => N(0,1) при n -> inf \n",
    "n"
   ]
  },
  {
   "cell_type": "code",
   "execution_count": null,
   "metadata": {},
   "outputs": [],
   "source": [
    "# напишемм свою для подсчета доверительных интервалов =)\n",
    "def ci_asy(x, alpha=0.05, asy=False):\n",
    "    n = x.size\n",
    "    if asy:\n",
    "        margin = stats.norm().ppf(1-alpha/2) * (x.var(ddof=1)/n)**0.5\n",
    "    else:\n",
    "        margin = stats.t(n-1).ppf(1-alpha/2) * (x.var(ddof=1)/n)**0.5\n",
    "    return x.mean() - margin, x.mean() + margin"
   ]
  },
  {
   "cell_type": "code",
   "execution_count": null,
   "metadata": {},
   "outputs": [],
   "source": [
    "# пакетом \n",
    "n = df.price.count()\n",
    "mu_hat = df.price.mean()\n",
    "sd_hat = df.price.std(ddof=1) / np.sqrt(n)\n",
    "\n",
    "# тут 0.95 это 1 - alpha\n",
    "left, right = stats.t.interval(1-alpha, df=(n-1), loc=mu_hat, scale=sd_hat)\n",
    "print(\"Доверительный интервал [{:.9}; {:.9}] ширины {:.9}\".format(left, right, right - left))\n"
   ]
  },
  {
   "cell_type": "markdown",
   "metadata": {},
   "source": [
    "> Видим, что интервалы не сильно отличаются друг от друга, из-за того, что у нас в выборке много наблюдений. При большом числе степеней свободы распределение Стьюдента похоже на нормальное. Тем не менее даже при большом количестве наблюдений точный доверительный интервал оказывается немного шире. "
   ]
  },
  {
   "cell_type": "markdown",
   "metadata": {},
   "source": [
    "__Построим $99\\%$ точные доверительные интервалы для всех районов. В какие из них попало общее среднее? Построим красивую визулизацию.__"
   ]
  },
  {
   "cell_type": "code",
   "execution_count": null,
   "metadata": {},
   "outputs": [],
   "source": [
    "df.head()"
   ]
  },
  {
   "cell_type": "code",
   "execution_count": null,
   "metadata": {},
   "outputs": [],
   "source": [
    "df_agg = df.groupby('code')['price'].agg(['mean', 'std', 'count'])\n",
    "df_agg"
   ]
  },
  {
   "cell_type": "code",
   "execution_count": null,
   "metadata": {},
   "outputs": [],
   "source": [
    "district = [\n",
    "    'Север, Калужско-Рижская', \n",
    "    'Север, Серпуховско-Тимирязевская', \n",
    "    'Северо-запад, Замоскворецкая', \n",
    "    'Северо-запад, Таганско-Краснопресненская', \n",
    "    'Юго-восток, Люблинская', \n",
    "    'Юго-восток, Таганско-Краснопресненская',\n",
    "    'Восток, Калиниская', \n",
    "    'Восток, Арбатско-Покровская'\n",
    "]"
   ]
  },
  {
   "cell_type": "code",
   "execution_count": null,
   "metadata": {},
   "outputs": [],
   "source": [
    "df['code'] = df['code'].map(dict(list(enumerate(district))))"
   ]
  },
  {
   "cell_type": "code",
   "execution_count": null,
   "metadata": {},
   "outputs": [],
   "source": [
    "alpha = 0.01\n",
    "df_agg['t_crit'] = df_agg['count'].apply(lambda n: stats.t(n - 1).ppf(1 - alpha/2))\n",
    "\n",
    "# на сколько отступать вправо и влево от математического ожидания\n",
    "df_agg['step'] =  df_agg['t_crit']  * df_agg['std']/np.sqrt(df_agg['count'])\n",
    "df_agg = df_agg.sort_values('mean')"
   ]
  },
  {
   "cell_type": "code",
   "execution_count": null,
   "metadata": {},
   "outputs": [],
   "source": [
    "center = df_agg['mean'].values\n",
    "step = df_agg['step'].values\n",
    "\n",
    "mu_hat = df.price.mean() # общее среднее \n",
    "\n",
    "plt.figure(figsize=(10,5))\n",
    "\n",
    "plt.errorbar(center, np.arange(center.size),  xerr=step, \n",
    "             capsize=0, fmt=\"o\", color=\"blue\")\n",
    "\n",
    "plt.yticks(np.arange(center.size), df_agg.index, fontsize=12);\n",
    "plt.axvline(mu_hat, 0, color='grey');"
   ]
  },
  {
   "cell_type": "markdown",
   "metadata": {},
   "source": [
    "__Выводы:__ \n",
    "\n",
    "- В среднем, самая дешевая недвижимость находится на Юго-востоке. Самая дорогая на Северо-западе. "
   ]
  },
  {
   "cell_type": "code",
   "execution_count": null,
   "metadata": {},
   "outputs": [],
   "source": [
    "order = df.dropna().groupby('code')['price'].mean().sort_values().index[::-1]\n",
    "\n",
    "sns.barplot(data=df.dropna(), y='code', x='price', orient='h',\n",
    "            order=order\n",
    "           );"
   ]
  },
  {
   "cell_type": "markdown",
   "metadata": {},
   "source": [
    "## Д.И. для разности средних"
   ]
  },
  {
   "cell_type": "markdown",
   "metadata": {},
   "source": [
    "### Ассимптотический"
   ]
  },
  {
   "cell_type": "markdown",
   "metadata": {},
   "source": [
    "Построим $95\\%$ асимптотический доверительный интервал для разницы в средней стоимости квартир в монолитных и панельных домах.\n",
    "\n",
    "$$\n",
    "\\bar x - \\bar y \\pm z_{crit} \\cdot \\sqrt{\\frac{\\hat\\sigma_x^2}{n_x} + \\frac{\\hat\\sigma_y^2}{n_y}}\n",
    "$$"
   ]
  },
  {
   "cell_type": "code",
   "execution_count": null,
   "metadata": {},
   "outputs": [],
   "source": [
    "x = df[df.brick == 1].price.values\n",
    "y = df[df.brick == 0].price.values\n",
    "\n",
    "diff = x.mean() - y.mean() \n",
    "nx, ny = x.size, y.size\n",
    "diff_sd = np.sqrt((x.var(ddof=1)/nx) + (y.var(ddof=1)/ny))\n",
    "\n",
    "left, right = stats.norm.interval(0.95, loc=diff, scale=diff_sd)\n",
    "print(\"Доверительный интервал [{:.4}; {:.4}] ширины {:.4}\".format(left, right, right - left))"
   ]
  },
  {
   "cell_type": "markdown",
   "metadata": {},
   "source": [
    "### Точный с одинаковыми дисперсиями"
   ]
  },
  {
   "cell_type": "markdown",
   "metadata": {},
   "source": [
    "Предположим, что дисперсии неизвестны, но равны.\n",
    "\n",
    "$$\n",
    "\\bar x - \\bar y \\pm t_{crit} \\cdot \\sqrt{\\frac{\\hat{\\sigma}^2}{n_x} + \\frac{\\hat{\\sigma}^2}{n_y}}\n",
    "$$\n",
    "\n",
    "где $\\hat{\\sigma}^{2}$ - объединенная дисперсия:\n",
    "$$\n",
    "\\hat{\\sigma}^{2}=\\frac{\\left(n_{x}-1\\right) \\hat{\\sigma}_{x}^{2}+\\left(n_{y}-1\\right) \\hat{\\sigma}_{y}^{2}}{n_{x}+n_{y}-2}\n",
    "$$\n"
   ]
  },
  {
   "cell_type": "code",
   "execution_count": null,
   "metadata": {},
   "outputs": [],
   "source": [
    "diff = x.mean() - y.mean()\n",
    "nx, ny = x.size, y.size\n",
    "\n",
    "s2 = ((nx - 1)*x.var() + (ny - 1)*y.var())/(nx + ny - 2)\n",
    "diff_sd = np.sqrt(s2/nx + s2/ny)\n",
    "\n",
    "left, right = stats.t.interval(0.95, df=(nx + ny - 2), loc=diff, scale=diff_sd)\n",
    "print(\"Доверительный интервал [{:.4}; {:.4}] ширины {:.4}\".format(left, right, right - left))"
   ]
  },
  {
   "cell_type": "markdown",
   "metadata": {},
   "source": [
    "### Точный с различными дисперсиями"
   ]
  },
  {
   "cell_type": "markdown",
   "metadata": {},
   "source": [
    "Предположим, что дисперсии неизвестны и не равны. Построим приближённый доверительный интервал (интервал Уэлча).\n",
    "\n",
    "\n",
    "$$\n",
    "\\bar x - \\bar y \\pm t_{crit}(\\nu) \\cdot \\sqrt{\\frac{\\hat{\\sigma}_x^2}{n_x} + \\frac{\\hat{\\sigma}_y^2}{n_y}}\n",
    "$$\n"
   ]
  },
  {
   "cell_type": "markdown",
   "metadata": {},
   "source": [
    "\n",
    "где $v$ – примерное число степеней свободы:\n",
    "\n",
    "$$\n",
    "v=\\frac{\\left(\\dfrac{\\hat{\\sigma}_{x}^{2}}{n_{x}}+\\dfrac{\\hat{\\sigma}_{y}^{2}}{n_{y}}\\right)^{2}}{\\dfrac{\\hat{\\sigma}_{x}^{4}}{n_{x}^{2}\\left(n_{x}-1\\right)}+\\dfrac{\\hat{\\sigma}_{y}^{4}}{n_{y}^{2}\\left(n_{y}-1\\right)}}\n",
    "$$\n"
   ]
  },
  {
   "cell_type": "code",
   "execution_count": null,
   "metadata": {},
   "outputs": [],
   "source": [
    "x.var(), y.var()"
   ]
  },
  {
   "cell_type": "code",
   "execution_count": null,
   "metadata": {
    "scrolled": true
   },
   "outputs": [],
   "source": [
    "diff = x.mean() - y.mean()\n",
    "nx, ny = x.size, y.size\n",
    "diff_sd = np.sqrt(x.var()/nx + y.var()/ny)\n",
    "\n",
    "u = (x.var() / nx + y.var() / ny) ** 2\n",
    "d = (x.var()**2) / (nx**2 * (nx - 1)) + (y.var()**2)/ (ny**2* (ny - 1))\n",
    "nu =  u/d \n",
    "print(\"Число степеней свободы:\", nu)\n",
    "\n",
    "left, right = stats.t.interval(0.95, df=nu, loc=diff, scale=diff_sd)\n",
    "print(\"Доверительный интервал [{:.4}; {:.4}] ширины {:.4}\".format(left, right, right - left))\n"
   ]
  },
  {
   "cell_type": "code",
   "execution_count": null,
   "metadata": {},
   "outputs": [],
   "source": [
    "nx, ny, nx<ny"
   ]
  },
  {
   "cell_type": "code",
   "execution_count": null,
   "metadata": {
    "scrolled": true
   },
   "outputs": [],
   "source": [
    "x.std(), y.std(), x.std()<y.std()  # Знаки не в ту сторону => при малых выборках не очень верим"
   ]
  },
  {
   "cell_type": "markdown",
   "metadata": {},
   "source": [
    "> Все три доверительных интервала из-за больших объёмов выборки снова оказались похожи. Выборочные дисперсии довольно сильно отличаются друг от друга, из-за этого использование доверительного интервала с предпосылкой о их равенстве некорректно."
   ]
  },
  {
   "cell_type": "markdown",
   "metadata": {},
   "source": [
    "__Выводы:__ \n",
    "\n",
    "- В среднем, на уровне значимости $5\\%$, квартиры в монолитных домах стоят дороже, чем в панельных. Ноль нигде не попадает в доверительный интервал.  "
   ]
  },
  {
   "cell_type": "markdown",
   "metadata": {},
   "source": [
    "## Д.И. для дисперсии"
   ]
  },
  {
   "cell_type": "markdown",
   "metadata": {},
   "source": [
    "Предполагая нормальность распределения цен, построим $95\\%$ доверительный интервал для дисперсии стоимости квартир. \n",
    "\n",
    "$$\n",
    "\\frac{(n - 1) \\cdot \\hat{\\sigma}^2}{\\chi_{n-1}^2 \\left(\\frac{\\alpha}{2} \\right)} \\le \\sigma^2 \\le \\frac{(n - 1) \\cdot \\hat{\\sigma}^2}{\\chi_{n-1}^2 \\left(1 - \\frac{\\alpha}{2} \\right)}\n",
    "$$\n",
    "\n",
    "\n",
    "> __Предположения:__ \n",
    "Выборка пришла из нормального распределения, математическое ожидание неизвестно, выполняется теорема Фишера\n"
   ]
  },
  {
   "cell_type": "code",
   "execution_count": null,
   "metadata": {},
   "outputs": [],
   "source": [
    "alpha = 0.05 \n",
    "\n",
    "n = df.price.count()\n",
    "var_hat = df.price.var(ddof=1)\n",
    "\n",
    "chi_l, chi_u = stats.chi2.ppf([1-alpha/2, alpha/2], df = n-1)\n",
    "\n",
    "left = (n-1) * var_hat/chi_l\n",
    "right = (n-1) * var_hat/chi_u\n",
    "\n",
    "print(\"Доверительный интервал [{:.5}; {:.5}] ширины {:.5}\".format(left, right, right - left))\n"
   ]
  },
  {
   "cell_type": "markdown",
   "metadata": {},
   "source": [
    "Сделаем то же самое, но в разбивке по районам. "
   ]
  },
  {
   "cell_type": "code",
   "execution_count": null,
   "metadata": {},
   "outputs": [],
   "source": [
    "df_agg = df.groupby('code')['price'].agg(['var', 'count'])\n",
    "\n",
    "alpha = 0.05\n",
    "df_agg['ch_l'] = df_agg['count'].apply(lambda n: stats.chi2.ppf(1-alpha/2, df = n-1))\n",
    "df_agg['ch_u'] = df_agg['count'].apply(lambda n: stats.chi2.ppf(alpha/2, df = n-1))\n",
    "\n",
    "df_agg['left'] =  (df_agg['count']-1) * df_agg['var']/df_agg['ch_l']\n",
    "df_agg['right'] =  (df_agg['count']-1) * df_agg['var']/df_agg['ch_u']\n",
    "\n",
    "df_agg = df_agg.sort_values('var')\n",
    "df_agg"
   ]
  },
  {
   "cell_type": "code",
   "execution_count": null,
   "metadata": {},
   "outputs": [],
   "source": [
    "center = df_agg['var'].values\n",
    "step = np.array([df_agg['var'].values - df_agg['left'].values, \n",
    "                 df_agg['right'].values - df_agg['var'].values])\n",
    "\n",
    "var_hat = df.price.var()\n",
    "\n",
    "plt.figure(figsize=(10,5))\n",
    "\n",
    "plt.errorbar(center, np.arange(center.size),  xerr = step, \n",
    "             capsize=0, fmt=\"o\", color='blue')\n",
    "\n",
    "# plt.yticks(np.arange(center.size - 1, -1, -1), district, fontsize=12);\n",
    "# plt.yticks(np.arange(center.size), district, fontsize=12);\n",
    "plt.yticks(np.arange(center.size), df_agg.index, fontsize=12);\n",
    "plt.axvline(var_hat, 0, color='grey');"
   ]
  },
  {
   "cell_type": "code",
   "execution_count": null,
   "metadata": {},
   "outputs": [],
   "source": [
    "order = df.dropna().groupby('code')['price'].var().sort_values().index[::-1]\n",
    "\n",
    "sns.barplot(data=df.dropna(), y='code', x='price', orient='h',\n",
    "            estimator = np.var,\n",
    "            order=order\n",
    "           );"
   ]
  },
  {
   "cell_type": "markdown",
   "metadata": {},
   "source": [
    "__Выводы:__ \n",
    "\n",
    "- На Юго-Востоке самый большой разброс в ценах. Как покупатель, я найду здесь более разнообразные предложения. Так происходит из-за того, что с одной стороны районы близки к центру и здесь есть респектабельная недвижимость. С другой стороны, в районах довольно много советской застройки с плохой планировкой и ремонтом. "
   ]
  },
  {
   "cell_type": "markdown",
   "metadata": {},
   "source": [
    "## Д.И. для отношения дисперсий"
   ]
  },
  {
   "cell_type": "markdown",
   "metadata": {},
   "source": [
    "Предполагая нормальность распределения, построим $95\\%$-ый доверительный интервал для отношения дисперсии стоимости квартир в монолитных домах и в панельных домах. \n",
    "\n",
    "\n",
    "$$\n",
    "\\frac{\\hat{\\sigma}^2_x}{\\hat{\\sigma}^2_y} \\cdot F_{\\frac{\\alpha}{2}}(n_x-1,n_y-1) \\le \\frac{\\sigma^2_x}{\\sigma^2_y} \\le  \\frac{\\hat{\\sigma}^2_x}{\\hat{\\sigma}^2_y} \\cdot F_{1 - \\frac{\\alpha}{2}}(n_x-1,n_y-1)\n",
    "$$"
   ]
  },
  {
   "cell_type": "code",
   "execution_count": null,
   "metadata": {},
   "outputs": [],
   "source": [
    "alpha = 0.05\n",
    "\n",
    "x = df[df.brick == 1].price.values\n",
    "y = df[df.brick == 0].price.values\n",
    "\n",
    "n, m = x.size - 1, y.size - 1\n",
    "sn, sm = x.var(), y.var()\n",
    "\n",
    "ratio = sm / sn\n",
    "\n",
    "left = ratio * stats.f(n, m).ppf(alpha/2)\n",
    "right = ratio * stats.f(n, m).ppf(1 - alpha/2)\n",
    "\n",
    "print(\"Доверительный интервал [{:.5}; {:.5}] ширины {:.5}\".format(left, right, right - left))"
   ]
  },
  {
   "cell_type": "code",
   "execution_count": null,
   "metadata": {},
   "outputs": [],
   "source": [
    "ratio"
   ]
  },
  {
   "cell_type": "code",
   "execution_count": null,
   "metadata": {},
   "outputs": [],
   "source": [
    "x.std(), y.std()"
   ]
  },
  {
   "cell_type": "markdown",
   "metadata": {},
   "source": [
    "__Выводы:__ \n",
    "\n",
    "- Единица не попала в доверительный интервал. Дисперсии в ценах на монолитное жильё и на панельное различаются. Цены на кирпичное жильё обладают более высокой дисперсией. "
   ]
  },
  {
   "cell_type": "markdown",
   "metadata": {},
   "source": [
    "### Причем тут единица?"
   ]
  },
  {
   "cell_type": "code",
   "execution_count": null,
   "metadata": {},
   "outputs": [],
   "source": [
    "ratio = 0.8 # = x.var()/y.var()\n",
    "\n",
    "[0.7, 0,9] , [0.4, 1.3]"
   ]
  },
  {
   "cell_type": "code",
   "execution_count": null,
   "metadata": {},
   "outputs": [],
   "source": [
    "# если x.var()/y.var() in [0.7, 0,9] => x менее волаитлен по сравнению с y"
   ]
  },
  {
   "cell_type": "code",
   "execution_count": null,
   "metadata": {},
   "outputs": [],
   "source": [
    "# если x.var()/y.var() in [0.4, 1) => x менее волаитлен по сравнению с y\n",
    "# если x.var()/y.var() in (1, 1.3) => y менее волаитлен по сравнению с x"
   ]
  },
  {
   "cell_type": "markdown",
   "metadata": {},
   "source": [
    "## А можно ли было пользоваться нормальным распределением? \n",
    "\n",
    "Распределение цен выглядит не очень нормальным. "
   ]
  },
  {
   "cell_type": "code",
   "execution_count": null,
   "metadata": {},
   "outputs": [],
   "source": [
    "# df.price.hist(bins=80, density=True);\n",
    "sns.histplot(df['price'], kde=True);"
   ]
  },
  {
   "cell_type": "markdown",
   "metadata": {},
   "source": [
    "Распределение логарифмов цен оказывается более похожим на нормальное."
   ]
  },
  {
   "cell_type": "code",
   "execution_count": null,
   "metadata": {},
   "outputs": [],
   "source": [
    "df.price.apply(np.log).hist(bins=50, density=True);\n",
    "\n",
    "x = df.price.apply(np.log).values\n",
    "\n",
    "xs = np.linspace(3.5, 7, 300)\n",
    "ys = stats.norm(loc=np.mean(x), scale=np.std(x, ddof=1)).pdf(xs)\n",
    "plt.plot(xs, ys, color=\"black\");"
   ]
  },
  {
   "cell_type": "markdown",
   "metadata": {},
   "source": [
    "Можно формально проверить гипотезу о том, имеет ли какая-то выборка нормальное распределение с помошью теста Колмогорова-Смирнова. О нём мы подробнее поговорим в будущем, а сейчас просто воспользуемся. "
   ]
  },
  {
   "cell_type": "code",
   "execution_count": null,
   "metadata": {},
   "outputs": [],
   "source": [
    "stats.kstest(df.price, 'norm', args=(df.price.mean(), df.price.std(ddof=1)))"
   ]
  },
  {
   "cell_type": "code",
   "execution_count": null,
   "metadata": {},
   "outputs": [],
   "source": [
    "stats.kstest(x, 'norm', args=(np.mean(x), np.std(x, ddof=1)))"
   ]
  },
  {
   "cell_type": "markdown",
   "metadata": {},
   "source": [
    "В обоих ситуациях `pvalue` очень низкое, это говорит о том, что выборка не распределена нормально."
   ]
  },
  {
   "cell_type": "markdown",
   "metadata": {},
   "source": [
    " "
   ]
  }
 ],
 "metadata": {
  "kernelspec": {
   "display_name": "Python 3 (ipykernel)",
   "language": "python",
   "name": "python3"
  },
  "language_info": {
   "codemirror_mode": {
    "name": "ipython",
    "version": 3
   },
   "file_extension": ".py",
   "mimetype": "text/x-python",
   "name": "python",
   "nbconvert_exporter": "python",
   "pygments_lexer": "ipython3",
   "version": "3.11.4"
  },
  "toc": {
   "base_numbering": 1,
   "nav_menu": {},
   "number_sections": false,
   "sideBar": true,
   "skip_h1_title": false,
   "title_cell": "Table of Contents",
   "title_sidebar": "Contents",
   "toc_cell": true,
   "toc_position": {
    "height": "calc(100% - 180px)",
    "left": "10px",
    "top": "150px",
    "width": "254.819px"
   },
   "toc_section_display": true,
   "toc_window_display": true
  }
 },
 "nbformat": 4,
 "nbformat_minor": 2
}
