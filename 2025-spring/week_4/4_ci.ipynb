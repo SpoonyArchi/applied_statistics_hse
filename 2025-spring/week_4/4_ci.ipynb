{
 "cells": [
  {
   "cell_type": "markdown",
   "metadata": {
    "toc": true
   },
   "source": [
    "<h1>Table of Contents<span class=\"tocSkip\"></span></h1>\n",
    "</span></li></ul><ul class=\"toc-item\"><li><span><a href=\"#Доверительные-интервалы\" data-toc-modified-id=\"Доверительные-интервалы-1\">Доверительные интервалы</a></span><ul class=\"toc-item\"><li><span><a href=\"#Д.И.-для-среднего\" data-toc-modified-id=\"Д.И.-для-среднего-1.1\">Д.И. для среднего</a></span><ul class=\"toc-item\"><li><span><a href=\"#Асимптотический-доверительный-интервал\" data-toc-modified-id=\"Асимптотический-доверительный-интервал-1.1.1\">Асимптотический доверительный интервал</a></span></li><li><span><a href=\"#Точный-доверительный-интервал\" data-toc-modified-id=\"Точный-доверительный-интервал-1.1.2\">Точный доверительный интервал</a></span></li></ul></li><li><span><a href=\"#Д.И.-для-разности-средних\" data-toc-modified-id=\"Д.И.-для-разности-средних-1.2\">Д.И. для разности средних</a></span><ul class=\"toc-item\"><li><span><a href=\"#Ассимптотический\" data-toc-modified-id=\"Ассимптотический-1.2.1\">Ассимптотический</a></span></li><li><span><a href=\"#Точный-с-одинаковыми-дисперсиями\" data-toc-modified-id=\"Точный-с-одинаковыми-дисперсиями-1.2.2\">Точный с одинаковыми дисперсиями</a></span></li><li><span><a href=\"#Точный-с-различными-дисперсиями\" data-toc-modified-id=\"Точный-с-различными-дисперсиями-1.2.3\">Точный с различными дисперсиями</a></span></li></ul></li><li><span><a href=\"#Д.И.-для-дисперсии\" data-toc-modified-id=\"Д.И.-для-дисперсии-1.3\">Д.И. для дисперсии</a></span></li><li><span><a href=\"#Д.И.-для-отношения-дисперсий\" data-toc-modified-id=\"Д.И.-для-отношения-дисперсий-1.4\">Д.И. для отношения дисперсий</a></span><ul class=\"toc-item\"><li><span><a href=\"#Причем-тут-единица?\" data-toc-modified-id=\"Причем-тут-единица?-1.4.1\">Причем тут единица?</a></span></li></ul></li><li><span><a href=\"#А-можно-ли-было-пользоваться-нормальным-распределением?\" data-toc-modified-id=\"А-можно-ли-было-пользоваться-нормальным-распределением?-1.5\">А можно ли было пользоваться нормальным распределением?</a></span></li></ul></li></ul></div>"
   ]
  },
  {
   "cell_type": "code",
   "execution_count": 56,
   "metadata": {},
   "outputs": [],
   "source": [
    "import numpy as np\n",
    "import pandas as pd\n",
    "from scipy import stats\n",
    "import seaborn as sns\n",
    "import matplotlib.pyplot as plt\n",
    "plt.rcParams['figure.dpi'] = 80\n",
    "\n",
    "plt.style.use('ggplot')"
   ]
  },
  {
   "cell_type": "markdown",
   "metadata": {},
   "source": [
    "#  Доверительные интервалы \n",
    "\n",
    "Будем работать с данными по стоимости квартир в Москве из таблички `flat.csv`.\n"
   ]
  },
  {
   "cell_type": "code",
   "execution_count": 57,
   "metadata": {},
   "outputs": [
    {
     "name": "stdout",
     "output_type": "stream",
     "text": [
      "(2040, 11)\n"
     ]
    },
    {
     "data": {
      "text/html": [
       "<div>\n",
       "<style scoped>\n",
       "    .dataframe tbody tr th:only-of-type {\n",
       "        vertical-align: middle;\n",
       "    }\n",
       "\n",
       "    .dataframe tbody tr th {\n",
       "        vertical-align: top;\n",
       "    }\n",
       "\n",
       "    .dataframe thead th {\n",
       "        text-align: right;\n",
       "    }\n",
       "</style>\n",
       "<table border=\"1\" class=\"dataframe\">\n",
       "  <thead>\n",
       "    <tr style=\"text-align: right;\">\n",
       "      <th></th>\n",
       "      <th>n</th>\n",
       "      <th>price</th>\n",
       "      <th>totsp</th>\n",
       "      <th>livesp</th>\n",
       "      <th>kitsp</th>\n",
       "      <th>dist</th>\n",
       "      <th>metrdist</th>\n",
       "      <th>walk</th>\n",
       "      <th>brick</th>\n",
       "      <th>floor</th>\n",
       "      <th>code</th>\n",
       "    </tr>\n",
       "  </thead>\n",
       "  <tbody>\n",
       "    <tr>\n",
       "      <th>0</th>\n",
       "      <td>1</td>\n",
       "      <td>81</td>\n",
       "      <td>58</td>\n",
       "      <td>40</td>\n",
       "      <td>6.0</td>\n",
       "      <td>12.5</td>\n",
       "      <td>7</td>\n",
       "      <td>1</td>\n",
       "      <td>1</td>\n",
       "      <td>1</td>\n",
       "      <td>3</td>\n",
       "    </tr>\n",
       "    <tr>\n",
       "      <th>1</th>\n",
       "      <td>2</td>\n",
       "      <td>75</td>\n",
       "      <td>44</td>\n",
       "      <td>28</td>\n",
       "      <td>6.0</td>\n",
       "      <td>13.5</td>\n",
       "      <td>7</td>\n",
       "      <td>1</td>\n",
       "      <td>0</td>\n",
       "      <td>1</td>\n",
       "      <td>6</td>\n",
       "    </tr>\n",
       "    <tr>\n",
       "      <th>2</th>\n",
       "      <td>3</td>\n",
       "      <td>128</td>\n",
       "      <td>70</td>\n",
       "      <td>42</td>\n",
       "      <td>6.0</td>\n",
       "      <td>14.5</td>\n",
       "      <td>3</td>\n",
       "      <td>1</td>\n",
       "      <td>1</td>\n",
       "      <td>1</td>\n",
       "      <td>3</td>\n",
       "    </tr>\n",
       "    <tr>\n",
       "      <th>3</th>\n",
       "      <td>4</td>\n",
       "      <td>95</td>\n",
       "      <td>61</td>\n",
       "      <td>37</td>\n",
       "      <td>6.0</td>\n",
       "      <td>13.5</td>\n",
       "      <td>7</td>\n",
       "      <td>1</td>\n",
       "      <td>0</td>\n",
       "      <td>1</td>\n",
       "      <td>1</td>\n",
       "    </tr>\n",
       "    <tr>\n",
       "      <th>4</th>\n",
       "      <td>5</td>\n",
       "      <td>330</td>\n",
       "      <td>104</td>\n",
       "      <td>60</td>\n",
       "      <td>11.0</td>\n",
       "      <td>10.5</td>\n",
       "      <td>7</td>\n",
       "      <td>0</td>\n",
       "      <td>1</td>\n",
       "      <td>1</td>\n",
       "      <td>3</td>\n",
       "    </tr>\n",
       "  </tbody>\n",
       "</table>\n",
       "</div>"
      ],
      "text/plain": [
       "   n  price  totsp  livesp  kitsp  dist  metrdist  walk  brick  floor  code\n",
       "0  1     81     58      40    6.0  12.5         7     1      1      1     3\n",
       "1  2     75     44      28    6.0  13.5         7     1      0      1     6\n",
       "2  3    128     70      42    6.0  14.5         3     1      1      1     3\n",
       "3  4     95     61      37    6.0  13.5         7     1      0      1     1\n",
       "4  5    330    104      60   11.0  10.5         7     0      1      1     3"
      ]
     },
     "execution_count": 57,
     "metadata": {},
     "output_type": "execute_result"
    }
   ],
   "source": [
    "df = pd.read_csv('flat.csv', sep = '\\t')\n",
    "print(df.shape)\n",
    "df.head()"
   ]
  },
  {
   "cell_type": "code",
   "execution_count": 58,
   "metadata": {},
   "outputs": [
    {
     "data": {
      "text/html": [
       "<div>\n",
       "<style scoped>\n",
       "    .dataframe tbody tr th:only-of-type {\n",
       "        vertical-align: middle;\n",
       "    }\n",
       "\n",
       "    .dataframe tbody tr th {\n",
       "        vertical-align: top;\n",
       "    }\n",
       "\n",
       "    .dataframe thead th {\n",
       "        text-align: right;\n",
       "    }\n",
       "</style>\n",
       "<table border=\"1\" class=\"dataframe\">\n",
       "  <thead>\n",
       "    <tr style=\"text-align: right;\">\n",
       "      <th></th>\n",
       "      <th>n</th>\n",
       "      <th>price</th>\n",
       "      <th>totsp</th>\n",
       "      <th>livesp</th>\n",
       "      <th>kitsp</th>\n",
       "      <th>dist</th>\n",
       "      <th>metrdist</th>\n",
       "      <th>walk</th>\n",
       "      <th>brick</th>\n",
       "      <th>floor</th>\n",
       "      <th>code</th>\n",
       "    </tr>\n",
       "  </thead>\n",
       "  <tbody>\n",
       "    <tr>\n",
       "      <th>count</th>\n",
       "      <td>2040.000000</td>\n",
       "      <td>2040.000000</td>\n",
       "      <td>2040.000000</td>\n",
       "      <td>2040.000000</td>\n",
       "      <td>2040.000000</td>\n",
       "      <td>2040.000000</td>\n",
       "      <td>2040.000000</td>\n",
       "      <td>2040.000000</td>\n",
       "      <td>2040.000000</td>\n",
       "      <td>2040.000000</td>\n",
       "      <td>2040.000000</td>\n",
       "    </tr>\n",
       "    <tr>\n",
       "      <th>mean</th>\n",
       "      <td>1020.500000</td>\n",
       "      <td>127.496569</td>\n",
       "      <td>73.084314</td>\n",
       "      <td>46.337255</td>\n",
       "      <td>8.898529</td>\n",
       "      <td>11.015686</td>\n",
       "      <td>8.117157</td>\n",
       "      <td>0.685784</td>\n",
       "      <td>0.323039</td>\n",
       "      <td>0.790686</td>\n",
       "      <td>4.322059</td>\n",
       "    </tr>\n",
       "    <tr>\n",
       "      <th>std</th>\n",
       "      <td>589.041594</td>\n",
       "      <td>51.878220</td>\n",
       "      <td>15.123450</td>\n",
       "      <td>7.894348</td>\n",
       "      <td>2.787073</td>\n",
       "      <td>3.375539</td>\n",
       "      <td>3.815574</td>\n",
       "      <td>0.464317</td>\n",
       "      <td>0.467752</td>\n",
       "      <td>0.406918</td>\n",
       "      <td>2.183289</td>\n",
       "    </tr>\n",
       "    <tr>\n",
       "      <th>min</th>\n",
       "      <td>1.000000</td>\n",
       "      <td>50.000000</td>\n",
       "      <td>44.000000</td>\n",
       "      <td>28.000000</td>\n",
       "      <td>5.000000</td>\n",
       "      <td>3.000000</td>\n",
       "      <td>1.000000</td>\n",
       "      <td>0.000000</td>\n",
       "      <td>0.000000</td>\n",
       "      <td>0.000000</td>\n",
       "      <td>1.000000</td>\n",
       "    </tr>\n",
       "    <tr>\n",
       "      <th>25%</th>\n",
       "      <td>510.750000</td>\n",
       "      <td>95.000000</td>\n",
       "      <td>62.000000</td>\n",
       "      <td>42.000000</td>\n",
       "      <td>7.000000</td>\n",
       "      <td>9.000000</td>\n",
       "      <td>5.000000</td>\n",
       "      <td>0.000000</td>\n",
       "      <td>0.000000</td>\n",
       "      <td>1.000000</td>\n",
       "      <td>3.000000</td>\n",
       "    </tr>\n",
       "    <tr>\n",
       "      <th>50%</th>\n",
       "      <td>1020.500000</td>\n",
       "      <td>115.000000</td>\n",
       "      <td>73.500000</td>\n",
       "      <td>45.000000</td>\n",
       "      <td>9.000000</td>\n",
       "      <td>12.000000</td>\n",
       "      <td>7.000000</td>\n",
       "      <td>1.000000</td>\n",
       "      <td>0.000000</td>\n",
       "      <td>1.000000</td>\n",
       "      <td>4.000000</td>\n",
       "    </tr>\n",
       "    <tr>\n",
       "      <th>75%</th>\n",
       "      <td>1530.250000</td>\n",
       "      <td>142.000000</td>\n",
       "      <td>79.000000</td>\n",
       "      <td>50.000000</td>\n",
       "      <td>10.000000</td>\n",
       "      <td>13.500000</td>\n",
       "      <td>10.000000</td>\n",
       "      <td>1.000000</td>\n",
       "      <td>1.000000</td>\n",
       "      <td>1.000000</td>\n",
       "      <td>6.000000</td>\n",
       "    </tr>\n",
       "    <tr>\n",
       "      <th>max</th>\n",
       "      <td>2040.000000</td>\n",
       "      <td>730.000000</td>\n",
       "      <td>192.000000</td>\n",
       "      <td>102.000000</td>\n",
       "      <td>25.000000</td>\n",
       "      <td>17.000000</td>\n",
       "      <td>20.000000</td>\n",
       "      <td>1.000000</td>\n",
       "      <td>1.000000</td>\n",
       "      <td>1.000000</td>\n",
       "      <td>8.000000</td>\n",
       "    </tr>\n",
       "  </tbody>\n",
       "</table>\n",
       "</div>"
      ],
      "text/plain": [
       "                 n        price        totsp       livesp        kitsp  \\\n",
       "count  2040.000000  2040.000000  2040.000000  2040.000000  2040.000000   \n",
       "mean   1020.500000   127.496569    73.084314    46.337255     8.898529   \n",
       "std     589.041594    51.878220    15.123450     7.894348     2.787073   \n",
       "min       1.000000    50.000000    44.000000    28.000000     5.000000   \n",
       "25%     510.750000    95.000000    62.000000    42.000000     7.000000   \n",
       "50%    1020.500000   115.000000    73.500000    45.000000     9.000000   \n",
       "75%    1530.250000   142.000000    79.000000    50.000000    10.000000   \n",
       "max    2040.000000   730.000000   192.000000   102.000000    25.000000   \n",
       "\n",
       "              dist     metrdist         walk        brick        floor  \\\n",
       "count  2040.000000  2040.000000  2040.000000  2040.000000  2040.000000   \n",
       "mean     11.015686     8.117157     0.685784     0.323039     0.790686   \n",
       "std       3.375539     3.815574     0.464317     0.467752     0.406918   \n",
       "min       3.000000     1.000000     0.000000     0.000000     0.000000   \n",
       "25%       9.000000     5.000000     0.000000     0.000000     1.000000   \n",
       "50%      12.000000     7.000000     1.000000     0.000000     1.000000   \n",
       "75%      13.500000    10.000000     1.000000     1.000000     1.000000   \n",
       "max      17.000000    20.000000     1.000000     1.000000     1.000000   \n",
       "\n",
       "              code  \n",
       "count  2040.000000  \n",
       "mean      4.322059  \n",
       "std       2.183289  \n",
       "min       1.000000  \n",
       "25%       3.000000  \n",
       "50%       4.000000  \n",
       "75%       6.000000  \n",
       "max       8.000000  "
      ]
     },
     "execution_count": 58,
     "metadata": {},
     "output_type": "execute_result"
    }
   ],
   "source": [
    "df.describe()"
   ]
  },
  {
   "cell_type": "markdown",
   "metadata": {},
   "source": [
    "__Описание переменных:__\n",
    "\n",
    "```\n",
    "n – номер квартиры по порядку\n",
    "price – цена квартиры в $1000\n",
    "totsp – общая площадь квартиры, кв.м.\n",
    "livesp жилая площадь квартиры, кв.м.\n",
    "kitsp – площадь кухни, кв.м.\n",
    "dist – расстояние от центра в км.\n",
    "metrdist – расстояние до метро в минутах\n",
    "walk – 1 – пешком от метро, 0 – на транспорте\n",
    "brick 1 – кирпичный, монолит ж/б, 0 – другой\n",
    "floor 1 – этаж кроме первого и последнего, 0 – иначе.\n",
    "code – число от 1 до 8, при помощи которого мы группируем наблюдения по\n",
    "подвыборкам:\n",
    "1. Наблюдения сгруппированы на севере, вокруг Калужско-Рижской линии\n",
    "метрополитена\n",
    "2. Север, вокруг Серпуховско-Тимирязевской линии метрополитена\n",
    "3. Северо-запад, вокруг Замоскворецкой линии метрополитена\n",
    "4. Северо-запад, вокруг Таганско-Краснопресненской линии метрополитена\n",
    "5. Юго-восток, вокруг Люблинской линии метрополитена\n",
    "6. Юго-восток, вокруг Таганско-Краснопресненской линии метрополитена\n",
    "7. Восток, вокруг Калиниской линии метрополитена\n",
    "8. Восток, вокруг Арбатско-Покровской линии метрополитена\n",
    "```\n"
   ]
  },
  {
   "cell_type": "markdown",
   "metadata": {},
   "source": [
    "## Д.И. для среднего"
   ]
  },
  {
   "cell_type": "code",
   "execution_count": 59,
   "metadata": {},
   "outputs": [],
   "source": [
    "def norm_conf_int(alpha, mean_hat, std_hat, margin = 5):\n",
    "    \"\"\"\n",
    "        Строит (1 - alpha)% асимптотически-нормальный доверительный интервал\n",
    "    \"\"\"\n",
    "    plt.figure(figsize = (10,5))\n",
    "    xs = np.linspace(mean_hat - margin, mean_hat + margin)\n",
    "    pdf = stats.norm(mean_hat, std_hat).pdf(xs)\n",
    "    plt.plot(xs, pdf)\n",
    "    plt.ylabel('$f(x)$', fontsize=18)\n",
    "    plt.xlabel('$x$', fontsize=18)\n",
    "    left, right = stats.norm.interval(1 - alpha, loc = mean_hat, scale = std_hat)\n",
    "    for i in [left, right]: \n",
    "        y_max = plt.ylim()[1]\n",
    "        plt.axvline(i, color=\"blue\", linestyle='dashed', lw=2)\n",
    "        if i == left:\n",
    "            xq = np.linspace(mean_hat - margin, left)\n",
    "        else:\n",
    "            xq = np.linspace(right, mean_hat + margin)\n",
    "        text_margin = 0.05\n",
    "        plt.text(i + text_margin, 0.8*y_max, round(i, 2), color=\"blue\", fontsize=14)\n",
    "        yq = stats.norm(mean_hat, std_hat).pdf(xq)\n",
    "        plt.fill_between(xq, 0, yq, color='blue', alpha=0.3)\n",
    "    return left, right"
   ]
  },
  {
   "cell_type": "markdown",
   "metadata": {},
   "source": [
    "Построим $95\\%$ асимптотический доверительный интервал для средней стоимости квартиры. \n",
    "\n",
    "Построим точный доверительный интервал для средней стоимости квартиры. \n",
    "\n",
    "Какой из них оказался уже? Почему? \n",
    "\n",
    "### Асимптотический доверительный интервал\n",
    "\n",
    "$$\n",
    "\\bar x \\pm z_{1 - \\frac{\\alpha}{2}} \\cdot \\sqrt{\\frac{\\hat{\\sigma}^2}{n}}.\n",
    "$$\n",
    "\n",
    "> __Предположения:__ \n",
    "В выборке нет аномалий, собиралась независимо, тогда среднее асимптотически нормально распределено (ЦПТ) "
   ]
  },
  {
   "cell_type": "code",
   "execution_count": 60,
   "metadata": {},
   "outputs": [
    {
     "name": "stdout",
     "output_type": "stream",
     "text": [
      "Help on method var in module pandas.core.generic:\n",
      "\n",
      "var(axis: 'Axis | None' = None, skipna: 'bool_t' = True, ddof: 'int' = 1, numeric_only: 'bool_t' = False, **kwargs) method of pandas.core.series.Series instance\n",
      "    Return unbiased variance over requested axis.\n",
      "    \n",
      "    Normalized by N-1 by default. This can be changed using the ddof argument.\n",
      "    \n",
      "    Parameters\n",
      "    ----------\n",
      "    axis : {index (0)}\n",
      "        For `Series` this parameter is unused and defaults to 0.\n",
      "    skipna : bool, default True\n",
      "        Exclude NA/null values. If an entire row/column is NA, the result\n",
      "        will be NA.\n",
      "    ddof : int, default 1\n",
      "        Delta Degrees of Freedom. The divisor used in calculations is N - ddof,\n",
      "        where N represents the number of elements.\n",
      "    numeric_only : bool, default False\n",
      "        Include only float, int, boolean columns. Not implemented for Series.\n",
      "    \n",
      "    Returns\n",
      "    -------\n",
      "    scalar or Series (if level specified) \n",
      "    \n",
      "    Examples\n",
      "    --------\n",
      "    >>> df = pd.DataFrame({'person_id': [0, 1, 2, 3],\n",
      "    ...                   'age': [21, 25, 62, 43],\n",
      "    ...                   'height': [1.61, 1.87, 1.49, 2.01]}\n",
      "    ...                  ).set_index('person_id')\n",
      "    >>> df\n",
      "               age  height\n",
      "    person_id\n",
      "    0           21    1.61\n",
      "    1           25    1.87\n",
      "    2           62    1.49\n",
      "    3           43    2.01\n",
      "    \n",
      "    >>> df.var()\n",
      "    age       352.916667\n",
      "    height      0.056367\n",
      "    dtype: float64\n",
      "    \n",
      "    Alternatively, ``ddof=0`` can be set to normalize by N instead of N-1:\n",
      "    \n",
      "    >>> df.var(ddof=0)\n",
      "    age       264.687500\n",
      "    height      0.042275\n",
      "    dtype: float64\n",
      "\n"
     ]
    }
   ],
   "source": [
    "help(df.price.var)"
   ]
  },
  {
   "cell_type": "code",
   "execution_count": 61,
   "metadata": {},
   "outputs": [
    {
     "name": "stdout",
     "output_type": "stream",
     "text": [
      "Help on class rv_continuous_frozen in module scipy.stats._distn_infrastructure:\n",
      "\n",
      "class rv_continuous_frozen(rv_frozen)\n",
      " |  rv_continuous_frozen(dist, *args, **kwds)\n",
      " |  \n",
      " |  Method resolution order:\n",
      " |      rv_continuous_frozen\n",
      " |      rv_frozen\n",
      " |      builtins.object\n",
      " |  \n",
      " |  Methods defined here:\n",
      " |  \n",
      " |  logpdf(self, x)\n",
      " |  \n",
      " |  pdf(self, x)\n",
      " |  \n",
      " |  ----------------------------------------------------------------------\n",
      " |  Methods inherited from rv_frozen:\n",
      " |  \n",
      " |  __init__(self, dist, *args, **kwds)\n",
      " |      Initialize self.  See help(type(self)) for accurate signature.\n",
      " |  \n",
      " |  cdf(self, x)\n",
      " |  \n",
      " |  entropy(self)\n",
      " |  \n",
      " |  expect(self, func=None, lb=None, ub=None, conditional=False, **kwds)\n",
      " |  \n",
      " |  interval(self, confidence=None, **kwds)\n",
      " |  \n",
      " |  isf(self, q)\n",
      " |  \n",
      " |  logcdf(self, x)\n",
      " |  \n",
      " |  logsf(self, x)\n",
      " |  \n",
      " |  mean(self)\n",
      " |  \n",
      " |  median(self)\n",
      " |  \n",
      " |  moment(self, order=None, **kwds)\n",
      " |  \n",
      " |  ppf(self, q)\n",
      " |  \n",
      " |  rvs(self, size=None, random_state=None)\n",
      " |  \n",
      " |  sf(self, x)\n",
      " |  \n",
      " |  stats(self, moments='mv')\n",
      " |  \n",
      " |  std(self)\n",
      " |  \n",
      " |  support(self)\n",
      " |  \n",
      " |  var(self)\n",
      " |  \n",
      " |  ----------------------------------------------------------------------\n",
      " |  Data descriptors inherited from rv_frozen:\n",
      " |  \n",
      " |  __dict__\n",
      " |      dictionary for instance variables (if defined)\n",
      " |  \n",
      " |  __weakref__\n",
      " |      list of weak references to the object (if defined)\n",
      " |  \n",
      " |  random_state\n",
      "\n"
     ]
    }
   ],
   "source": [
    "help(stats._distn_infrastructure.rv_continuous_frozen)"
   ]
  },
  {
   "cell_type": "code",
   "execution_count": 62,
   "metadata": {},
   "outputs": [
    {
     "name": "stdout",
     "output_type": "stream",
     "text": [
      "Help on rv_continuous_frozen in module scipy.stats._distn_infrastructure object:\n",
      "\n",
      "class rv_continuous_frozen(rv_frozen)\n",
      " |  rv_continuous_frozen(dist, *args, **kwds)\n",
      " |  \n",
      " |  Method resolution order:\n",
      " |      rv_continuous_frozen\n",
      " |      rv_frozen\n",
      " |      builtins.object\n",
      " |  \n",
      " |  Methods defined here:\n",
      " |  \n",
      " |  logpdf(self, x)\n",
      " |  \n",
      " |  pdf(self, x)\n",
      " |  \n",
      " |  ----------------------------------------------------------------------\n",
      " |  Methods inherited from rv_frozen:\n",
      " |  \n",
      " |  __init__(self, dist, *args, **kwds)\n",
      " |      Initialize self.  See help(type(self)) for accurate signature.\n",
      " |  \n",
      " |  cdf(self, x)\n",
      " |  \n",
      " |  entropy(self)\n",
      " |  \n",
      " |  expect(self, func=None, lb=None, ub=None, conditional=False, **kwds)\n",
      " |  \n",
      " |  interval(self, confidence=None, **kwds)\n",
      " |  \n",
      " |  isf(self, q)\n",
      " |  \n",
      " |  logcdf(self, x)\n",
      " |  \n",
      " |  logsf(self, x)\n",
      " |  \n",
      " |  mean(self)\n",
      " |  \n",
      " |  median(self)\n",
      " |  \n",
      " |  moment(self, order=None, **kwds)\n",
      " |  \n",
      " |  ppf(self, q)\n",
      " |  \n",
      " |  rvs(self, size=None, random_state=None)\n",
      " |  \n",
      " |  sf(self, x)\n",
      " |  \n",
      " |  stats(self, moments='mv')\n",
      " |  \n",
      " |  std(self)\n",
      " |  \n",
      " |  support(self)\n",
      " |  \n",
      " |  var(self)\n",
      " |  \n",
      " |  ----------------------------------------------------------------------\n",
      " |  Data descriptors inherited from rv_frozen:\n",
      " |  \n",
      " |  __dict__\n",
      " |      dictionary for instance variables (if defined)\n",
      " |  \n",
      " |  __weakref__\n",
      " |      list of weak references to the object (if defined)\n",
      " |  \n",
      " |  random_state\n",
      "\n"
     ]
    }
   ],
   "source": [
    "help(stats.norm())"
   ]
  },
  {
   "cell_type": "code",
   "execution_count": 63,
   "metadata": {},
   "outputs": [
    {
     "data": {
      "text/plain": [
       "<scipy.stats._distn_infrastructure.rv_continuous_frozen at 0x2973fe690>"
      ]
     },
     "execution_count": 63,
     "metadata": {},
     "output_type": "execute_result"
    }
   ],
   "source": [
    "norm_rv"
   ]
  },
  {
   "cell_type": "code",
   "execution_count": 64,
   "metadata": {},
   "outputs": [
    {
     "name": "stdout",
     "output_type": "stream",
     "text": [
      "Доверительный интервал [125.245348; 129.747789] ширины 4.50244137\n"
     ]
    }
   ],
   "source": [
    "# вручную \n",
    "norm_rv = stats.norm()\n",
    "\n",
    "alpha = 0.05\n",
    "z_crit = norm_rv.ppf(1 - alpha/2)\n",
    "\n",
    "mu_hat = df.price.mean() \n",
    "var_hat = df.price.var(ddof = 1) # delta degrees of freedom\n",
    "n = df.price.count()\n",
    "\n",
    "margin = z_crit*np.sqrt(var_hat/n)\n",
    "\n",
    "left = mu_hat - margin\n",
    "right = mu_hat + margin\n",
    "\n",
    "print(\"Доверительный интервал [{:.9}; {:.9}] ширины {:.9}\".format(left, right, right - left))"
   ]
  },
  {
   "cell_type": "code",
   "execution_count": 65,
   "metadata": {},
   "outputs": [
    {
     "data": {
      "text/plain": [
       "0     81\n",
       "1     75\n",
       "2    128\n",
       "3     95\n",
       "4    330\n",
       "Name: price, dtype: int64"
      ]
     },
     "execution_count": 65,
     "metadata": {},
     "output_type": "execute_result"
    }
   ],
   "source": [
    "df.price.head()"
   ]
  },
  {
   "cell_type": "code",
   "execution_count": 66,
   "metadata": {},
   "outputs": [],
   "source": [
    "x = df.price\n",
    "\n",
    "def ci_asy(x, alpha = 0.05):\n",
    "    margin = stats.norm().ppf(1 - alpha / 2) * (x.var(ddof = 1)/n)**0.5\n",
    "    return x.mean() - margin, x.mean() + margin, x.mean() + margin - (x.mean() - margin)"
   ]
  },
  {
   "cell_type": "code",
   "execution_count": 67,
   "metadata": {},
   "outputs": [
    {
     "data": {
      "text/plain": [
       "(125.24534794254012, 129.74778931236185, 4.5024413698217245)"
      ]
     },
     "execution_count": 67,
     "metadata": {},
     "output_type": "execute_result"
    }
   ],
   "source": [
    "ci_asy(df['price'], alpha = 0.05)"
   ]
  },
  {
   "cell_type": "code",
   "execution_count": 68,
   "metadata": {},
   "outputs": [
    {
     "data": {
      "text/plain": [
       "(124.53796313536607, 130.45517411953588, 5.917210984169813)"
      ]
     },
     "execution_count": 68,
     "metadata": {},
     "output_type": "execute_result"
    }
   ],
   "source": [
    "ci_asy(df['price'], alpha = 0.01)"
   ]
  },
  {
   "cell_type": "code",
   "execution_count": 69,
   "metadata": {},
   "outputs": [
    {
     "data": {
      "text/plain": [
       "(125.60728467231097, 129.38585258259099, 3.7785679102800174)"
      ]
     },
     "execution_count": 69,
     "metadata": {},
     "output_type": "execute_result"
    }
   ],
   "source": [
    "ci_asy(df['price'], alpha = 0.10)"
   ]
  },
  {
   "cell_type": "code",
   "execution_count": 70,
   "metadata": {},
   "outputs": [
    {
     "data": {
      "text/plain": [
       "(127.49656862745098, 127.49656862745098, 0.0)"
      ]
     },
     "execution_count": 70,
     "metadata": {},
     "output_type": "execute_result"
    }
   ],
   "source": [
    "ci_asy(df['price'], alpha = 1)"
   ]
  },
  {
   "cell_type": "code",
   "execution_count": 71,
   "metadata": {},
   "outputs": [
    {
     "data": {
      "text/plain": [
       "(125.24534794254012, 129.74778931236185, 4.5024413698217245)"
      ]
     },
     "execution_count": 71,
     "metadata": {},
     "output_type": "execute_result"
    }
   ],
   "source": [
    "ci_asy(df['price'], alpha = 0.05)"
   ]
  },
  {
   "cell_type": "code",
   "execution_count": 72,
   "metadata": {},
   "outputs": [
    {
     "data": {
      "text/plain": [
       "(72.2218261157761, 73.94680133520428, 1.7249752194281882)"
      ]
     },
     "execution_count": 72,
     "metadata": {},
     "output_type": "execute_result"
    }
   ],
   "source": [
    "ci_asy(df['totsp'], alpha = 0.01)"
   ]
  },
  {
   "cell_type": "code",
   "execution_count": 73,
   "metadata": {},
   "outputs": [
    {
     "data": {
      "text/plain": [
       "(72.42804172414964, 73.74058572683074, 1.3125440026811077)"
      ]
     },
     "execution_count": 73,
     "metadata": {},
     "output_type": "execute_result"
    }
   ],
   "source": [
    "ci_asy(df['totsp'], alpha = 0.05)"
   ]
  },
  {
   "cell_type": "code",
   "execution_count": 74,
   "metadata": {},
   "outputs": [
    {
     "name": "stdout",
     "output_type": "stream",
     "text": [
      "Help on method interval in module scipy.stats._distn_infrastructure:\n",
      "\n",
      "interval(confidence=None, *args, **kwds) method of scipy.stats._continuous_distns.norm_gen instance\n",
      "    Confidence interval with equal areas around the median.\n",
      "    \n",
      "    .. deprecated:: 1.9.0\n",
      "       Parameter `alpha` is replaced by parameter `confidence` to avoid\n",
      "       name collisions with the shape parameter `alpha` of some\n",
      "       distributions. Parameter `alpha` will be removed in SciPy 1.11.0.\n",
      "    \n",
      "    Parameters\n",
      "    ----------\n",
      "    confidence : array_like of float\n",
      "        Probability that an rv will be drawn from the returned range.\n",
      "        Each value should be in the range [0, 1].\n",
      "    arg1, arg2, ... : array_like\n",
      "        The shape parameter(s) for the distribution (see docstring of the\n",
      "        instance object for more information).\n",
      "    loc : array_like, optional\n",
      "        location parameter, Default is 0.\n",
      "    scale : array_like, optional\n",
      "        scale parameter, Default is 1.\n",
      "    \n",
      "    Returns\n",
      "    -------\n",
      "    a, b : ndarray of float\n",
      "        end-points of range that contain ``100 * alpha %`` of the rv's\n",
      "        possible values.\n",
      "    \n",
      "    Notes\n",
      "    -----\n",
      "    This is implemented as ``ppf([p_tail, 1-p_tail])``, where\n",
      "    ``ppf`` is the inverse cumulative distribution function and\n",
      "    ``p_tail = (1-confidence)/2``. Suppose ``[c, d]`` is the support of a\n",
      "    discrete distribution; then ``ppf([0, 1]) == (c-1, d)``. Therefore,\n",
      "    when ``confidence=1`` and the distribution is discrete, the left end\n",
      "    of the interval will be beyond the support of the distribution.\n",
      "    For discrete distributions, the interval will limit the probability\n",
      "    in each tail to be less than or equal to ``p_tail`` (usually\n",
      "    strictly less).\n",
      "\n"
     ]
    }
   ],
   "source": [
    "help(stats.norm.interval)"
   ]
  },
  {
   "cell_type": "code",
   "execution_count": 75,
   "metadata": {},
   "outputs": [
    {
     "data": {
      "text/plain": [
       "(125.24534794254012, 129.74778931236185)"
      ]
     },
     "execution_count": 75,
     "metadata": {},
     "output_type": "execute_result"
    }
   ],
   "source": [
    "mu_hat = df.price.mean() \n",
    "sd_hat = df.price.std(ddof=1) / np.sqrt(n)\n",
    "\n",
    "stats.norm.interval(0.95, loc = mu_hat, scale = sd_hat)"
   ]
  },
  {
   "cell_type": "code",
   "execution_count": 76,
   "metadata": {},
   "outputs": [
    {
     "data": {
      "image/png": "[encoded data removed]",
      "text/plain": [
       "<Figure size 800x400 with 1 Axes>"
      ]
     },
     "metadata": {},
     "output_type": "display_data"
    }
   ],
   "source": [
    "alpha = 0.05\n",
    "mu_hat = df.price.mean() \n",
    "sd_hat = df.price.std(ddof = 1) / np.sqrt(n)\n",
    "\n",
    "norm_conf_int(alpha, mu_hat, sd_hat, margin = 5);"
   ]
  },
  {
   "cell_type": "markdown",
   "metadata": {},
   "source": [
    "### Точный доверительный интервал\n",
    "\n",
    "$$\n",
    "\\bar x \\pm t_{1 - \\frac{\\alpha}{2}} \\cdot \\sqrt{\\frac{\\hat{\\sigma}^2}{n}}.\n",
    "$$\n",
    "\n",
    "> __Предположения:__ \n",
    "Выборка пришла из нормального распределения, дисперсия неизвестна"
   ]
  },
  {
   "cell_type": "code",
   "execution_count": 77,
   "metadata": {},
   "outputs": [
    {
     "name": "stdout",
     "output_type": "stream",
     "text": [
      "Доверительный интервал [125.2; 129.7] ширины 4.505\n"
     ]
    }
   ],
   "source": [
    "# вручную \n",
    "n = df.price.count()\n",
    "t_rv = stats.t(n - 1)\n",
    "\n",
    "alpha = 0.05\n",
    "t_crit = t_rv.ppf(1 - alpha / 2)\n",
    "\n",
    "mu_hat = df.price.mean() \n",
    "var_hat = df.price.var(ddof=1)\n",
    "\n",
    "margin = t_crit*np.sqrt(var_hat/n)\n",
    "\n",
    "left = mu_hat - margin\n",
    "right = mu_hat + margin\n",
    "\n",
    "print(\"Доверительный интервал [{:.4}; {:.4}] ширины {:.4}\".format(left, right, right - left))"
   ]
  },
  {
   "cell_type": "code",
   "execution_count": 78,
   "metadata": {},
   "outputs": [
    {
     "data": {
      "text/plain": [
       "2040"
      ]
     },
     "execution_count": 78,
     "metadata": {},
     "output_type": "execute_result"
    }
   ],
   "source": [
    "# Оказался немного шире, но похож, так как:\n",
    "# t(n) => N(0,1) при n -> inf \n",
    "n"
   ]
  },
  {
   "cell_type": "code",
   "execution_count": 79,
   "metadata": {},
   "outputs": [],
   "source": [
    "# напишем свою для подсчета доверительных интервалов \n",
    "def ci_asy(x, alpha = 0.05, asy = False):\n",
    "    n = x.size\n",
    "    if asy:\n",
    "        margin = stats.norm().ppf(1 - alpha/2) * (x.var(ddof = 1)/n)**0.5\n",
    "    else:\n",
    "        margin = stats.t(n-1).ppf(1 - alpha/2) * (x.var(ddof = 1)/n)**0.5\n",
    "    return x.mean() - margin, x.mean() + margin"
   ]
  },
  {
   "cell_type": "code",
   "execution_count": 80,
   "metadata": {},
   "outputs": [
    {
     "name": "stdout",
     "output_type": "stream",
     "text": [
      "Доверительный интервал [125.244011; 129.749126] ширины 4.50511561\n"
     ]
    }
   ],
   "source": [
    "# пакетом \n",
    "n = df.price.count()\n",
    "mu_hat = df.price.mean()\n",
    "sd_hat = df.price.std(ddof=1) / np.sqrt(n)\n",
    "\n",
    "# тут 0.95 это 1 - alpha\n",
    "left, right = stats.t.interval(1-alpha, df=(n-1), loc=mu_hat, scale=sd_hat)\n",
    "print(\"Доверительный интервал [{:.9}; {:.9}] ширины {:.9}\".format(left, right, right - left))\n"
   ]
  },
  {
   "cell_type": "markdown",
   "metadata": {},
   "source": [
    "> Видим, что интервалы не сильно отличаются друг от друга, из-за того, что у нас в выборке много наблюдений. При большом числе степеней свободы распределение Стьюдента похоже на нормальное. Тем не менее даже при большом количестве наблюдений точный доверительный интервал оказывается немного шире. "
   ]
  },
  {
   "cell_type": "markdown",
   "metadata": {},
   "source": [
    "__Построим $99\\%$ точные доверительные интервалы для всех районов. В какие из них попало общее среднее? Построим визулизацию.__"
   ]
  },
  {
   "cell_type": "code",
   "execution_count": 81,
   "metadata": {},
   "outputs": [
    {
     "data": {
      "text/html": [
       "<div>\n",
       "<style scoped>\n",
       "    .dataframe tbody tr th:only-of-type {\n",
       "        vertical-align: middle;\n",
       "    }\n",
       "\n",
       "    .dataframe tbody tr th {\n",
       "        vertical-align: top;\n",
       "    }\n",
       "\n",
       "    .dataframe thead th {\n",
       "        text-align: right;\n",
       "    }\n",
       "</style>\n",
       "<table border=\"1\" class=\"dataframe\">\n",
       "  <thead>\n",
       "    <tr style=\"text-align: right;\">\n",
       "      <th></th>\n",
       "      <th>n</th>\n",
       "      <th>price</th>\n",
       "      <th>totsp</th>\n",
       "      <th>livesp</th>\n",
       "      <th>kitsp</th>\n",
       "      <th>dist</th>\n",
       "      <th>metrdist</th>\n",
       "      <th>walk</th>\n",
       "      <th>brick</th>\n",
       "      <th>floor</th>\n",
       "      <th>code</th>\n",
       "    </tr>\n",
       "  </thead>\n",
       "  <tbody>\n",
       "    <tr>\n",
       "      <th>0</th>\n",
       "      <td>1</td>\n",
       "      <td>81</td>\n",
       "      <td>58</td>\n",
       "      <td>40</td>\n",
       "      <td>6.0</td>\n",
       "      <td>12.5</td>\n",
       "      <td>7</td>\n",
       "      <td>1</td>\n",
       "      <td>1</td>\n",
       "      <td>1</td>\n",
       "      <td>3</td>\n",
       "    </tr>\n",
       "    <tr>\n",
       "      <th>1</th>\n",
       "      <td>2</td>\n",
       "      <td>75</td>\n",
       "      <td>44</td>\n",
       "      <td>28</td>\n",
       "      <td>6.0</td>\n",
       "      <td>13.5</td>\n",
       "      <td>7</td>\n",
       "      <td>1</td>\n",
       "      <td>0</td>\n",
       "      <td>1</td>\n",
       "      <td>6</td>\n",
       "    </tr>\n",
       "    <tr>\n",
       "      <th>2</th>\n",
       "      <td>3</td>\n",
       "      <td>128</td>\n",
       "      <td>70</td>\n",
       "      <td>42</td>\n",
       "      <td>6.0</td>\n",
       "      <td>14.5</td>\n",
       "      <td>3</td>\n",
       "      <td>1</td>\n",
       "      <td>1</td>\n",
       "      <td>1</td>\n",
       "      <td>3</td>\n",
       "    </tr>\n",
       "    <tr>\n",
       "      <th>3</th>\n",
       "      <td>4</td>\n",
       "      <td>95</td>\n",
       "      <td>61</td>\n",
       "      <td>37</td>\n",
       "      <td>6.0</td>\n",
       "      <td>13.5</td>\n",
       "      <td>7</td>\n",
       "      <td>1</td>\n",
       "      <td>0</td>\n",
       "      <td>1</td>\n",
       "      <td>1</td>\n",
       "    </tr>\n",
       "    <tr>\n",
       "      <th>4</th>\n",
       "      <td>5</td>\n",
       "      <td>330</td>\n",
       "      <td>104</td>\n",
       "      <td>60</td>\n",
       "      <td>11.0</td>\n",
       "      <td>10.5</td>\n",
       "      <td>7</td>\n",
       "      <td>0</td>\n",
       "      <td>1</td>\n",
       "      <td>1</td>\n",
       "      <td>3</td>\n",
       "    </tr>\n",
       "  </tbody>\n",
       "</table>\n",
       "</div>"
      ],
      "text/plain": [
       "   n  price  totsp  livesp  kitsp  dist  metrdist  walk  brick  floor  code\n",
       "0  1     81     58      40    6.0  12.5         7     1      1      1     3\n",
       "1  2     75     44      28    6.0  13.5         7     1      0      1     6\n",
       "2  3    128     70      42    6.0  14.5         3     1      1      1     3\n",
       "3  4     95     61      37    6.0  13.5         7     1      0      1     1\n",
       "4  5    330    104      60   11.0  10.5         7     0      1      1     3"
      ]
     },
     "execution_count": 81,
     "metadata": {},
     "output_type": "execute_result"
    }
   ],
   "source": [
    "df.head()"
   ]
  },
  {
   "cell_type": "code",
   "execution_count": 82,
   "metadata": {},
   "outputs": [
    {
     "data": {
      "text/html": [
       "<div>\n",
       "<style scoped>\n",
       "    .dataframe tbody tr th:only-of-type {\n",
       "        vertical-align: middle;\n",
       "    }\n",
       "\n",
       "    .dataframe tbody tr th {\n",
       "        vertical-align: top;\n",
       "    }\n",
       "\n",
       "    .dataframe thead th {\n",
       "        text-align: right;\n",
       "    }\n",
       "</style>\n",
       "<table border=\"1\" class=\"dataframe\">\n",
       "  <thead>\n",
       "    <tr style=\"text-align: right;\">\n",
       "      <th></th>\n",
       "      <th>mean</th>\n",
       "      <th>std</th>\n",
       "      <th>count</th>\n",
       "    </tr>\n",
       "    <tr>\n",
       "      <th>code</th>\n",
       "      <th></th>\n",
       "      <th></th>\n",
       "      <th></th>\n",
       "    </tr>\n",
       "  </thead>\n",
       "  <tbody>\n",
       "    <tr>\n",
       "      <th>1</th>\n",
       "      <td>134.411765</td>\n",
       "      <td>49.619507</td>\n",
       "      <td>272</td>\n",
       "    </tr>\n",
       "    <tr>\n",
       "      <th>2</th>\n",
       "      <td>110.316279</td>\n",
       "      <td>29.518448</td>\n",
       "      <td>215</td>\n",
       "    </tr>\n",
       "    <tr>\n",
       "      <th>3</th>\n",
       "      <td>148.246377</td>\n",
       "      <td>70.573565</td>\n",
       "      <td>345</td>\n",
       "    </tr>\n",
       "    <tr>\n",
       "      <th>4</th>\n",
       "      <td>148.693780</td>\n",
       "      <td>73.656832</td>\n",
       "      <td>209</td>\n",
       "    </tr>\n",
       "    <tr>\n",
       "      <th>5</th>\n",
       "      <td>115.779762</td>\n",
       "      <td>31.507483</td>\n",
       "      <td>336</td>\n",
       "    </tr>\n",
       "    <tr>\n",
       "      <th>6</th>\n",
       "      <td>109.964981</td>\n",
       "      <td>32.976595</td>\n",
       "      <td>257</td>\n",
       "    </tr>\n",
       "    <tr>\n",
       "      <th>7</th>\n",
       "      <td>114.230088</td>\n",
       "      <td>33.897495</td>\n",
       "      <td>226</td>\n",
       "    </tr>\n",
       "    <tr>\n",
       "      <th>8</th>\n",
       "      <td>136.744444</td>\n",
       "      <td>48.639263</td>\n",
       "      <td>180</td>\n",
       "    </tr>\n",
       "  </tbody>\n",
       "</table>\n",
       "</div>"
      ],
      "text/plain": [
       "            mean        std  count\n",
       "code                              \n",
       "1     134.411765  49.619507    272\n",
       "2     110.316279  29.518448    215\n",
       "3     148.246377  70.573565    345\n",
       "4     148.693780  73.656832    209\n",
       "5     115.779762  31.507483    336\n",
       "6     109.964981  32.976595    257\n",
       "7     114.230088  33.897495    226\n",
       "8     136.744444  48.639263    180"
      ]
     },
     "execution_count": 82,
     "metadata": {},
     "output_type": "execute_result"
    }
   ],
   "source": [
    "df_agg = df.groupby('code')['price'].agg(['mean', 'std', 'count'])\n",
    "df_agg"
   ]
  },
  {
   "cell_type": "code",
   "execution_count": 83,
   "metadata": {},
   "outputs": [],
   "source": [
    "district = [\n",
    "    'Север, Калужско-Рижская', \n",
    "    'Север, Серпуховско-Тимирязевская', \n",
    "    'Северо-запад, Замоскворецкая', \n",
    "    'Северо-запад, Таганско-Краснопресненская', \n",
    "    'Юго-восток, Люблинская', \n",
    "    'Юго-восток, Таганско-Краснопресненская',\n",
    "    'Восток, Калининская', \n",
    "    'Восток, Арбатско-Покровская'\n",
    "]"
   ]
  },
  {
   "cell_type": "code",
   "execution_count": 84,
   "metadata": {},
   "outputs": [],
   "source": [
    "df['code'] = df['code'].map(dict(list(enumerate(district))))"
   ]
  },
  {
   "cell_type": "code",
   "execution_count": 85,
   "metadata": {},
   "outputs": [
    {
     "data": {
      "text/html": [
       "<div>\n",
       "<style scoped>\n",
       "    .dataframe tbody tr th:only-of-type {\n",
       "        vertical-align: middle;\n",
       "    }\n",
       "\n",
       "    .dataframe tbody tr th {\n",
       "        vertical-align: top;\n",
       "    }\n",
       "\n",
       "    .dataframe thead th {\n",
       "        text-align: right;\n",
       "    }\n",
       "</style>\n",
       "<table border=\"1\" class=\"dataframe\">\n",
       "  <thead>\n",
       "    <tr style=\"text-align: right;\">\n",
       "      <th></th>\n",
       "      <th>mean</th>\n",
       "      <th>std</th>\n",
       "      <th>count</th>\n",
       "    </tr>\n",
       "    <tr>\n",
       "      <th>code</th>\n",
       "      <th></th>\n",
       "      <th></th>\n",
       "      <th></th>\n",
       "    </tr>\n",
       "  </thead>\n",
       "  <tbody>\n",
       "    <tr>\n",
       "      <th>Восток, Арбатско-Покровская</th>\n",
       "      <td>114.230088</td>\n",
       "      <td>33.897495</td>\n",
       "      <td>226</td>\n",
       "    </tr>\n",
       "    <tr>\n",
       "      <th>Восток, Калининская</th>\n",
       "      <td>109.964981</td>\n",
       "      <td>32.976595</td>\n",
       "      <td>257</td>\n",
       "    </tr>\n",
       "    <tr>\n",
       "      <th>Север, Серпуховско-Тимирязевская</th>\n",
       "      <td>134.411765</td>\n",
       "      <td>49.619507</td>\n",
       "      <td>272</td>\n",
       "    </tr>\n",
       "    <tr>\n",
       "      <th>Северо-запад, Замоскворецкая</th>\n",
       "      <td>110.316279</td>\n",
       "      <td>29.518448</td>\n",
       "      <td>215</td>\n",
       "    </tr>\n",
       "    <tr>\n",
       "      <th>Северо-запад, Таганско-Краснопресненская</th>\n",
       "      <td>148.246377</td>\n",
       "      <td>70.573565</td>\n",
       "      <td>345</td>\n",
       "    </tr>\n",
       "    <tr>\n",
       "      <th>Юго-восток, Люблинская</th>\n",
       "      <td>148.693780</td>\n",
       "      <td>73.656832</td>\n",
       "      <td>209</td>\n",
       "    </tr>\n",
       "    <tr>\n",
       "      <th>Юго-восток, Таганско-Краснопресненская</th>\n",
       "      <td>115.779762</td>\n",
       "      <td>31.507483</td>\n",
       "      <td>336</td>\n",
       "    </tr>\n",
       "  </tbody>\n",
       "</table>\n",
       "</div>"
      ],
      "text/plain": [
       "                                                mean        std  count\n",
       "code                                                                  \n",
       "Восток, Арбатско-Покровская               114.230088  33.897495    226\n",
       "Восток, Калининская                       109.964981  32.976595    257\n",
       "Север, Серпуховско-Тимирязевская          134.411765  49.619507    272\n",
       "Северо-запад, Замоскворецкая              110.316279  29.518448    215\n",
       "Северо-запад, Таганско-Краснопресненская  148.246377  70.573565    345\n",
       "Юго-восток, Люблинская                    148.693780  73.656832    209\n",
       "Юго-восток, Таганско-Краснопресненская    115.779762  31.507483    336"
      ]
     },
     "execution_count": 85,
     "metadata": {},
     "output_type": "execute_result"
    }
   ],
   "source": [
    "df.groupby('code')['price'].agg(['mean', 'std', 'count'])"
   ]
  },
  {
   "cell_type": "code",
   "execution_count": 89,
   "metadata": {},
   "outputs": [],
   "source": [
    "alpha = 0.01\n",
    "df_agg['t_crit'] = df_agg['count'].apply(lambda n: stats.t(n - 1).ppf(1 - alpha/2))\n",
    "\n",
    "# на сколько отступать вправо и влево от математического ожидания\n",
    "df_agg['step'] =  df_agg['t_crit']  * df_agg['std']/np.sqrt(df_agg['count'])\n",
    "df_agg = df_agg.sort_values('mean')"
   ]
  },
  {
   "cell_type": "code",
   "execution_count": 90,
   "metadata": {},
   "outputs": [
    {
     "data": {
      "image/png": "[encoded data removed]",
      "text/plain": [
       "<Figure size 800x400 with 1 Axes>"
      ]
     },
     "metadata": {},
     "output_type": "display_data"
    }
   ],
   "source": [
    "center = df_agg['mean'].values\n",
    "step = df_agg['step'].values\n",
    "\n",
    "mu_hat = df.price.mean() # общее среднее \n",
    "\n",
    "plt.figure(figsize=(10,5))\n",
    "\n",
    "plt.errorbar(center, np.arange(center.size),  xerr=step, \n",
    "             capsize=0, fmt=\"o\", color=\"blue\")\n",
    "\n",
    "plt.yticks(np.arange(center.size), df_agg.index, fontsize=12);\n",
    "plt.axvline(mu_hat, 0, color='grey');"
   ]
  },
  {
   "cell_type": "markdown",
   "metadata": {},
   "source": [
    "__Выводы:__ \n",
    "\n",
    "- В среднем, самая дешевая недвижимость находится на Юго-востоке. Самая дорогая на Северо-западе. "
   ]
  },
  {
   "cell_type": "code",
   "execution_count": 91,
   "metadata": {},
   "outputs": [
    {
     "data": {
      "image/png": "[encoded data removed]",
      "text/plain": [
       "<Figure size 512x384 with 1 Axes>"
      ]
     },
     "metadata": {},
     "output_type": "display_data"
    }
   ],
   "source": [
    "order = df.dropna().groupby('code')['price'].mean().sort_values().index[::-1]\n",
    "\n",
    "sns.barplot(data=df.dropna(), y='code', x='price', orient='h',\n",
    "            order=order\n",
    "           );"
   ]
  },
  {
   "cell_type": "markdown",
   "metadata": {},
   "source": [
    "## Д.И. для разности средних"
   ]
  },
  {
   "cell_type": "markdown",
   "metadata": {},
   "source": [
    "### Ассимптотический"
   ]
  },
  {
   "cell_type": "markdown",
   "metadata": {},
   "source": [
    "Построим $95\\%$ асимптотический доверительный интервал для разницы в средней стоимости квартир в монолитных и панельных домах.\n",
    "\n",
    "$$\n",
    "\\bar x - \\bar y \\pm z_{crit} \\cdot \\sqrt{\\frac{\\hat\\sigma_x^2}{n_x} + \\frac{\\hat\\sigma_y^2}{n_y}}\n",
    "$$"
   ]
  },
  {
   "cell_type": "code",
   "execution_count": 92,
   "metadata": {},
   "outputs": [
    {
     "name": "stdout",
     "output_type": "stream",
     "text": [
      "Доверительный интервал [23.49; 34.36] ширины 10.87\n"
     ]
    }
   ],
   "source": [
    "x = df[df.brick == 1].price.values\n",
    "y = df[df.brick == 0].price.values\n",
    "\n",
    "diff = x.mean() - y.mean() \n",
    "nx, ny = x.size, y.size\n",
    "diff_sd = np.sqrt((x.var(ddof=1)/nx) + (y.var(ddof=1)/ny))\n",
    "\n",
    "left, right = stats.norm.interval(0.95, loc=diff, scale=diff_sd)\n",
    "print(\"Доверительный интервал [{:.4}; {:.4}] ширины {:.4}\".format(left, right, right - left))"
   ]
  },
  {
   "cell_type": "markdown",
   "metadata": {},
   "source": [
    "### Точный с одинаковыми дисперсиями"
   ]
  },
  {
   "cell_type": "markdown",
   "metadata": {},
   "source": [
    "Предположим, что дисперсии неизвестны, но равны.\n",
    "\n",
    "$$\n",
    "\\bar x - \\bar y \\pm t_{crit} \\cdot \\sqrt{\\frac{\\hat{\\sigma}^2}{n_x} + \\frac{\\hat{\\sigma}^2}{n_y}}\n",
    "$$\n",
    "\n",
    "где $\\hat{\\sigma}^{2}$ - объединенная дисперсия:\n",
    "$$\n",
    "\\hat{\\sigma}^{2}=\\frac{\\left(n_{x}-1\\right) \\hat{\\sigma}_{x}^{2}+\\left(n_{y}-1\\right) \\hat{\\sigma}_{y}^{2}}{n_{x}+n_{y}-2}\n",
    "$$\n"
   ]
  },
  {
   "cell_type": "code",
   "execution_count": 93,
   "metadata": {},
   "outputs": [
    {
     "name": "stdout",
     "output_type": "stream",
     "text": [
      "Доверительный интервал [24.28; 33.58] ширины 9.297\n"
     ]
    }
   ],
   "source": [
    "diff = x.mean() - y.mean()\n",
    "nx, ny = x.size, y.size\n",
    "\n",
    "s2 = ((nx - 1)*x.var() + (ny - 1)*y.var())/(nx + ny - 2)\n",
    "diff_sd = np.sqrt(s2/nx + s2/ny)\n",
    "\n",
    "left, right = stats.t.interval(0.95, df=(nx + ny - 2), loc=diff, scale=diff_sd)\n",
    "print(\"Доверительный интервал [{:.4}; {:.4}] ширины {:.4}\".format(left, right, right - left))"
   ]
  },
  {
   "cell_type": "markdown",
   "metadata": {},
   "source": [
    "### Точный с различными дисперсиями"
   ]
  },
  {
   "cell_type": "markdown",
   "metadata": {},
   "source": [
    "Предположим, что дисперсии неизвестны и не равны. Построим приближённый доверительный интервал (интервал Уэлча).\n",
    "\n",
    "\n",
    "$$\n",
    "\\bar x - \\bar y \\pm t_{crit}(\\nu) \\cdot \\sqrt{\\frac{\\hat{\\sigma}_x^2}{n_x} + \\frac{\\hat{\\sigma}_y^2}{n_y}}\n",
    "$$\n"
   ]
  },
  {
   "cell_type": "markdown",
   "metadata": {},
   "source": [
    "\n",
    "где $v$ – примерное число степеней свободы:\n",
    "\n",
    "$$\n",
    "v=\\frac{\\left(\\dfrac{\\hat{\\sigma}_{x}^{2}}{n_{x}}+\\dfrac{\\hat{\\sigma}_{y}^{2}}{n_{y}}\\right)^{2}}{\\dfrac{\\hat{\\sigma}_{x}^{4}}{n_{x}^{2}\\left(n_{x}-1\\right)}+\\dfrac{\\hat{\\sigma}_{y}^{4}}{n_{y}^{2}\\left(n_{y}-1\\right)}}\n",
    "$$\n"
   ]
  },
  {
   "cell_type": "code",
   "execution_count": 94,
   "metadata": {},
   "outputs": [
    {
     "data": {
      "text/plain": [
       "(4264.981392232218, 1668.1298841576563)"
      ]
     },
     "execution_count": 94,
     "metadata": {},
     "output_type": "execute_result"
    }
   ],
   "source": [
    "x.var(), y.var()"
   ]
  },
  {
   "cell_type": "code",
   "execution_count": 95,
   "metadata": {
    "scrolled": true
   },
   "outputs": [
    {
     "name": "stdout",
     "output_type": "stream",
     "text": [
      "Число степеней свободы: 911.4012642833161\n",
      "Доверительный интервал [23.49; 34.37] ширины 10.88\n"
     ]
    }
   ],
   "source": [
    "diff = x.mean() - y.mean()\n",
    "nx, ny = x.size, y.size\n",
    "diff_sd = np.sqrt(x.var()/nx + y.var()/ny)\n",
    "\n",
    "u = (x.var() / nx + y.var() / ny) ** 2\n",
    "d = (x.var()**2) / (nx**2 * (nx - 1)) + (y.var()**2)/ (ny**2* (ny - 1))\n",
    "nu =  u/d \n",
    "print(\"Число степеней свободы:\", nu)\n",
    "\n",
    "left, right = stats.t.interval(0.95, df=nu, loc=diff, scale=diff_sd)\n",
    "print(\"Доверительный интервал [{:.4}; {:.4}] ширины {:.4}\".format(left, right, right - left))\n"
   ]
  },
  {
   "cell_type": "code",
   "execution_count": 96,
   "metadata": {},
   "outputs": [
    {
     "data": {
      "text/plain": [
       "(659, 1381, True)"
      ]
     },
     "execution_count": 96,
     "metadata": {},
     "output_type": "execute_result"
    }
   ],
   "source": [
    "nx, ny, nx<ny"
   ]
  },
  {
   "cell_type": "code",
   "execution_count": 97,
   "metadata": {
    "scrolled": true
   },
   "outputs": [
    {
     "data": {
      "text/plain": [
       "(65.30682500498871, 40.842745796012004, False)"
      ]
     },
     "execution_count": 97,
     "metadata": {},
     "output_type": "execute_result"
    }
   ],
   "source": [
    "x.std(), y.std(), x.std()<y.std()  # Знаки не в ту сторону => при малых выборках не очень верим"
   ]
  },
  {
   "cell_type": "markdown",
   "metadata": {},
   "source": [
    "> Все три доверительных интервала из-за больших объёмов выборки снова оказались похожи. Выборочные дисперсии довольно сильно отличаются друг от друга, из-за этого использование доверительного интервала с предпосылкой об их равенстве некорректно."
   ]
  },
  {
   "cell_type": "markdown",
   "metadata": {},
   "source": [
    "__Выводы:__ \n",
    "\n",
    "- В среднем, на уровне значимости $5\\%$, квартиры в монолитных домах стоят дороже, чем в панельных. Ноль нигде не попадает в доверительный интервал.  "
   ]
  },
  {
   "cell_type": "markdown",
   "metadata": {},
   "source": [
    "## Д.И. для дисперсии"
   ]
  },
  {
   "cell_type": "markdown",
   "metadata": {},
   "source": [
    "Предполагая нормальность распределения цен, построим $95\\%$ доверительный интервал для дисперсии стоимости квартир. \n",
    "\n",
    "$$\n",
    "\\frac{(n - 1) \\cdot \\hat{\\sigma}^2}{\\chi_{n-1}^2 \\left(\\frac{\\alpha}{2} \\right)} \\le \\sigma^2 \\le \\frac{(n - 1) \\cdot \\hat{\\sigma}^2}{\\chi_{n-1}^2 \\left(1 - \\frac{\\alpha}{2} \\right)}\n",
    "$$\n",
    "\n",
    "\n",
    "> __Предположения:__ \n",
    "Выборка пришла из нормального распределения, математическое ожидание неизвестно, выполняется теорема Фишера\n"
   ]
  },
  {
   "cell_type": "code",
   "execution_count": 98,
   "metadata": {},
   "outputs": [
    {
     "name": "stdout",
     "output_type": "stream",
     "text": [
      "Доверительный интервал [2533.5; 2864.5] ширины 331.01\n"
     ]
    }
   ],
   "source": [
    "alpha = 0.05 \n",
    "\n",
    "n = df.price.count()\n",
    "var_hat = df.price.var(ddof=1)\n",
    "\n",
    "chi_l, chi_u = stats.chi2.ppf([1-alpha/2, alpha/2], df = n-1)\n",
    "\n",
    "left = (n-1) * var_hat/chi_l\n",
    "right = (n-1) * var_hat/chi_u\n",
    "\n",
    "print(\"Доверительный интервал [{:.5}; {:.5}] ширины {:.5}\".format(left, right, right - left))\n"
   ]
  },
  {
   "cell_type": "markdown",
   "metadata": {},
   "source": [
    "Сделаем то же самое, но в разбивке по районам. "
   ]
  },
  {
   "cell_type": "code",
   "execution_count": 99,
   "metadata": {},
   "outputs": [
    {
     "data": {
      "text/html": [
       "<div>\n",
       "<style scoped>\n",
       "    .dataframe tbody tr th:only-of-type {\n",
       "        vertical-align: middle;\n",
       "    }\n",
       "\n",
       "    .dataframe tbody tr th {\n",
       "        vertical-align: top;\n",
       "    }\n",
       "\n",
       "    .dataframe thead th {\n",
       "        text-align: right;\n",
       "    }\n",
       "</style>\n",
       "<table border=\"1\" class=\"dataframe\">\n",
       "  <thead>\n",
       "    <tr style=\"text-align: right;\">\n",
       "      <th></th>\n",
       "      <th>var</th>\n",
       "      <th>count</th>\n",
       "      <th>ch_l</th>\n",
       "      <th>ch_u</th>\n",
       "      <th>left</th>\n",
       "      <th>right</th>\n",
       "    </tr>\n",
       "    <tr>\n",
       "      <th>code</th>\n",
       "      <th></th>\n",
       "      <th></th>\n",
       "      <th></th>\n",
       "      <th></th>\n",
       "      <th></th>\n",
       "      <th></th>\n",
       "    </tr>\n",
       "  </thead>\n",
       "  <tbody>\n",
       "    <tr>\n",
       "      <th>Северо-запад, Замоскворецкая</th>\n",
       "      <td>871.338752</td>\n",
       "      <td>215</td>\n",
       "      <td>256.407893</td>\n",
       "      <td>175.378164</td>\n",
       "      <td>727.226026</td>\n",
       "      <td>1063.225252</td>\n",
       "    </tr>\n",
       "    <tr>\n",
       "      <th>Юго-восток, Таганско-Краснопресненская</th>\n",
       "      <td>992.721500</td>\n",
       "      <td>336</td>\n",
       "      <td>387.599359</td>\n",
       "      <td>286.187623</td>\n",
       "      <td>858.003747</td>\n",
       "      <td>1162.040827</td>\n",
       "    </tr>\n",
       "    <tr>\n",
       "      <th>Восток, Калининская</th>\n",
       "      <td>1087.455800</td>\n",
       "      <td>257</td>\n",
       "      <td>302.211810</td>\n",
       "      <td>213.574668</td>\n",
       "      <td>921.170767</td>\n",
       "      <td>1303.472401</td>\n",
       "    </tr>\n",
       "    <tr>\n",
       "      <th>Восток, Арбатско-Покровская</th>\n",
       "      <td>1149.040157</td>\n",
       "      <td>226</td>\n",
       "      <td>268.437839</td>\n",
       "      <td>185.348344</td>\n",
       "      <td>963.105785</td>\n",
       "      <td>1394.854843</td>\n",
       "    </tr>\n",
       "    <tr>\n",
       "      <th>Север, Серпуховско-Тимирязевская</th>\n",
       "      <td>2462.095507</td>\n",
       "      <td>272</td>\n",
       "      <td>318.493509</td>\n",
       "      <td>227.293087</td>\n",
       "      <td>2094.949704</td>\n",
       "      <td>2935.539707</td>\n",
       "    </tr>\n",
       "    <tr>\n",
       "      <th>Северо-запад, Таганско-Краснопресненская</th>\n",
       "      <td>4980.628075</td>\n",
       "      <td>345</td>\n",
       "      <td>397.276692</td>\n",
       "      <td>294.510332</td>\n",
       "      <td>4312.702181</td>\n",
       "      <td>5817.575378</td>\n",
       "    </tr>\n",
       "    <tr>\n",
       "      <th>Юго-восток, Люблинская</th>\n",
       "      <td>5425.328855</td>\n",
       "      <td>209</td>\n",
       "      <td>249.834911</td>\n",
       "      <td>169.951073</td>\n",
       "      <td>4516.856343</td>\n",
       "      <td>6639.960458</td>\n",
       "    </tr>\n",
       "  </tbody>\n",
       "</table>\n",
       "</div>"
      ],
      "text/plain": [
       "                                                  var  count        ch_l  \\\n",
       "code                                                                       \n",
       "Северо-запад, Замоскворецкая               871.338752    215  256.407893   \n",
       "Юго-восток, Таганско-Краснопресненская     992.721500    336  387.599359   \n",
       "Восток, Калининская                       1087.455800    257  302.211810   \n",
       "Восток, Арбатско-Покровская               1149.040157    226  268.437839   \n",
       "Север, Серпуховско-Тимирязевская          2462.095507    272  318.493509   \n",
       "Северо-запад, Таганско-Краснопресненская  4980.628075    345  397.276692   \n",
       "Юго-восток, Люблинская                    5425.328855    209  249.834911   \n",
       "\n",
       "                                                ch_u         left        right  \n",
       "code                                                                            \n",
       "Северо-запад, Замоскворецкая              175.378164   727.226026  1063.225252  \n",
       "Юго-восток, Таганско-Краснопресненская    286.187623   858.003747  1162.040827  \n",
       "Восток, Калининская                       213.574668   921.170767  1303.472401  \n",
       "Восток, Арбатско-Покровская               185.348344   963.105785  1394.854843  \n",
       "Север, Серпуховско-Тимирязевская          227.293087  2094.949704  2935.539707  \n",
       "Северо-запад, Таганско-Краснопресненская  294.510332  4312.702181  5817.575378  \n",
       "Юго-восток, Люблинская                    169.951073  4516.856343  6639.960458  "
      ]
     },
     "execution_count": 99,
     "metadata": {},
     "output_type": "execute_result"
    }
   ],
   "source": [
    "df_agg = df.groupby('code')['price'].agg(['var', 'count'])\n",
    "\n",
    "alpha = 0.05\n",
    "df_agg['ch_l'] = df_agg['count'].apply(lambda n: stats.chi2.ppf(1-alpha/2, df = n-1))\n",
    "df_agg['ch_u'] = df_agg['count'].apply(lambda n: stats.chi2.ppf(alpha/2, df = n-1))\n",
    "\n",
    "df_agg['left'] =  (df_agg['count']-1) * df_agg['var']/df_agg['ch_l']\n",
    "df_agg['right'] =  (df_agg['count']-1) * df_agg['var']/df_agg['ch_u']\n",
    "\n",
    "df_agg = df_agg.sort_values('var')\n",
    "df_agg"
   ]
  },
  {
   "cell_type": "code",
   "execution_count": 100,
   "metadata": {},
   "outputs": [
    {
     "data": {
      "image/png": "[encoded data removed]",
      "text/plain": [
       "<Figure size 800x400 with 1 Axes>"
      ]
     },
     "metadata": {},
     "output_type": "display_data"
    }
   ],
   "source": [
    "center = df_agg['var'].values\n",
    "step = np.array([df_agg['var'].values - df_agg['left'].values, \n",
    "                 df_agg['right'].values - df_agg['var'].values])\n",
    "\n",
    "var_hat = df.price.var()\n",
    "\n",
    "plt.figure(figsize=(10,5))\n",
    "\n",
    "plt.errorbar(center, np.arange(center.size),  xerr = step, \n",
    "             capsize=0, fmt=\"o\", color='blue')\n",
    "\n",
    "# plt.yticks(np.arange(center.size - 1, -1, -1), district, fontsize=12);\n",
    "# plt.yticks(np.arange(center.size), district, fontsize=12);\n",
    "plt.yticks(np.arange(center.size), df_agg.index, fontsize=12);\n",
    "plt.axvline(var_hat, 0, color='grey');"
   ]
  },
  {
   "cell_type": "code",
   "execution_count": 101,
   "metadata": {},
   "outputs": [
    {
     "data": {
      "image/png": "[encoded data removed]",
      "text/plain": [
       "<Figure size 512x384 with 1 Axes>"
      ]
     },
     "metadata": {},
     "output_type": "display_data"
    }
   ],
   "source": [
    "order = df.dropna().groupby('code')['price'].var().sort_values().index[::-1]\n",
    "\n",
    "sns.barplot(data=df.dropna(), y='code', x='price', orient='h',\n",
    "            estimator = np.var,\n",
    "            order=order\n",
    "           );"
   ]
  },
  {
   "cell_type": "markdown",
   "metadata": {},
   "source": [
    "__Выводы:__ \n",
    "\n",
    "- На Юго-Востоке самый большой разброс в ценах. Как покупатель, я найду здесь более разнообразные предложения. Так происходит из-за того, что с одной стороны районы близки к центру и здесь есть респектабельная недвижимость. С другой стороны, в районах довольно много советской застройки с плохой планировкой и ремонтом. "
   ]
  },
  {
   "cell_type": "markdown",
   "metadata": {},
   "source": [
    "## Д.И. для отношения дисперсий"
   ]
  },
  {
   "cell_type": "markdown",
   "metadata": {},
   "source": [
    "Предполагая нормальность распределения, построим $95\\%$-ый доверительный интервал для отношения дисперсии стоимости квартир в монолитных домах и в панельных домах. \n",
    "\n",
    "\n",
    "$$\n",
    "\\frac{\\hat{\\sigma}^2_x}{\\hat{\\sigma}^2_y} \\cdot F_{\\frac{\\alpha}{2}}(n_x-1,n_y-1) \\le \\frac{\\sigma^2_x}{\\sigma^2_y} \\le  \\frac{\\hat{\\sigma}^2_x}{\\hat{\\sigma}^2_y} \\cdot F_{1 - \\frac{\\alpha}{2}}(n_x-1,n_y-1)\n",
    "$$"
   ]
  },
  {
   "cell_type": "code",
   "execution_count": 102,
   "metadata": {},
   "outputs": [
    {
     "name": "stdout",
     "output_type": "stream",
     "text": [
      "Доверительный интервал [0.34243; 0.44536] ширины 0.10293\n"
     ]
    }
   ],
   "source": [
    "alpha = 0.05\n",
    "\n",
    "x = df[df.brick == 1].price.values\n",
    "y = df[df.brick == 0].price.values\n",
    "\n",
    "n, m = x.size - 1, y.size - 1\n",
    "sn, sm = x.var(), y.var()\n",
    "\n",
    "ratio = sm / sn\n",
    "\n",
    "left = ratio * stats.f(n, m).ppf(alpha/2)\n",
    "right = ratio * stats.f(n, m).ppf(1 - alpha/2)\n",
    "\n",
    "print(\"Доверительный интервал [{:.5}; {:.5}] ширины {:.5}\".format(left, right, right - left))"
   ]
  },
  {
   "cell_type": "code",
   "execution_count": 103,
   "metadata": {},
   "outputs": [
    {
     "data": {
      "text/plain": [
       "0.39112242955990617"
      ]
     },
     "execution_count": 103,
     "metadata": {},
     "output_type": "execute_result"
    }
   ],
   "source": [
    "ratio"
   ]
  },
  {
   "cell_type": "code",
   "execution_count": 104,
   "metadata": {},
   "outputs": [
    {
     "data": {
      "text/plain": [
       "(65.30682500498871, 40.842745796012004)"
      ]
     },
     "execution_count": 104,
     "metadata": {},
     "output_type": "execute_result"
    }
   ],
   "source": [
    "x.std(), y.std()"
   ]
  },
  {
   "cell_type": "markdown",
   "metadata": {},
   "source": [
    "__Выводы:__ \n",
    "\n",
    "- Единица не попала в доверительный интервал. Дисперсии в ценах на монолитное жильё и на панельное различаются. Цены на кирпичное жильё обладают более высокой дисперсией. "
   ]
  },
  {
   "cell_type": "markdown",
   "metadata": {},
   "source": [
    "### Причем тут единица?"
   ]
  },
  {
   "cell_type": "code",
   "execution_count": 105,
   "metadata": {},
   "outputs": [
    {
     "data": {
      "text/plain": [
       "([0.7, 0, 9], [0.4, 1.3])"
      ]
     },
     "execution_count": 105,
     "metadata": {},
     "output_type": "execute_result"
    }
   ],
   "source": [
    "ratio = 0.8 # = x.var()/y.var()\n",
    "\n",
    "[0.7, 0,9] , [0.4, 1.3]"
   ]
  },
  {
   "cell_type": "code",
   "execution_count": null,
   "metadata": {},
   "outputs": [],
   "source": [
    "# если x.var()/y.var() in [0.7, 0,9] => x менее волаитлен по сравнению с y"
   ]
  },
  {
   "cell_type": "code",
   "execution_count": null,
   "metadata": {},
   "outputs": [],
   "source": [
    "# если x.var()/y.var() in [0.4, 1) => x менее волаитлен по сравнению с y\n",
    "# если x.var()/y.var() in (1, 1.3) => y менее волаитлен по сравнению с x"
   ]
  },
  {
   "cell_type": "markdown",
   "metadata": {},
   "source": [
    "## А можно ли было пользоваться нормальным распределением? \n",
    "\n",
    "Распределение цен выглядит не очень нормальным. "
   ]
  },
  {
   "cell_type": "code",
   "execution_count": 106,
   "metadata": {},
   "outputs": [
    {
     "data": {
      "image/png": "[encoded data removed]",
      "text/plain": [
       "<Figure size 512x384 with 1 Axes>"
      ]
     },
     "metadata": {},
     "output_type": "display_data"
    }
   ],
   "source": [
    "# df.price.hist(bins=80, density=True);\n",
    "sns.histplot(df['price'], kde=True);"
   ]
  },
  {
   "cell_type": "markdown",
   "metadata": {},
   "source": [
    "Распределение логарифмов цен оказывается более похожим на нормальное."
   ]
  },
  {
   "cell_type": "code",
   "execution_count": 107,
   "metadata": {},
   "outputs": [
    {
     "data": {
      "image/png": "[encoded data removed]",
      "text/plain": [
       "<Figure size 512x384 with 1 Axes>"
      ]
     },
     "metadata": {},
     "output_type": "display_data"
    }
   ],
   "source": [
    "df.price.apply(np.log).hist(bins=50, density=True);\n",
    "\n",
    "x = df.price.apply(np.log).values\n",
    "\n",
    "xs = np.linspace(3.5, 7, 300)\n",
    "ys = stats.norm(loc=np.mean(x), scale=np.std(x, ddof=1)).pdf(xs)\n",
    "plt.plot(xs, ys, color=\"black\");"
   ]
  },
  {
   "cell_type": "markdown",
   "metadata": {},
   "source": [
    "Можно формально проверить гипотезу о том, имеет ли какая-то выборка нормальное распределение с помощью теста Колмогорова-Смирнова. О нём мы подробнее поговорим в будущем, а сейчас просто воспользуемся. "
   ]
  },
  {
   "cell_type": "code",
   "execution_count": 108,
   "metadata": {},
   "outputs": [
    {
     "name": "stdout",
     "output_type": "stream",
     "text": [
      "Help on function kstest in module scipy.stats._stats_py:\n",
      "\n",
      "kstest(rvs, cdf, args=(), N=20, alternative='two-sided', method='auto')\n",
      "    Performs the (one-sample or two-sample) Kolmogorov-Smirnov test for\n",
      "    goodness of fit.\n",
      "    \n",
      "    The one-sample test compares the underlying distribution F(x) of a sample\n",
      "    against a given distribution G(x). The two-sample test compares the\n",
      "    underlying distributions of two independent samples. Both tests are valid\n",
      "    only for continuous distributions.\n",
      "    \n",
      "    Parameters\n",
      "    ----------\n",
      "    rvs : str, array_like, or callable\n",
      "        If an array, it should be a 1-D array of observations of random\n",
      "        variables.\n",
      "        If a callable, it should be a function to generate random variables;\n",
      "        it is required to have a keyword argument `size`.\n",
      "        If a string, it should be the name of a distribution in `scipy.stats`,\n",
      "        which will be used to generate random variables.\n",
      "    cdf : str, array_like or callable\n",
      "        If array_like, it should be a 1-D array of observations of random\n",
      "        variables, and the two-sample test is performed\n",
      "        (and rvs must be array_like).\n",
      "        If a callable, that callable is used to calculate the cdf.\n",
      "        If a string, it should be the name of a distribution in `scipy.stats`,\n",
      "        which will be used as the cdf function.\n",
      "    args : tuple, sequence, optional\n",
      "        Distribution parameters, used if `rvs` or `cdf` are strings or\n",
      "        callables.\n",
      "    N : int, optional\n",
      "        Sample size if `rvs` is string or callable.  Default is 20.\n",
      "    alternative : {'two-sided', 'less', 'greater'}, optional\n",
      "        Defines the null and alternative hypotheses. Default is 'two-sided'.\n",
      "        Please see explanations in the Notes below.\n",
      "    method : {'auto', 'exact', 'approx', 'asymp'}, optional\n",
      "        Defines the distribution used for calculating the p-value.\n",
      "        The following options are available (default is 'auto'):\n",
      "    \n",
      "          * 'auto' : selects one of the other options.\n",
      "          * 'exact' : uses the exact distribution of test statistic.\n",
      "          * 'approx' : approximates the two-sided probability with twice the\n",
      "            one-sided probability\n",
      "          * 'asymp': uses asymptotic distribution of test statistic\n",
      "    \n",
      "    Returns\n",
      "    -------\n",
      "    res: KstestResult\n",
      "        An object containing attributes:\n",
      "    \n",
      "        statistic : float\n",
      "            KS test statistic, either D+, D-, or D (the maximum of the two)\n",
      "        pvalue : float\n",
      "            One-tailed or two-tailed p-value.\n",
      "        statistic_location : float\n",
      "            In a one-sample test, this is the value of `rvs`\n",
      "            corresponding with the KS statistic; i.e., the distance between\n",
      "            the empirical distribution function and the hypothesized cumulative\n",
      "            distribution function is measured at this observation.\n",
      "    \n",
      "            In a two-sample test, this is the value from `rvs` or `cdf`\n",
      "            corresponding with the KS statistic; i.e., the distance between\n",
      "            the empirical distribution functions is measured at this\n",
      "            observation.\n",
      "        statistic_sign : int\n",
      "            In a one-sample test, this is +1 if the KS statistic is the\n",
      "            maximum positive difference between the empirical distribution\n",
      "            function and the hypothesized cumulative distribution function\n",
      "            (D+); it is -1 if the KS statistic is the maximum negative\n",
      "            difference (D-).\n",
      "    \n",
      "            In a two-sample test, this is +1 if the empirical distribution\n",
      "            function of `rvs` exceeds the empirical distribution\n",
      "            function of `cdf` at `statistic_location`, otherwise -1.\n",
      "    \n",
      "    See Also\n",
      "    --------\n",
      "    ks_1samp, ks_2samp\n",
      "    \n",
      "    Notes\n",
      "    -----\n",
      "    There are three options for the null and corresponding alternative\n",
      "    hypothesis that can be selected using the `alternative` parameter.\n",
      "    \n",
      "    - `two-sided`: The null hypothesis is that the two distributions are\n",
      "      identical, F(x)=G(x) for all x; the alternative is that they are not\n",
      "      identical.\n",
      "    \n",
      "    - `less`: The null hypothesis is that F(x) >= G(x) for all x; the\n",
      "      alternative is that F(x) < G(x) for at least one x.\n",
      "    \n",
      "    - `greater`: The null hypothesis is that F(x) <= G(x) for all x; the\n",
      "      alternative is that F(x) > G(x) for at least one x.\n",
      "    \n",
      "    Note that the alternative hypotheses describe the *CDFs* of the\n",
      "    underlying distributions, not the observed values. For example,\n",
      "    suppose x1 ~ F and x2 ~ G. If F(x) > G(x) for all x, the values in\n",
      "    x1 tend to be less than those in x2.\n",
      "    \n",
      "    \n",
      "    Examples\n",
      "    --------\n",
      "    Suppose we wish to test the null hypothesis that a sample is distributed\n",
      "    according to the standard normal.\n",
      "    We choose a confidence level of 95%; that is, we will reject the null\n",
      "    hypothesis in favor of the alternative if the p-value is less than 0.05.\n",
      "    \n",
      "    When testing uniformly distributed data, we would expect the\n",
      "    null hypothesis to be rejected.\n",
      "    \n",
      "    >>> import numpy as np\n",
      "    >>> from scipy import stats\n",
      "    >>> rng = np.random.default_rng()\n",
      "    >>> stats.kstest(stats.uniform.rvs(size=100, random_state=rng),\n",
      "    ...              stats.norm.cdf)\n",
      "    KstestResult(statistic=0.5001899973268688, pvalue=1.1616392184763533e-23)\n",
      "    \n",
      "    Indeed, the p-value is lower than our threshold of 0.05, so we reject the\n",
      "    null hypothesis in favor of the default \"two-sided\" alternative: the data\n",
      "    are *not* distributed according to the standard normal.\n",
      "    \n",
      "    When testing random variates from the standard normal distribution, we\n",
      "    expect the data to be consistent with the null hypothesis most of the time.\n",
      "    \n",
      "    >>> x = stats.norm.rvs(size=100, random_state=rng)\n",
      "    >>> stats.kstest(x, stats.norm.cdf)\n",
      "    KstestResult(statistic=0.05345882212970396, pvalue=0.9227159037744717)\n",
      "    \n",
      "    As expected, the p-value of 0.92 is not below our threshold of 0.05, so\n",
      "    we cannot reject the null hypothesis.\n",
      "    \n",
      "    Suppose, however, that the random variates are distributed according to\n",
      "    a normal distribution that is shifted toward greater values. In this case,\n",
      "    the cumulative density function (CDF) of the underlying distribution tends\n",
      "    to be *less* than the CDF of the standard normal. Therefore, we would\n",
      "    expect the null hypothesis to be rejected with ``alternative='less'``:\n",
      "    \n",
      "    >>> x = stats.norm.rvs(size=100, loc=0.5, random_state=rng)\n",
      "    >>> stats.kstest(x, stats.norm.cdf, alternative='less')\n",
      "    KstestResult(statistic=0.17482387821055168, pvalue=0.001913921057766743)\n",
      "    \n",
      "    and indeed, with p-value smaller than our threshold, we reject the null\n",
      "    hypothesis in favor of the alternative.\n",
      "    \n",
      "    For convenience, the previous test can be performed using the name of the\n",
      "    distribution as the second argument.\n",
      "    \n",
      "    >>> stats.kstest(x, \"norm\", alternative='less')\n",
      "    KstestResult(statistic=0.17482387821055168, pvalue=0.001913921057766743)\n",
      "    \n",
      "    The examples above have all been one-sample tests identical to those\n",
      "    performed by `ks_1samp`. Note that `kstest` can also perform two-sample\n",
      "    tests identical to those performed by `ks_2samp`. For example, when two\n",
      "    samples are drawn from the same distribution, we expect the data to be\n",
      "    consistent with the null hypothesis most of the time.\n",
      "    \n",
      "    >>> sample1 = stats.laplace.rvs(size=105, random_state=rng)\n",
      "    >>> sample2 = stats.laplace.rvs(size=95, random_state=rng)\n",
      "    >>> stats.kstest(sample1, sample2)\n",
      "    KstestResult(statistic=0.11779448621553884, pvalue=0.4494256912629795)\n",
      "    \n",
      "    As expected, the p-value of 0.45 is not below our threshold of 0.05, so\n",
      "    we cannot reject the null hypothesis.\n",
      "\n"
     ]
    }
   ],
   "source": [
    "help(stats.kstest)"
   ]
  },
  {
   "cell_type": "code",
   "execution_count": 109,
   "metadata": {},
   "outputs": [
    {
     "data": {
      "text/plain": [
       "KstestResult(statistic=0.1508501598050489, pvalue=5.415515510735646e-41, statistic_location=140, statistic_sign=1)"
      ]
     },
     "execution_count": 109,
     "metadata": {},
     "output_type": "execute_result"
    }
   ],
   "source": [
    "stats.kstest(df.price, 'norm', args=(df.price.mean(), df.price.std(ddof=1)))"
   ]
  },
  {
   "cell_type": "code",
   "execution_count": 110,
   "metadata": {},
   "outputs": [
    {
     "data": {
      "text/plain": [
       "KstestResult(statistic=0.07697286130504083, pvalue=5.856877429594e-11, statistic_location=4.787491742782046, statistic_sign=1)"
      ]
     },
     "execution_count": 110,
     "metadata": {},
     "output_type": "execute_result"
    }
   ],
   "source": [
    "stats.kstest(x, 'norm', args=(np.mean(x), np.std(x, ddof=1)))"
   ]
  },
  {
   "cell_type": "markdown",
   "metadata": {},
   "source": [
    "В обоих ситуациях `pvalue` очень низкое, это говорит о том, что выборка не распределена нормально."
   ]
  },
  {
   "cell_type": "markdown",
   "metadata": {},
   "source": [
    " "
   ]
  }
 ],
 "metadata": {
  "kernelspec": {
   "display_name": "Python 3 (ipykernel)",
   "language": "python",
   "name": "python3"
  },
  "language_info": {
   "codemirror_mode": {
    "name": "ipython",
    "version": 3
   },
   "file_extension": ".py",
   "mimetype": "text/x-python",
   "name": "python",
   "nbconvert_exporter": "python",
   "pygments_lexer": "ipython3",
   "version": "3.11.4"
  },
  "toc": {
   "base_numbering": 1,
   "nav_menu": {},
   "number_sections": false,
   "sideBar": true,
   "skip_h1_title": false,
   "title_cell": "Table of Contents",
   "title_sidebar": "Contents",
   "toc_cell": true,
   "toc_position": {
    "height": "calc(100% - 180px)",
    "left": "10px",
    "top": "150px",
    "width": "254.819px"
   },
   "toc_section_display": true,
   "toc_window_display": true
  }
 },
 "nbformat": 4,
 "nbformat_minor": 2
}
